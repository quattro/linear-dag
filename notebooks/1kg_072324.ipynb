{
 "cells": [
  {
   "cell_type": "code",
   "id": "ae0454c6-ea30-4d87-8f9e-dedd7894a5ae",
   "metadata": {
    "ExecuteTime": {
     "end_time": "2024-07-23T19:47:46.372893Z",
     "start_time": "2024-07-23T19:47:45.842601Z"
    }
   },
   "source": [
    "import linear_dag as ld\n",
    "from linear_dag.brick_graph_py import BrickGraphPy\n",
    "import numpy as np\n",
    "import os\n",
    "import networkx as nx\n",
    "from linear_dag.linear_arg_inference import *\n",
    "from scipy.sparse import csc_matrix, csr_matrix, eye, triu, tril\n",
    "from scipy.sparse.linalg import inv\n",
    "from miscellaneous import say_done, af_equal"
   ],
   "outputs": [],
   "execution_count": 1
  },
  {
   "cell_type": "code",
   "source": [
    "path = \"/Users/loconnor/Dropbox/linearARG/linearg_shared/data/1kg_ALL_chr22_47876022_49355984_MAF_0.01_RF_0.01_T_8.genos\"\n",
    "genotypes, _, _ = ld.genotype.load_genotypes(path)"
   ],
   "metadata": {
    "collapsed": false,
    "ExecuteTime": {
     "end_time": "2024-07-23T19:47:46.658610Z",
     "start_time": "2024-07-23T19:47:46.373972Z"
    }
   },
   "id": "61eff34157a4c876",
   "outputs": [
    {
     "name": "stdout",
     "output_type": "stream",
     "text": [
      "kept_variants: (16233,)\n"
     ]
    }
   ],
   "execution_count": 2
  },
  {
   "cell_type": "code",
   "source": [
    "geno_small = genotypes[:, :1000]\n",
    "ac = np.diff(geno_small.indptr)\n",
    "geno_small = geno_small[:, ac > 1]"
   ],
   "metadata": {
    "collapsed": false,
    "ExecuteTime": {
     "end_time": "2024-07-23T19:47:46.665450Z",
     "start_time": "2024-07-23T19:47:46.659403Z"
    }
   },
   "id": "a2493e40b9729261",
   "outputs": [],
   "execution_count": 3
  },
  {
   "metadata": {
    "ExecuteTime": {
     "end_time": "2024-07-23T19:47:52.033990Z",
     "start_time": "2024-07-23T19:47:47.579147Z"
    }
   },
   "cell_type": "code",
   "source": "linarg = ld.LinearARG.from_genotypes(geno_small, recombination_method=\"after\", brick_graph_method=\"new\")\n",
   "id": "d09f7adc6206781f",
   "outputs": [
    {
     "name": "stdout",
     "output_type": "stream",
     "text": [
      "0\n",
      "0\n",
      "0\n",
      "0\n",
      "0\n",
      "0\n",
      "0\n",
      "0\n",
      "0\n",
      "0\n",
      "0\n",
      "0\n",
      "0\n",
      "5\n",
      "0\n",
      "0\n",
      "0\n",
      "0\n",
      "0\n",
      "0\n",
      "0\n",
      "0\n",
      "0\n",
      "0\n",
      "0\n",
      "0\n",
      "0\n",
      "0\n",
      "0\n",
      "0\n",
      "7\n",
      "0\n",
      "0\n",
      "0\n",
      "0\n",
      "0\n",
      "0\n",
      "0\n",
      "0\n",
      "0\n",
      "0\n",
      "0\n",
      "0\n",
      "0\n",
      "0\n",
      "0\n",
      "0\n",
      "0\n",
      "0\n",
      "0\n",
      "0\n",
      "0\n",
      "0\n",
      "0\n",
      "0\n",
      "0\n",
      "0\n",
      "0\n",
      "0\n",
      "8\n",
      "0\n",
      "0\n",
      "0\n",
      "0\n",
      "0\n",
      "0\n",
      "0\n",
      "0\n",
      "0\n",
      "0\n",
      "0\n",
      "0\n",
      "0\n",
      "0\n",
      "0\n",
      "0\n",
      "0\n",
      "0\n",
      "0\n",
      "0\n",
      "0\n",
      "0\n",
      "0\n",
      "0\n",
      "0\n",
      "0\n",
      "0\n",
      "0\n",
      "0\n",
      "0\n",
      "0\n",
      "0\n",
      "0\n",
      "0\n",
      "0\n",
      "0\n",
      "18\n",
      "0\n",
      "0\n",
      "0\n",
      "0\n",
      "0\n",
      "0\n",
      "0\n",
      "0\n",
      "0\n",
      "0\n",
      "0\n",
      "0\n",
      "0\n",
      "0\n",
      "0\n",
      "0\n",
      "0\n",
      "0\n",
      "0\n",
      "0\n",
      "0\n",
      "0\n",
      "0\n",
      "0\n",
      "0\n",
      "0\n",
      "0\n",
      "0\n",
      "0\n",
      "0\n",
      "0\n",
      "0\n",
      "22\n",
      "0\n",
      "0\n",
      "0\n",
      "0\n",
      "0\n",
      "23\n",
      "0\n",
      "0\n",
      "0\n",
      "0\n",
      "0\n",
      "0\n",
      "0\n",
      "0\n",
      "0\n",
      "0\n",
      "0\n",
      "0\n",
      "0\n",
      "0\n",
      "0\n",
      "0\n",
      "0\n",
      "0\n",
      "0\n",
      "0\n",
      "0\n",
      "0\n",
      "0\n",
      "0\n",
      "0\n",
      "0\n",
      "0\n",
      "0\n",
      "0\n",
      "0\n",
      "0\n",
      "0\n",
      "0\n",
      "0\n",
      "0\n",
      "0\n",
      "0\n",
      "0\n",
      "0\n",
      "0\n",
      "0\n",
      "0\n",
      "0\n",
      "0\n",
      "0\n",
      "0\n",
      "0\n",
      "0\n",
      "0\n",
      "0\n",
      "0\n",
      "0\n",
      "0\n",
      "0\n",
      "0\n",
      "0\n",
      "0\n",
      "0\n",
      "0\n",
      "0\n",
      "0\n",
      "0\n",
      "0\n",
      "0\n",
      "0\n",
      "0\n",
      "0\n",
      "0\n",
      "0\n",
      "0\n",
      "0\n",
      "0\n",
      "0\n",
      "0\n",
      "0\n",
      "0\n",
      "0\n",
      "0\n",
      "0\n",
      "0\n",
      "0\n",
      "0\n",
      "0\n",
      "0\n",
      "0\n",
      "0\n",
      "0\n",
      "0\n",
      "0\n",
      "0\n",
      "0\n",
      "0\n",
      "0\n",
      "0\n",
      "0\n",
      "0\n",
      "0\n",
      "0\n",
      "0\n",
      "0\n",
      "0\n",
      "0\n",
      "0\n",
      "0\n",
      "0\n",
      "0\n",
      "0\n",
      "0\n",
      "0\n",
      "0\n",
      "0\n",
      "0\n",
      "0\n",
      "0\n",
      "0\n",
      "0\n",
      "0\n",
      "0\n",
      "0\n",
      "0\n",
      "0\n",
      "0\n",
      "0\n",
      "0\n",
      "0\n",
      "0\n",
      "0\n",
      "0\n",
      "0\n",
      "0\n",
      "0\n",
      "0\n",
      "0\n",
      "0\n",
      "0\n",
      "0\n",
      "0\n",
      "0\n",
      "0\n",
      "0\n",
      "0\n",
      "0\n",
      "0\n",
      "0\n",
      "0\n",
      "0\n",
      "0\n",
      "0\n",
      "0\n",
      "0\n",
      "0\n",
      "0\n",
      "0\n",
      "0\n",
      "0\n",
      "0\n",
      "0\n",
      "0\n",
      "0\n",
      "0\n",
      "0\n",
      "0\n",
      "0\n",
      "0\n",
      "0\n",
      "0\n",
      "0\n",
      "0\n",
      "0\n",
      "0\n",
      "0\n",
      "0\n",
      "0\n",
      "0\n",
      "0\n",
      "0\n",
      "0\n",
      "0\n",
      "0\n",
      "0\n",
      "0\n",
      "0\n",
      "0\n",
      "0\n",
      "0\n",
      "0\n",
      "0\n",
      "0\n",
      "0\n",
      "0\n",
      "0\n",
      "0\n",
      "0\n",
      "0\n",
      "0\n",
      "0\n",
      "0\n",
      "0\n",
      "0\n",
      "0\n",
      "0\n",
      "0\n",
      "0\n",
      "0\n",
      "0\n",
      "0\n",
      "0\n",
      "0\n",
      "0\n",
      "0\n",
      "0\n",
      "0\n",
      "0\n",
      "0\n",
      "0\n",
      "0\n",
      "0\n",
      "0\n",
      "0\n",
      "0\n",
      "0\n",
      "0\n",
      "0\n",
      "0\n",
      "0\n",
      "0\n",
      "0\n",
      "0\n",
      "0\n",
      "0\n",
      "0\n",
      "0\n",
      "0\n",
      "0\n",
      "0\n",
      "0\n",
      "0\n",
      "0\n",
      "0\n",
      "0\n",
      "0\n",
      "0\n",
      "0\n",
      "0\n",
      "0\n",
      "0\n",
      "0\n",
      "0\n",
      "0\n",
      "0\n",
      "0\n",
      "0\n",
      "0\n",
      "0\n",
      "0\n",
      "0\n",
      "0\n",
      "0\n",
      "0\n",
      "0\n",
      "0\n",
      "0\n",
      "0\n",
      "0\n",
      "0\n",
      "0\n",
      "0\n",
      "0\n",
      "0\n",
      "0\n",
      "0\n",
      "0\n",
      "0\n",
      "0\n",
      "0\n",
      "0\n",
      "0\n",
      "0\n",
      "0\n",
      "0\n",
      "0\n",
      "0\n",
      "0\n",
      "0\n",
      "0\n",
      "0\n",
      "0\n",
      "0\n",
      "0\n",
      "0\n",
      "0\n",
      "0\n",
      "0\n",
      "0\n",
      "0\n",
      "0\n",
      "0\n",
      "0\n",
      "0\n",
      "0\n",
      "0\n",
      "0\n",
      "0\n",
      "0\n",
      "0\n",
      "0\n",
      "0\n",
      "0\n",
      "0\n",
      "0\n",
      "0\n",
      "0\n",
      "0\n",
      "0\n",
      "0\n",
      "0\n",
      "0\n",
      "0\n",
      "0\n",
      "0\n",
      "0\n",
      "0\n",
      "0\n",
      "0\n",
      "0\n",
      "0\n",
      "0\n",
      "0\n",
      "0\n",
      "0\n",
      "0\n",
      "0\n",
      "0\n",
      "0\n",
      "0\n",
      "0\n",
      "0\n",
      "0\n",
      "0\n",
      "0\n",
      "0\n",
      "0\n",
      "0\n",
      "0\n",
      "0\n",
      "0\n",
      "0\n",
      "0\n",
      "0\n",
      "0\n",
      "0\n",
      "0\n",
      "0\n",
      "0\n",
      "0\n",
      "0\n",
      "0\n",
      "0\n",
      "0\n",
      "0\n",
      "0\n",
      "0\n",
      "0\n",
      "0\n",
      "0\n",
      "0\n",
      "0\n",
      "0\n",
      "0\n",
      "0\n",
      "0\n",
      "0\n",
      "0\n",
      "0\n",
      "0\n",
      "0\n",
      "0\n",
      "0\n",
      "0\n",
      "0\n",
      "0\n",
      "0\n",
      "0\n",
      "0\n",
      "0\n",
      "0\n",
      "0\n",
      "0\n",
      "0\n",
      "0\n",
      "0\n",
      "0\n",
      "0\n",
      "0\n",
      "0\n",
      "0\n",
      "0\n",
      "0\n",
      "0\n",
      "0\n",
      "0\n",
      "0\n",
      "0\n",
      "0\n",
      "0\n",
      "0\n",
      "0\n",
      "0\n",
      "0\n",
      "0\n",
      "0\n",
      "0\n",
      "0\n",
      "0\n",
      "0\n",
      "0\n",
      "0\n",
      "0\n",
      "0\n",
      "0\n",
      "0\n",
      "0\n",
      "0\n",
      "0\n",
      "0\n",
      "0\n",
      "0\n",
      "0\n",
      "0\n",
      "0\n",
      "0\n",
      "0\n",
      "0\n",
      "0\n",
      "0\n",
      "0\n",
      "0\n",
      "0\n",
      "0\n",
      "0\n",
      "0\n",
      "0\n",
      "0\n",
      "0\n",
      "0\n",
      "0\n",
      "0\n",
      "0\n",
      "0\n",
      "0\n",
      "0\n",
      "0\n",
      "0\n",
      "0\n",
      "0\n",
      "0\n",
      "0\n",
      "0\n",
      "0\n",
      "0\n",
      "0\n",
      "0\n",
      "0\n",
      "0\n",
      "0\n",
      "0\n",
      "0\n",
      "0\n",
      "0\n",
      "0\n",
      "0\n",
      "0\n",
      "0\n",
      "0\n",
      "0\n",
      "0\n",
      "0\n",
      "0\n",
      "0\n",
      "0\n",
      "0\n",
      "0\n",
      "0\n",
      "0\n",
      "0\n",
      "0\n",
      "0\n",
      "0\n",
      "0\n",
      "0\n",
      "0\n",
      "0\n",
      "0\n",
      "0\n",
      "0\n",
      "0\n",
      "0\n",
      "0\n",
      "0\n",
      "0\n",
      "0\n",
      "0\n",
      "0\n",
      "0\n",
      "0\n",
      "0\n",
      "0\n",
      "0\n",
      "0\n",
      "0\n",
      "0\n",
      "0\n",
      "0\n",
      "0\n",
      "0\n",
      "0\n",
      "0\n",
      "0\n",
      "0\n",
      "0\n",
      "0\n",
      "0\n",
      "0\n",
      "0\n",
      "0\n",
      "0\n",
      "0\n",
      "0\n",
      "0\n",
      "0\n",
      "0\n",
      "0\n",
      "0\n",
      "0\n",
      "0\n",
      "0\n",
      "0\n",
      "0\n",
      "0\n",
      "0\n",
      "0\n",
      "0\n",
      "0\n",
      "0\n",
      "0\n",
      "0\n",
      "0\n",
      "0\n",
      "0\n",
      "0\n",
      "0\n",
      "0\n",
      "0\n",
      "0\n",
      "0\n",
      "0\n",
      "0\n",
      "0\n",
      "0\n",
      "0\n",
      "0\n",
      "0\n",
      "0\n",
      "0\n",
      "0\n",
      "0\n",
      "0\n",
      "0\n",
      "0\n",
      "0\n",
      "0\n",
      "0\n",
      "0\n",
      "0\n",
      "0\n",
      "0\n",
      "0\n",
      "0\n",
      "0\n",
      "0\n",
      "0\n",
      "0\n",
      "0\n",
      "0\n",
      "0\n",
      "0\n",
      "0\n",
      "0\n",
      "0\n",
      "0\n",
      "0\n",
      "0\n",
      "0\n",
      "0\n",
      "0\n",
      "0\n",
      "0\n",
      "0\n",
      "0\n",
      "0\n",
      "0\n",
      "0\n",
      "0\n",
      "0\n",
      "0\n",
      "0\n",
      "0\n",
      "0\n",
      "0\n",
      "0\n",
      "0\n",
      "0\n",
      "0\n",
      "0\n",
      "0\n",
      "0\n",
      "0\n",
      "0\n",
      "0\n",
      "0\n",
      "0\n",
      "0\n",
      "0\n",
      "0\n",
      "0\n",
      "0\n",
      "0\n",
      "0\n",
      "0\n",
      "0\n",
      "0\n",
      "0\n",
      "0\n",
      "0\n",
      "0\n",
      "0\n",
      "0\n",
      "0\n",
      "0\n",
      "0\n",
      "0\n",
      "0\n",
      "0\n",
      "0\n",
      "0\n",
      "0\n",
      "0\n",
      "0\n",
      "0\n",
      "0\n",
      "0\n",
      "0\n",
      "0\n",
      "0\n",
      "0\n",
      "0\n",
      "0\n",
      "0\n",
      "0\n",
      "0\n",
      "0\n",
      "0\n",
      "0\n",
      "0\n",
      "0\n",
      "0\n",
      "0\n",
      "0\n",
      "0\n",
      "0\n",
      "0\n",
      "0\n",
      "0\n",
      "0\n",
      "0\n",
      "0\n",
      "0\n",
      "0\n",
      "0\n",
      "0\n",
      "0\n",
      "0\n",
      "0\n",
      "0\n",
      "0\n",
      "0\n",
      "0\n",
      "0\n",
      "0\n",
      "0\n",
      "0\n",
      "0\n",
      "0\n",
      "0\n",
      "0\n",
      "0\n",
      "0\n",
      "0\n",
      "0\n",
      "0\n",
      "0\n",
      "0\n",
      "0\n",
      "0\n",
      "0\n",
      "0\n",
      "0\n",
      "0\n",
      "0\n",
      "0\n",
      "0\n",
      "0\n",
      "0\n",
      "0\n",
      "0\n",
      "0\n",
      "0\n",
      "0\n",
      "0\n",
      "0\n",
      "0\n",
      "0\n",
      "0\n",
      "0\n",
      "0\n",
      "0\n",
      "0\n",
      "0\n",
      "0\n",
      "0\n",
      "0\n",
      "0\n",
      "0\n",
      "0\n",
      "0\n",
      "0\n",
      "0\n",
      "0\n",
      "0\n",
      "0\n",
      "0\n",
      "0\n",
      "0\n",
      "0\n",
      "0\n",
      "0\n",
      "0\n",
      "0\n",
      "0\n",
      "0\n",
      "0\n",
      "0\n",
      "0\n",
      "0\n",
      "0\n",
      "0\n",
      "0\n",
      "0\n",
      "0\n",
      "0\n",
      "0\n",
      "0\n",
      "3\n",
      "0\n",
      "0\n",
      "0\n",
      "0\n",
      "0\n",
      "0\n",
      "0\n",
      "0\n",
      "0\n",
      "0\n",
      "0\n",
      "0\n",
      "0\n",
      "0\n",
      "0\n",
      "0\n",
      "0\n",
      "0\n",
      "0\n",
      "0\n",
      "0\n",
      "0\n",
      "0\n",
      "0\n",
      "0\n",
      "0\n",
      "0\n",
      "0\n",
      "0\n",
      "0\n",
      "0\n",
      "0\n",
      "0\n",
      "0\n",
      "0\n",
      "0\n",
      "0\n",
      "0\n",
      "0\n",
      "0\n",
      "0\n",
      "0\n",
      "0\n",
      "0\n",
      "0\n",
      "0\n",
      "0\n",
      "0\n",
      "0\n",
      "0\n",
      "0\n",
      "0\n",
      "0\n",
      "0\n",
      "0\n",
      "0\n",
      "0\n",
      "0\n",
      "0\n",
      "0\n",
      "0\n",
      "0\n",
      "0\n",
      "0\n",
      "0\n",
      "0\n",
      "0\n",
      "0\n",
      "0\n",
      "0\n",
      "0\n",
      "0\n",
      "0\n",
      "0\n",
      "0\n",
      "0\n",
      "0\n",
      "0\n",
      "0\n",
      "0\n",
      "0\n",
      "0\n",
      "0\n",
      "0\n",
      "0\n",
      "0\n",
      "0\n",
      "0\n",
      "0\n",
      "0\n",
      "0\n",
      "0\n",
      "0\n",
      "0\n",
      "0\n",
      "0\n",
      "0\n",
      "0\n",
      "0\n",
      "0\n",
      "0\n",
      "0\n",
      "0\n",
      "0\n",
      "0\n",
      "0\n",
      "0\n",
      "0\n",
      "0\n",
      "0\n",
      "0\n",
      "2\n",
      "3\n",
      "2\n",
      "0\n",
      "0\n",
      "2\n",
      "0\n",
      "2\n",
      "0\n",
      "0\n",
      "3\n",
      "0\n",
      "0\n",
      "0\n",
      "0\n",
      "0\n",
      "0\n",
      "0\n",
      "0\n",
      "0\n",
      "0\n",
      "4\n",
      "7\n",
      "0\n",
      "0\n",
      "0\n",
      "0\n",
      "0\n",
      "0\n",
      "0\n",
      "9\n",
      "0\n",
      "0\n",
      "0\n",
      "0\n",
      "0\n",
      "0\n",
      "0\n",
      "10\n",
      "0\n",
      "0\n",
      "0\n",
      "0\n",
      "0\n",
      "0\n",
      "0\n",
      "0\n",
      "0\n",
      "0\n",
      "0\n",
      "0\n",
      "0\n",
      "0\n",
      "12\n",
      "0\n",
      "0\n",
      "0\n",
      "0\n",
      "0\n",
      "0\n",
      "0\n",
      "0\n",
      "17\n",
      "0\n",
      "0\n",
      "0\n",
      "0\n",
      "0\n",
      "0\n",
      "0\n",
      "0\n",
      "0\n",
      "0\n",
      "15\n",
      "14\n",
      "0\n",
      "0\n",
      "0\n",
      "0\n",
      "0\n",
      "0\n",
      "0\n",
      "0\n",
      "0\n",
      "0\n",
      "0\n",
      "16\n",
      "0\n",
      "0\n",
      "0\n",
      "0\n",
      "19\n",
      "0\n",
      "0\n",
      "21\n",
      "0\n",
      "0\n",
      "0\n",
      "0\n",
      "0\n",
      "0\n",
      "0\n",
      "0\n",
      "0\n",
      "0\n",
      "23\n",
      "0\n",
      "21\n",
      "0\n",
      "0\n",
      "0\n",
      "0\n",
      "0\n",
      "0\n",
      "0\n",
      "0\n",
      "0\n",
      "0\n",
      "0\n",
      "25\n",
      "0\n",
      "0\n",
      "0\n",
      "0\n",
      "0\n",
      "0\n",
      "0\n",
      "29\n",
      "0\n",
      "0\n",
      "0\n",
      "22\n",
      "0\n",
      "0\n",
      "0\n",
      "0\n",
      "0\n",
      "29\n",
      "0\n",
      "0\n",
      "0\n",
      "0\n",
      "0\n",
      "0\n",
      "28\n",
      "0\n",
      "0\n",
      "0\n",
      "0\n",
      "0\n",
      "0\n",
      "0\n",
      "0\n",
      "0\n",
      "0\n",
      "0\n",
      "0\n",
      "0\n",
      "0\n",
      "0\n",
      "0\n",
      "0\n",
      "0\n",
      "0\n",
      "0\n",
      "0\n",
      "0\n",
      "0\n",
      "0\n",
      "0\n",
      "0\n",
      "0\n",
      "0\n",
      "0\n",
      "0\n",
      "0\n",
      "0\n",
      "0\n",
      "0\n",
      "0\n",
      "0\n",
      "0\n",
      "0\n",
      "0\n",
      "0\n",
      "0\n",
      "0\n",
      "0\n",
      "39\n",
      "0\n",
      "42\n",
      "0\n",
      "0\n",
      "0\n",
      "0\n",
      "44\n",
      "0\n",
      "0\n",
      "0\n",
      "0\n",
      "0\n",
      "0\n",
      "0\n",
      "0\n",
      "0\n",
      "0\n",
      "0\n",
      "0\n",
      "0\n",
      "0\n",
      "0\n",
      "0\n",
      "0\n",
      "0\n",
      "0\n",
      "0\n",
      "0\n",
      "0\n",
      "0\n",
      "0\n",
      "0\n",
      "0\n",
      "0\n",
      "0\n",
      "0\n",
      "0\n",
      "0\n",
      "0\n",
      "0\n",
      "0\n",
      "0\n",
      "0\n",
      "0\n",
      "0\n",
      "0\n",
      "0\n",
      "0\n",
      "0\n",
      "0\n",
      "0\n",
      "0\n",
      "0\n",
      "0\n",
      "0\n",
      "0\n",
      "0\n",
      "0\n",
      "0\n",
      "0\n",
      "0\n",
      "0\n",
      "0\n",
      "0\n",
      "0\n",
      "70\n",
      "0\n",
      "0\n",
      "0\n",
      "0\n",
      "0\n",
      "0\n",
      "0\n",
      "0\n",
      "0\n",
      "0\n",
      "0\n",
      "0\n",
      "0\n",
      "0\n",
      "0\n",
      "0\n",
      "0\n",
      "0\n",
      "0\n",
      "0\n",
      "0\n",
      "0\n",
      "0\n",
      "0\n",
      "0\n",
      "0\n",
      "0\n",
      "0\n",
      "0\n",
      "0\n",
      "0\n",
      "0\n",
      "0\n",
      "0\n",
      "0\n",
      "0\n",
      "0\n",
      "0\n",
      "0\n",
      "0\n",
      "0\n",
      "0\n",
      "0\n",
      "0\n",
      "0\n",
      "0\n",
      "0\n",
      "0\n",
      "0\n",
      "0\n",
      "0\n",
      "0\n",
      "0\n",
      "0\n",
      "0\n",
      "0\n",
      "0\n",
      "0\n",
      "0\n",
      "0\n",
      "0\n",
      "0\n",
      "0\n",
      "0\n",
      "0\n",
      "0\n",
      "0\n",
      "0\n",
      "0\n",
      "0\n",
      "0\n",
      "0\n",
      "0\n",
      "0\n",
      "0\n",
      "0\n",
      "0\n",
      "0\n",
      "0\n",
      "0\n",
      "0\n",
      "0\n",
      "0\n",
      "0\n",
      "0\n",
      "0\n",
      "0\n",
      "0\n",
      "0\n",
      "0\n",
      "0\n",
      "0\n",
      "0\n",
      "0\n",
      "0\n",
      "0\n",
      "0\n",
      "0\n",
      "0\n",
      "0\n",
      "0\n",
      "0\n",
      "0\n",
      "0\n",
      "0\n",
      "0\n",
      "0\n",
      "0\n",
      "0\n",
      "0\n",
      "0\n",
      "0\n",
      "0\n",
      "0\n",
      "0\n",
      "0\n",
      "0\n",
      "0\n",
      "0\n",
      "0\n",
      "0\n",
      "0\n",
      "0\n",
      "0\n",
      "0\n",
      "0\n",
      "0\n",
      "0\n",
      "0\n",
      "0\n",
      "0\n",
      "0\n",
      "0\n",
      "0\n",
      "0\n",
      "0\n",
      "0\n",
      "0\n",
      "0\n",
      "0\n",
      "0\n",
      "0\n",
      "0\n",
      "0\n",
      "0\n",
      "0\n",
      "0\n",
      "0\n",
      "0\n",
      "0\n",
      "0\n",
      "0\n",
      "0\n",
      "0\n",
      "0\n",
      "0\n",
      "0\n",
      "0\n",
      "0\n",
      "0\n",
      "0\n",
      "0\n",
      "0\n",
      "0\n",
      "0\n",
      "0\n",
      "0\n",
      "0\n",
      "0\n",
      "0\n",
      "0\n",
      "0\n",
      "0\n",
      "0\n",
      "0\n",
      "0\n",
      "0\n",
      "0\n",
      "0\n",
      "0\n",
      "0\n",
      "0\n",
      "0\n",
      "0\n",
      "0\n",
      "0\n",
      "0\n",
      "0\n",
      "0\n",
      "0\n",
      "0\n",
      "0\n",
      "0\n",
      "0\n",
      "0\n",
      "0\n",
      "0\n",
      "0\n",
      "0\n",
      "0\n",
      "0\n",
      "0\n",
      "0\n",
      "0\n",
      "0\n",
      "0\n",
      "0\n",
      "0\n",
      "0\n",
      "0\n",
      "0\n",
      "0\n",
      "0\n",
      "0\n",
      "0\n",
      "0\n",
      "0\n",
      "0\n",
      "0\n",
      "0\n",
      "0\n",
      "0\n",
      "0\n",
      "0\n",
      "0\n",
      "0\n",
      "0\n",
      "0\n",
      "0\n",
      "0\n",
      "0\n",
      "0\n",
      "0\n",
      "0\n",
      "0\n",
      "0\n",
      "0\n",
      "0\n",
      "0\n",
      "0\n",
      "0\n",
      "0\n",
      "0\n",
      "0\n",
      "0\n",
      "0\n",
      "0\n",
      "0\n",
      "0\n",
      "0\n",
      "0\n",
      "0\n",
      "0\n",
      "0\n",
      "0\n",
      "0\n",
      "0\n",
      "0\n",
      "0\n",
      "0\n",
      "0\n",
      "0\n",
      "0\n",
      "0\n",
      "0\n",
      "0\n",
      "0\n",
      "0\n",
      "0\n",
      "0\n",
      "0\n",
      "0\n",
      "0\n",
      "0\n",
      "0\n",
      "0\n",
      "0\n",
      "0\n",
      "0\n",
      "0\n",
      "0\n",
      "0\n",
      "0\n",
      "0\n",
      "0\n",
      "0\n",
      "0\n",
      "0\n",
      "0\n",
      "0\n",
      "0\n",
      "0\n",
      "0\n",
      "0\n",
      "0\n",
      "0\n",
      "0\n",
      "0\n",
      "0\n",
      "0\n",
      "0\n",
      "0\n",
      "0\n",
      "0\n",
      "0\n",
      "0\n",
      "0\n",
      "0\n",
      "0\n",
      "0\n",
      "0\n",
      "0\n",
      "0\n",
      "0\n",
      "0\n",
      "0\n",
      "0\n",
      "0\n",
      "0\n",
      "0\n",
      "0\n",
      "0\n",
      "0\n",
      "0\n",
      "0\n",
      "0\n",
      "0\n",
      "0\n",
      "0\n",
      "0\n",
      "0\n",
      "0\n",
      "0\n",
      "0\n",
      "0\n",
      "0\n",
      "0\n",
      "0\n",
      "0\n",
      "0\n",
      "0\n",
      "0\n",
      "0\n",
      "0\n",
      "0\n",
      "0\n",
      "0\n",
      "0\n",
      "0\n",
      "0\n",
      "0\n",
      "0\n",
      "0\n",
      "0\n",
      "0\n",
      "0\n",
      "0\n",
      "0\n",
      "0\n",
      "0\n",
      "0\n",
      "0\n",
      "0\n",
      "0\n",
      "0\n",
      "0\n",
      "0\n",
      "0\n",
      "0\n",
      "0\n",
      "0\n",
      "0\n",
      "0\n",
      "0\n",
      "0\n",
      "0\n",
      "0\n",
      "0\n",
      "0\n",
      "0\n",
      "0\n",
      "0\n",
      "0\n",
      "0\n",
      "0\n",
      "0\n",
      "0\n",
      "0\n",
      "0\n",
      "0\n",
      "0\n",
      "0\n",
      "0\n",
      "0\n",
      "0\n",
      "0\n",
      "0\n",
      "0\n",
      "0\n",
      "0\n",
      "0\n",
      "0\n",
      "0\n",
      "0\n",
      "0\n",
      "0\n",
      "0\n",
      "0\n",
      "0\n",
      "0\n",
      "0\n",
      "0\n",
      "0\n",
      "0\n",
      "0\n",
      "0\n",
      "0\n",
      "0\n",
      "0\n",
      "0\n",
      "0\n",
      "0\n",
      "0\n",
      "0\n",
      "0\n",
      "0\n",
      "0\n",
      "0\n",
      "0\n",
      "0\n",
      "0\n",
      "0\n",
      "0\n",
      "0\n",
      "0\n",
      "0\n",
      "0\n",
      "0\n",
      "0\n",
      "0\n",
      "0\n",
      "0\n",
      "0\n",
      "0\n",
      "0\n",
      "0\n",
      "0\n",
      "0\n",
      "0\n",
      "0\n",
      "0\n",
      "0\n",
      "0\n",
      "0\n",
      "0\n",
      "0\n",
      "0\n",
      "0\n",
      "0\n",
      "0\n",
      "0\n",
      "0\n",
      "0\n",
      "0\n",
      "0\n",
      "0\n",
      "0\n",
      "0\n",
      "0\n",
      "0\n",
      "0\n",
      "0\n",
      "0\n",
      "0\n",
      "0\n",
      "0\n",
      "0\n",
      "0\n",
      "0\n",
      "0\n",
      "0\n",
      "0\n",
      "0\n",
      "0\n",
      "0\n",
      "0\n",
      "0\n",
      "0\n",
      "0\n",
      "0\n",
      "0\n",
      "0\n",
      "0\n",
      "0\n",
      "0\n",
      "0\n",
      "0\n",
      "0\n",
      "0\n",
      "0\n",
      "0\n",
      "0\n",
      "0\n",
      "0\n",
      "0\n",
      "0\n",
      "0\n",
      "0\n",
      "0\n",
      "0\n",
      "0\n",
      "0\n",
      "0\n",
      "0\n",
      "0\n",
      "0\n",
      "0\n",
      "0\n",
      "0\n",
      "0\n",
      "0\n",
      "0\n",
      "0\n",
      "0\n",
      "0\n",
      "0\n",
      "0\n",
      "0\n",
      "0\n",
      "0\n",
      "0\n",
      "0\n",
      "0\n",
      "0\n",
      "0\n",
      "0\n",
      "0\n",
      "0\n",
      "0\n",
      "0\n",
      "0\n",
      "0\n",
      "0\n",
      "0\n",
      "0\n",
      "0\n",
      "0\n",
      "0\n",
      "0\n",
      "0\n",
      "0\n",
      "0\n",
      "0\n",
      "0\n",
      "0\n",
      "0\n",
      "0\n",
      "0\n",
      "0\n",
      "0\n",
      "0\n",
      "0\n",
      "0\n",
      "0\n",
      "0\n",
      "0\n",
      "0\n",
      "0\n",
      "0\n",
      "0\n",
      "0\n",
      "0\n",
      "0\n",
      "0\n",
      "0\n",
      "0\n",
      "0\n",
      "0\n",
      "0\n",
      "0\n",
      "0\n",
      "0\n",
      "0\n",
      "0\n",
      "0\n",
      "0\n",
      "0\n",
      "0\n",
      "0\n",
      "0\n",
      "0\n",
      "0\n",
      "0\n",
      "0\n",
      "0\n",
      "0\n",
      "0\n",
      "0\n",
      "0\n",
      "0\n",
      "0\n",
      "0\n",
      "0\n",
      "0\n",
      "0\n",
      "0\n",
      "0\n",
      "0\n",
      "0\n",
      "0\n",
      "0\n",
      "0\n",
      "0\n",
      "0\n",
      "0\n",
      "0\n",
      "0\n",
      "0\n",
      "0\n",
      "0\n",
      "0\n",
      "0\n",
      "0\n",
      "0\n",
      "0\n",
      "0\n",
      "0\n",
      "0\n",
      "0\n",
      "0\n",
      "0\n",
      "0\n",
      "0\n",
      "0\n",
      "0\n",
      "0\n",
      "0\n",
      "0\n",
      "0\n",
      "0\n",
      "0\n",
      "0\n",
      "0\n",
      "0\n",
      "0\n",
      "0\n",
      "0\n",
      "0\n",
      "0\n",
      "0\n",
      "0\n",
      "0\n",
      "0\n",
      "0\n",
      "0\n",
      "0\n",
      "0\n",
      "0\n",
      "0\n",
      "0\n",
      "0\n",
      "0\n",
      "0\n",
      "0\n",
      "0\n",
      "0\n",
      "0\n",
      "0\n",
      "0\n",
      "0\n",
      "0\n",
      "0\n",
      "0\n",
      "0\n",
      "0\n",
      "0\n",
      "0\n",
      "0\n",
      "0\n",
      "0\n",
      "0\n",
      "0\n",
      "0\n",
      "0\n",
      "0\n",
      "0\n",
      "0\n",
      "0\n",
      "0\n",
      "0\n",
      "0\n",
      "0\n",
      "0\n",
      "0\n",
      "0\n",
      "0\n",
      "0\n",
      "0\n",
      "0\n",
      "0\n",
      "0\n",
      "0\n",
      "0\n",
      "0\n",
      "0\n",
      "0\n",
      "0\n",
      "0\n",
      "0\n",
      "0\n",
      "0\n",
      "0\n",
      "0\n",
      "0\n",
      "0\n",
      "0\n",
      "0\n",
      "0\n",
      "0\n",
      "0\n",
      "0\n",
      "0\n",
      "0\n",
      "0\n",
      "0\n",
      "0\n",
      "0\n",
      "0\n",
      "0\n",
      "0\n",
      "0\n",
      "0\n",
      "0\n",
      "0\n",
      "0\n",
      "after\n",
      "All properties hold for the Trios instance.\n"
     ]
    }
   ],
   "execution_count": 4
  },
  {
   "metadata": {},
   "cell_type": "code",
   "outputs": [],
   "execution_count": null,
   "source": "",
   "id": "79ba5a549c327ad7"
  },
  {
   "metadata": {},
   "cell_type": "code",
   "outputs": [],
   "execution_count": null,
   "source": "",
   "id": "f29487fd3bb9f297"
  },
  {
   "cell_type": "code",
   "outputs": [],
   "source": [
    "BG = ld.BrickGraph.from_genotypes(geno_small)"
   ],
   "metadata": {
    "collapsed": false,
    "ExecuteTime": {
     "end_time": "2024-07-23T11:35:20.006818Z",
     "start_time": "2024-07-23T11:35:19.996040Z"
    }
   },
   "id": "47945e7ab5511cc1",
   "execution_count": 4
  },
  {
   "cell_type": "code",
   "outputs": [],
   "source": [],
   "metadata": {
    "collapsed": false
   },
   "id": "16249d58ef05141b",
   "execution_count": null
  },
  {
   "cell_type": "code",
   "outputs": [
    {
     "name": "stdout",
     "output_type": "stream",
     "text": [
      "before\n"
     ]
    },
    {
     "data": {
      "text/plain": "np.False_"
     },
     "execution_count": 4,
     "metadata": {},
     "output_type": "execute_result"
    }
   ],
   "source": [
    "linarg = ld.LinearARG.from_genotypes(geno_small, recombination_method=\"before\")\n",
    "say_done()\n",
    "af_equal(geno_small[:500,:], linarg[:500,:])"
   ],
   "metadata": {
    "collapsed": false,
    "ExecuteTime": {
     "end_time": "2024-07-23T12:46:35.798502Z",
     "start_time": "2024-07-23T12:44:34.634463Z"
    }
   },
   "id": "6e16a46f5c1943e9",
   "execution_count": 4
  },
  {
   "cell_type": "code",
   "outputs": [
    {
     "data": {
      "text/plain": "np.False_"
     },
     "execution_count": 7,
     "metadata": {},
     "output_type": "execute_result"
    }
   ],
   "source": [
    "af_equal(geno_small[:495,:], linarg[:495,:])\n"
   ],
   "metadata": {
    "collapsed": false,
    "ExecuteTime": {
     "end_time": "2024-07-23T12:49:17.297881Z",
     "start_time": "2024-07-23T12:49:16.472599Z"
    }
   },
   "id": "33ad96fbf688adfc",
   "execution_count": 7
  },
  {
   "cell_type": "code",
   "outputs": [
    {
     "data": {
      "text/plain": "(1412742, 1412742)"
     },
     "execution_count": 70,
     "metadata": {},
     "output_type": "execute_result"
    }
   ],
   "source": [
    "geno_small.nnz, csr_matrix(geno_small).nnz"
   ],
   "metadata": {
    "collapsed": false,
    "ExecuteTime": {
     "end_time": "2024-07-23T12:27:12.915807Z",
     "start_time": "2024-07-23T12:27:12.777893Z"
    }
   },
   "id": "54e297601efb5be0",
   "execution_count": 70
  },
  {
   "cell_type": "code",
   "outputs": [],
   "source": [
    "brick_graph_closure = ld.BrickGraph.from_genotypes(geno_small).to_csr()\n"
   ],
   "metadata": {
    "collapsed": false,
    "ExecuteTime": {
     "end_time": "2024-07-23T12:17:38.176085Z",
     "start_time": "2024-07-23T12:17:36.589824Z"
    }
   },
   "id": "b06134f38e99239b",
   "execution_count": 33
  },
  {
   "cell_type": "code",
   "outputs": [],
   "source": [
    "brick_graph_closure = remove_undirected_edges(brick_graph_closure)"
   ],
   "metadata": {
    "collapsed": false,
    "ExecuteTime": {
     "end_time": "2024-07-23T12:17:38.250643Z",
     "start_time": "2024-07-23T12:17:38.176606Z"
    }
   },
   "id": "3526bb70238ae5ef",
   "execution_count": 34
  },
  {
   "cell_type": "code",
   "outputs": [],
   "source": [
    "from scipy.sparse import block_diag\n",
    "brick_graph_closure_samples = add_samples_to_brick_graph_closure(csc_matrix((0, brick_graph_closure.shape[0])), brick_graph_closure)\n",
    "brick_graph_closure_samples = csr_matrix(block_diag([brick_graph_closure, csr_matrix((1,1))]))\n",
    "setdiag(brick_graph_closure_samples, 0)\n",
    "brick_graph_closure_samples.eliminate_zeros()"
   ],
   "metadata": {
    "collapsed": false,
    "ExecuteTime": {
     "end_time": "2024-07-23T12:40:30.200311Z",
     "start_time": "2024-07-23T12:40:29.893090Z"
    }
   },
   "id": "47f49793d0c49fc0",
   "execution_count": 81
  },
  {
   "cell_type": "code",
   "outputs": [],
   "source": [
    "brick_graph = csr_matrix(closure_transitive_reduction(brick_graph_closure_samples))"
   ],
   "metadata": {
    "collapsed": false,
    "ExecuteTime": {
     "end_time": "2024-07-23T12:40:31.309801Z",
     "start_time": "2024-07-23T12:40:30.205257Z"
    }
   },
   "id": "ae392fe0cb48bf91",
   "execution_count": 82
  },
  {
   "cell_type": "code",
   "outputs": [
    {
     "data": {
      "text/plain": "<Compressed Sparse Column sparse matrix of dtype 'float64'\n\twith 0 stored elements and shape (1, 9664)>"
     },
     "execution_count": 51,
     "metadata": {},
     "output_type": "execute_result"
    }
   ],
   "source": [
    "csc_matrix((1, brick_graph_closure.shape[0]))"
   ],
   "metadata": {
    "collapsed": false,
    "ExecuteTime": {
     "end_time": "2024-07-23T12:21:02.152001Z",
     "start_time": "2024-07-23T12:21:02.020306Z"
    }
   },
   "id": "375c54a798adb0b2",
   "execution_count": 51
  },
  {
   "cell_type": "code",
   "outputs": [
    {
     "data": {
      "text/plain": "<Compressed Sparse Row sparse matrix of dtype 'float64'\n\twith 2 stored elements and shape (3, 3)>"
     },
     "execution_count": 68,
     "metadata": {},
     "output_type": "execute_result"
    }
   ],
   "source": [
    "A = csc_matrix(np.ones((1,2)))\n",
    "B = csr_matrix(triu(csr_matrix(np.ones((2,2)))))\n",
    "C = add_samples_to_brick_graph_closure(A, B)\n",
    "setdiag(C, 0)\n",
    "C.eliminate_zeros()\n",
    "closure_transitive_reduction(C)"
   ],
   "metadata": {
    "collapsed": false,
    "ExecuteTime": {
     "end_time": "2024-07-23T12:26:01.169712Z",
     "start_time": "2024-07-23T12:26:01.038825Z"
    }
   },
   "id": "91f3eb94463c6b61",
   "execution_count": 68
  },
  {
   "cell_type": "code",
   "outputs": [
    {
     "data": {
      "text/plain": "<Compressed Sparse Column sparse matrix of dtype 'float64'\n\twith 1412742 stored elements and shape (500, 9664)>"
     },
     "execution_count": 69,
     "metadata": {},
     "output_type": "execute_result"
    }
   ],
   "source": [
    "geno_small"
   ],
   "metadata": {
    "collapsed": false,
    "ExecuteTime": {
     "end_time": "2024-07-23T12:26:16.554719Z",
     "start_time": "2024-07-23T12:26:16.439639Z"
    }
   },
   "id": "91f9e4920e55ac10",
   "execution_count": 69
  },
  {
   "cell_type": "code",
   "outputs": [],
   "source": [
    "setdiag(brick_graph_closure,0)\n",
    "brick_graph_closure.eliminate_zeros()"
   ],
   "metadata": {
    "collapsed": false,
    "ExecuteTime": {
     "end_time": "2024-07-23T12:04:44.416429Z",
     "start_time": "2024-07-23T12:04:44.303348Z"
    }
   },
   "id": "b0dce96690743d7",
   "execution_count": 11
  },
  {
   "cell_type": "code",
   "outputs": [],
   "source": [
    "brick_graph = csr_matrix(closure_transitive_reduction(brick_graph_closure))\n"
   ],
   "metadata": {
    "collapsed": false,
    "ExecuteTime": {
     "end_time": "2024-07-23T12:04:48.669671Z",
     "start_time": "2024-07-23T12:04:47.434882Z"
    }
   },
   "id": "121748aef50e69cb",
   "execution_count": 12
  },
  {
   "cell_type": "code",
   "outputs": [],
   "source": [
    "A = brick_graph_closure_samples - (brick_graph_closure_samples@brick_graph_closure_samples > 0)"
   ],
   "metadata": {
    "collapsed": false,
    "ExecuteTime": {
     "end_time": "2024-07-23T12:11:50.472958Z",
     "start_time": "2024-07-23T12:11:48.410843Z"
    }
   },
   "id": "8b140ee38d14911e",
   "execution_count": 16
  },
  {
   "cell_type": "code",
   "outputs": [],
   "source": [
    "A.eliminate_zeros()"
   ],
   "metadata": {
    "collapsed": false,
    "ExecuteTime": {
     "end_time": "2024-07-23T12:12:08.040968Z",
     "start_time": "2024-07-23T12:12:07.890737Z"
    }
   },
   "id": "cd4fec5d6567aea0",
   "execution_count": 18
  },
  {
   "cell_type": "code",
   "outputs": [
    {
     "data": {
      "text/plain": "array([275615, 276271, 276273, 276274, 276276, 276278, 276280, 276285,\n       276287, 276289])"
     },
     "execution_count": 20,
     "metadata": {},
     "output_type": "execute_result"
    }
   ],
   "source": [
    "e = np.where(A.data != 1)[0]\n",
    "e[:10]"
   ],
   "metadata": {
    "collapsed": false,
    "ExecuteTime": {
     "end_time": "2024-07-23T12:12:29.736613Z",
     "start_time": "2024-07-23T12:12:29.620482Z"
    }
   },
   "id": "8fa62cb80c59802f",
   "execution_count": 20
  },
  {
   "cell_type": "code",
   "outputs": [
    {
     "data": {
      "text/plain": "(318074, np.int64(9539))"
     },
     "execution_count": 23,
     "metadata": {},
     "output_type": "execute_result"
    }
   ],
   "source": [
    "len(A.data), np.sum(A.data != 1)"
   ],
   "metadata": {
    "collapsed": false,
    "ExecuteTime": {
     "end_time": "2024-07-23T12:13:36.158057Z",
     "start_time": "2024-07-23T12:13:35.994229Z"
    }
   },
   "id": "4cc7b9047ab87778",
   "execution_count": 23
  },
  {
   "cell_type": "code",
   "id": "006f1352-f4db-4ee8-81bf-db840e3620f4",
   "metadata": {
    "ExecuteTime": {
     "end_time": "2024-07-23T10:15:13.954392Z",
     "start_time": "2024-07-23T10:13:51.293126Z"
    }
   },
   "source": [
    "%%time\n",
    "path = \"/Users/loconnor/Dropbox/linearARG/linearg_shared/data/1kg_ALL_chr22_47876022_49355984_MAF_0.01_RF_0.01_T_8.genos\"\n",
    "output_file_prefix = \"/Users/loconnor/Dropbox/linearARG/linearg_shared/data/linarg/1kg_ALL_chr22_47876022_49355984_MAF_0.01_RF_0.01_T_8\"\n",
    "linarg_old, genotypes = ld.run_linarg_workflow(\n",
    "    path, output_file_prefix, flip_minor_alleles=True, recombination_method=\"\", make_triangular=False, brick_graph_method=\"new\"\n",
    ")"
   ],
   "outputs": [
    {
     "name": "stdout",
     "output_type": "stream",
     "text": [
      "kept_variants: (16233,)\n",
      "file_name: /Users/loconnor/Dropbox/linearARG/linearg_shared/data/1kg_ALL_chr22_47876022_49355984_MAF_0.01_RF_0.01_T_8.genos,num_samples: 5008, num_variants: 16233, nnz_X: 7837269, nnz_A: : 5296252, nnz_ratio: 1.4797764532352313, runtime: 82.65161395072937\n",
      "CPU times: user 1min 19s, sys: 1.5 s, total: 1min 21s\n",
      "Wall time: 1min 22s\n"
     ]
    }
   ],
   "execution_count": 2
  },
  {
   "cell_type": "code",
   "outputs": [
    {
     "name": "stdout",
     "output_type": "stream",
     "text": [
      "kept_variants: (16233,)\n",
      "file_name: /Users/loconnor/Dropbox/linearARG/linearg_shared/data/1kg_ALL_chr22_47876022_49355984_MAF_0.01_RF_0.01_T_8.genos,num_samples: 5008, num_variants: 16233, nnz_X: 7837269, nnz_A: : 4702138, nnz_ratio: 1.6667458505046002, runtime: 46.64146709442139\n",
      "CPU times: user 43.5 s, sys: 3.55 s, total: 47 s\n",
      "Wall time: 46.6 s\n"
     ]
    }
   ],
   "source": [
    "%%time\n",
    "path = \"/Users/loconnor/Dropbox/linearARG/linearg_shared/data/1kg_ALL_chr22_47876022_49355984_MAF_0.01_RF_0.01_T_8.genos\"\n",
    "output_file_prefix = \"/Users/loconnor/Dropbox/linearARG/linearg_shared/data/linarg/1kg_ALL_chr22_47876022_49355984_MAF_0.01_RF_0.01_T_8\"\n",
    "linarg_old, genotypes = ld.run_linarg_workflow(\n",
    "    path, output_file_prefix, flip_minor_alleles=True, recombination_method=\"\", make_triangular=False, brick_graph_method=\"new\"\n",
    ")"
   ],
   "metadata": {
    "collapsed": false
   },
   "id": "dde50d48438f20c4",
   "execution_count": 13
  },
  {
   "cell_type": "code",
   "source": [
    "geno_small = genotypes[:500, :]\n",
    "ac = np.diff(geno_small.indptr)\n",
    "geno_small = geno_small[:, ac > 1]\n",
    "linarg = ld.LinearARG.from_genotypes(geno_small, recombination_method=\"before\")"
   ],
   "metadata": {
    "collapsed": false,
    "ExecuteTime": {
     "end_time": "2024-07-23T11:03:15.428189Z",
     "start_time": "2024-07-23T11:03:04.675415Z"
    }
   },
   "id": "5493667a00a9491c",
   "outputs": [
    {
     "name": "stdout",
     "output_type": "stream",
     "text": [
      "before\n"
     ]
    },
    {
     "ename": "ValueError",
     "evalue": "Input graph was not transitive",
     "output_type": "error",
     "traceback": [
      "\u001B[0;31m---------------------------------------------------------------------------\u001B[0m",
      "\u001B[0;31mValueError\u001B[0m                                Traceback (most recent call last)",
      "Cell \u001B[0;32mIn[3], line 4\u001B[0m\n\u001B[1;32m      2\u001B[0m ac \u001B[38;5;241m=\u001B[39m np\u001B[38;5;241m.\u001B[39mdiff(geno_small\u001B[38;5;241m.\u001B[39mindptr)\n\u001B[1;32m      3\u001B[0m geno_small \u001B[38;5;241m=\u001B[39m geno_small[:, ac \u001B[38;5;241m>\u001B[39m \u001B[38;5;241m1\u001B[39m]\n\u001B[0;32m----> 4\u001B[0m linarg \u001B[38;5;241m=\u001B[39m ld\u001B[38;5;241m.\u001B[39mLinearARG\u001B[38;5;241m.\u001B[39mfrom_genotypes(geno_small, recombination_method\u001B[38;5;241m=\u001B[39m\u001B[38;5;124m\"\u001B[39m\u001B[38;5;124mbefore\u001B[39m\u001B[38;5;124m\"\u001B[39m)\n",
      "File \u001B[0;32m~/Library/CloudStorage/Dropbox/GitHub/linarg/src/linear_dag/lineararg.py:69\u001B[0m, in \u001B[0;36mLinearARG.from_genotypes\u001B[0;34m(genotypes, ploidy, flip, brick_graph_method, recombination_method)\u001B[0m\n\u001B[1;32m     67\u001B[0m setdiag(brick_graph_closure, \u001B[38;5;241m0\u001B[39m)\n\u001B[1;32m     68\u001B[0m brick_graph_closure\u001B[38;5;241m.\u001B[39meliminate_zeros()\n\u001B[0;32m---> 69\u001B[0m brick_graph \u001B[38;5;241m=\u001B[39m csr_matrix(closure_transitive_reduction(brick_graph_closure)\u001B[38;5;241m.\u001B[39mtranspose())\n\u001B[1;32m     70\u001B[0m setdiag(brick_graph, \u001B[38;5;241m0\u001B[39m)\n\u001B[1;32m     71\u001B[0m brick_graph\u001B[38;5;241m.\u001B[39meliminate_zeros()\n",
      "File \u001B[0;32m~/Library/CloudStorage/Dropbox/GitHub/linarg/src/linear_dag/linear_arg_inference.py:126\u001B[0m, in \u001B[0;36mclosure_transitive_reduction\u001B[0;34m(transitive_graph)\u001B[0m\n\u001B[1;32m    123\u001B[0m result\u001B[38;5;241m.\u001B[39meliminate_zeros()\n\u001B[1;32m    125\u001B[0m \u001B[38;5;28;01mif\u001B[39;00m np\u001B[38;5;241m.\u001B[39many(result\u001B[38;5;241m.\u001B[39mdata \u001B[38;5;241m!=\u001B[39m \u001B[38;5;241m1\u001B[39m):\n\u001B[0;32m--> 126\u001B[0m     \u001B[38;5;28;01mraise\u001B[39;00m \u001B[38;5;167;01mValueError\u001B[39;00m(\u001B[38;5;124m\"\u001B[39m\u001B[38;5;124mInput graph was not transitive\u001B[39m\u001B[38;5;124m\"\u001B[39m)\n\u001B[1;32m    128\u001B[0m \u001B[38;5;28;01mreturn\u001B[39;00m result\n",
      "\u001B[0;31mValueError\u001B[0m: Input graph was not transitive"
     ]
    }
   ],
   "execution_count": 3
  },
  {
   "cell_type": "code",
   "source": [
    "say_done()\n",
    "af_equal(geno_small[:500,:], linarg[:500,:])"
   ],
   "metadata": {
    "collapsed": false,
    "ExecuteTime": {
     "start_time": "2024-07-23T11:03:15.420600Z"
    }
   },
   "id": "1a60d4f8c73c7b20",
   "outputs": [],
   "execution_count": null
  },
  {
   "cell_type": "code",
   "outputs": [],
   "source": [
    "brick_graph_closure = ld.BrickGraph.from_genotypes(geno_small).to_csr()\n",
    "# brick_graph_closure = infer_brick_graph_using_containment(geno_small, 1)"
   ],
   "metadata": {
    "collapsed": false,
    "ExecuteTime": {
     "end_time": "2024-07-23T11:34:07.673228Z",
     "start_time": "2024-07-23T11:34:06.768956Z"
    }
   },
   "id": "65fc40de3277df7b",
   "execution_count": 23
  },
  {
   "cell_type": "code",
   "outputs": [],
   "source": [
    "brick_graph_closure = remove_undirected_edges(brick_graph_closure)\n",
    "setdiag(brick_graph_closure, 0)\n",
    "brick_graph_closure.eliminate_zeros()"
   ],
   "metadata": {
    "collapsed": false,
    "ExecuteTime": {
     "end_time": "2024-07-23T11:34:07.717195Z",
     "start_time": "2024-07-23T11:34:07.641084Z"
    }
   },
   "id": "a53e99b42bc51a70",
   "execution_count": 24
  },
  {
   "cell_type": "code",
   "outputs": [],
   "source": [
    "result = brick_graph_closure - (brick_graph_closure @ brick_graph_closure > 0)\n",
    "result.eliminate_zeros()"
   ],
   "metadata": {
    "collapsed": false,
    "ExecuteTime": {
     "end_time": "2024-07-23T11:34:08.701293Z",
     "start_time": "2024-07-23T11:34:07.718103Z"
    }
   },
   "id": "9bfc349721436a13",
   "execution_count": 25
  },
  {
   "cell_type": "code",
   "outputs": [
    {
     "data": {
      "text/plain": "np.float64(1.0)"
     },
     "execution_count": 26,
     "metadata": {},
     "output_type": "execute_result"
    }
   ],
   "source": [
    "np.mean(result.data == 1)"
   ],
   "metadata": {
    "collapsed": false,
    "ExecuteTime": {
     "end_time": "2024-07-23T11:34:08.718254Z",
     "start_time": "2024-07-23T11:34:08.701394Z"
    }
   },
   "id": "9b80551f5b3859e0",
   "execution_count": 26
  },
  {
   "cell_type": "code",
   "outputs": [],
   "source": [],
   "metadata": {
    "collapsed": false
   },
   "id": "655b5f52fa2efa23",
   "execution_count": null
  },
  {
   "cell_type": "code",
   "source": [
    "linarg = linarg.make_triangular()\n",
    "v = np.ones(linarg.shape[0])\n",
    "np.all(v @ linarg == v @ geno_small)"
   ],
   "metadata": {
    "collapsed": false,
    "ExecuteTime": {
     "end_time": "2024-07-17T15:14:35.086330Z",
     "start_time": "2024-07-17T15:14:34.727865Z"
    }
   },
   "id": "c1382fc5dae174bb",
   "outputs": [
    {
     "ename": "ValueError",
     "evalue": "dimension mismatch",
     "output_type": "error",
     "traceback": [
      "\u001B[0;31m---------------------------------------------------------------------------\u001B[0m",
      "\u001B[0;31mValueError\u001B[0m                                Traceback (most recent call last)",
      "Cell \u001B[0;32mIn[7], line 3\u001B[0m\n\u001B[1;32m      1\u001B[0m linarg \u001B[38;5;241m=\u001B[39m linarg\u001B[38;5;241m.\u001B[39mmake_triangular()\n\u001B[1;32m      2\u001B[0m v \u001B[38;5;241m=\u001B[39m np\u001B[38;5;241m.\u001B[39mones(linarg\u001B[38;5;241m.\u001B[39mshape[\u001B[38;5;241m0\u001B[39m])\n\u001B[0;32m----> 3\u001B[0m np\u001B[38;5;241m.\u001B[39mall(v \u001B[38;5;241m@\u001B[39m linarg \u001B[38;5;241m==\u001B[39m v \u001B[38;5;241m@\u001B[39m genotypes)\n",
      "File \u001B[0;32m~/anaconda3/envs/lin/lib/python3.12/site-packages/scipy/sparse/_base.py:675\u001B[0m, in \u001B[0;36m_spbase.__rmatmul__\u001B[0;34m(self, other)\u001B[0m\n\u001B[1;32m    672\u001B[0m \u001B[38;5;28;01mif\u001B[39;00m isscalarlike(other):\n\u001B[1;32m    673\u001B[0m     \u001B[38;5;28;01mraise\u001B[39;00m \u001B[38;5;167;01mValueError\u001B[39;00m(\u001B[38;5;124m\"\u001B[39m\u001B[38;5;124mScalar operands are not allowed, \u001B[39m\u001B[38;5;124m\"\u001B[39m\n\u001B[1;32m    674\u001B[0m                      \u001B[38;5;124m\"\u001B[39m\u001B[38;5;124muse \u001B[39m\u001B[38;5;124m'\u001B[39m\u001B[38;5;124m*\u001B[39m\u001B[38;5;124m'\u001B[39m\u001B[38;5;124m instead\u001B[39m\u001B[38;5;124m\"\u001B[39m)\n\u001B[0;32m--> 675\u001B[0m \u001B[38;5;28;01mreturn\u001B[39;00m \u001B[38;5;28mself\u001B[39m\u001B[38;5;241m.\u001B[39m_rmatmul_dispatch(other)\n",
      "File \u001B[0;32m~/anaconda3/envs/lin/lib/python3.12/site-packages/scipy/sparse/_base.py:656\u001B[0m, in \u001B[0;36m_spbase._rmatmul_dispatch\u001B[0;34m(self, other)\u001B[0m\n\u001B[1;32m    654\u001B[0m \u001B[38;5;28;01mexcept\u001B[39;00m \u001B[38;5;167;01mAttributeError\u001B[39;00m:\n\u001B[1;32m    655\u001B[0m     tr \u001B[38;5;241m=\u001B[39m np\u001B[38;5;241m.\u001B[39masarray(other)\u001B[38;5;241m.\u001B[39mtranspose()\n\u001B[0;32m--> 656\u001B[0m ret \u001B[38;5;241m=\u001B[39m \u001B[38;5;28mself\u001B[39m\u001B[38;5;241m.\u001B[39mtranspose()\u001B[38;5;241m.\u001B[39m_matmul_dispatch(tr)\n\u001B[1;32m    657\u001B[0m \u001B[38;5;28;01mif\u001B[39;00m ret \u001B[38;5;129;01mis\u001B[39;00m \u001B[38;5;28mNotImplemented\u001B[39m:\n\u001B[1;32m    658\u001B[0m     \u001B[38;5;28;01mreturn\u001B[39;00m \u001B[38;5;28mNotImplemented\u001B[39m\n",
      "File \u001B[0;32m~/anaconda3/envs/lin/lib/python3.12/site-packages/scipy/sparse/_base.py:598\u001B[0m, in \u001B[0;36m_spbase._matmul_dispatch\u001B[0;34m(self, other)\u001B[0m\n\u001B[1;32m    595\u001B[0m \u001B[38;5;28;01mif\u001B[39;00m other\u001B[38;5;241m.\u001B[39mndim \u001B[38;5;241m==\u001B[39m \u001B[38;5;241m1\u001B[39m \u001B[38;5;129;01mor\u001B[39;00m other\u001B[38;5;241m.\u001B[39mndim \u001B[38;5;241m==\u001B[39m \u001B[38;5;241m2\u001B[39m \u001B[38;5;129;01mand\u001B[39;00m other\u001B[38;5;241m.\u001B[39mshape[\u001B[38;5;241m1\u001B[39m] \u001B[38;5;241m==\u001B[39m \u001B[38;5;241m1\u001B[39m:\n\u001B[1;32m    596\u001B[0m     \u001B[38;5;66;03m# dense row or column vector\u001B[39;00m\n\u001B[1;32m    597\u001B[0m     \u001B[38;5;28;01mif\u001B[39;00m other\u001B[38;5;241m.\u001B[39mshape \u001B[38;5;241m!=\u001B[39m (N,) \u001B[38;5;129;01mand\u001B[39;00m other\u001B[38;5;241m.\u001B[39mshape \u001B[38;5;241m!=\u001B[39m (N, \u001B[38;5;241m1\u001B[39m):\n\u001B[0;32m--> 598\u001B[0m         \u001B[38;5;28;01mraise\u001B[39;00m \u001B[38;5;167;01mValueError\u001B[39;00m(\u001B[38;5;124m'\u001B[39m\u001B[38;5;124mdimension mismatch\u001B[39m\u001B[38;5;124m'\u001B[39m)\n\u001B[1;32m    600\u001B[0m     result \u001B[38;5;241m=\u001B[39m \u001B[38;5;28mself\u001B[39m\u001B[38;5;241m.\u001B[39m_matmul_vector(np\u001B[38;5;241m.\u001B[39mravel(other))\n\u001B[1;32m    602\u001B[0m     \u001B[38;5;28;01mif\u001B[39;00m \u001B[38;5;28misinstance\u001B[39m(other, np\u001B[38;5;241m.\u001B[39mmatrix):\n",
      "\u001B[0;31mValueError\u001B[0m: dimension mismatch"
     ]
    }
   ],
   "execution_count": 7
  },
  {
   "metadata": {
    "ExecuteTime": {
     "end_time": "2024-07-17T15:49:07.682239Z",
     "start_time": "2024-07-17T15:49:07.679869Z"
    }
   },
   "cell_type": "code",
   "source": [
    "ac = np.diff(genotypes.indptr)\n",
    "np.sum(ac > 50)"
   ],
   "id": "9eba6c6947728785",
   "outputs": [
    {
     "data": {
      "text/plain": [
       "10962"
      ]
     },
     "execution_count": 9,
     "metadata": {},
     "output_type": "execute_result"
    }
   ],
   "execution_count": 9
  },
  {
   "metadata": {
    "ExecuteTime": {
     "end_time": "2024-07-17T15:14:52.040547Z",
     "start_time": "2024-07-17T15:14:47.083984Z"
    }
   },
   "cell_type": "code",
   "source": [
    "n,m = linarg.shape\n",
    "geno_ok = []\n",
    "for i in range(n):\n",
    "    v = np.zeros(n)\n",
    "    v[i] = 1\n",
    "    ok = np.all(v @ geno_small == v @ linarg)\n",
    "    geno_ok.append(ok)\n",
    "\n",
    "say_done()\n",
    "np.where(np.array(geno_ok) != 1)"
   ],
   "id": "573219590dc61cfc",
   "outputs": [
    {
     "data": {
      "text/plain": [
       "(array([499]),)"
      ]
     },
     "execution_count": 8,
     "metadata": {},
     "output_type": "execute_result"
    }
   ],
   "execution_count": 8
  },
  {
   "metadata": {
    "ExecuteTime": {
     "end_time": "2024-07-17T14:55:38.067996Z",
     "start_time": "2024-07-17T14:55:38.057957Z"
    }
   },
   "cell_type": "code",
   "source": [
    "genotypes[5004,:]"
   ],
   "id": "12ef409fe19d884d",
   "outputs": [
    {
     "data": {
      "text/plain": [
       "<Compressed Sparse Column sparse matrix of dtype 'float64'\n",
       "\twith 1379 stored elements and shape (1, 16233)>"
      ]
     },
     "execution_count": 17,
     "metadata": {},
     "output_type": "execute_result"
    }
   ],
   "execution_count": 17
  },
  {
   "metadata": {
    "ExecuteTime": {
     "end_time": "2024-07-17T14:55:53.784611Z",
     "start_time": "2024-07-17T14:55:53.755388Z"
    }
   },
   "cell_type": "code",
   "source": [
    "v @ linarg"
   ],
   "id": "6d64e38c1f97f920",
   "outputs": [
    {
     "data": {
      "text/plain": [
       "array([[0., 0., 0., ..., 0., 0., 0.]])"
      ]
     },
     "execution_count": 18,
     "metadata": {},
     "output_type": "execute_result"
    }
   ],
   "execution_count": 18
  },
  {
   "metadata": {
    "ExecuteTime": {
     "end_time": "2024-07-16T17:47:46.447740Z",
     "start_time": "2024-07-16T17:47:46.446265Z"
    }
   },
   "cell_type": "code",
   "source": [
    "# linarg.A = csr_matrix(linarg.A.transpose())"
   ],
   "id": "4674a086b6065943",
   "outputs": [],
   "execution_count": 6
  },
  {
   "metadata": {
    "ExecuteTime": {
     "end_time": "2024-07-16T17:47:46.449751Z",
     "start_time": "2024-07-16T17:47:46.448135Z"
    }
   },
   "cell_type": "code",
   "source": [
    "# linarg = linarg.make_triangular()"
   ],
   "id": "67e362db23f1f9ec",
   "outputs": [],
   "execution_count": 7
  },
  {
   "metadata": {
    "ExecuteTime": {
     "end_time": "2024-07-16T17:47:46.486437Z",
     "start_time": "2024-07-16T17:47:46.450299Z"
    }
   },
   "cell_type": "code",
   "source": [
    "print(v @ linarg)\n",
    "print(v @ genotypes)"
   ],
   "id": "310083ba8126d66f",
   "outputs": [
    {
     "name": "stdout",
     "output_type": "stream",
     "text": [
      "[[2000. 2464. 2420. ...   84.  668.  837.]]\n",
      "[2000. 2464. 2420. ...   84.  668.  837.]\n"
     ]
    }
   ],
   "execution_count": 8
  },
  {
   "metadata": {
    "ExecuteTime": {
     "end_time": "2024-07-16T17:47:46.524898Z",
     "start_time": "2024-07-16T17:47:46.488127Z"
    }
   },
   "cell_type": "code",
   "source": [
    "acl = v @ linarg\n",
    "acg = v @ genotypes\n",
    "print(np.where(acl != acg))"
   ],
   "id": "d623da69fa7e9967",
   "outputs": [
    {
     "name": "stdout",
     "output_type": "stream",
     "text": [
      "(array([0, 0, 0, 0, 0, 0, 0, 0, 0, 0, 0, 0, 0, 0, 0, 0, 0, 0, 0, 0, 0, 0,\n",
      "       0, 0, 0, 0, 0, 0, 0, 0, 0, 0, 0, 0, 0, 0, 0, 0, 0, 0, 0, 0, 0, 0,\n",
      "       0, 0, 0, 0, 0, 0, 0, 0, 0, 0, 0, 0, 0, 0, 0, 0, 0, 0, 0, 0, 0, 0,\n",
      "       0, 0, 0, 0, 0, 0, 0, 0, 0, 0, 0, 0, 0, 0, 0, 0, 0, 0, 0, 0, 0, 0,\n",
      "       0, 0, 0, 0, 0, 0, 0, 0, 0, 0, 0, 0, 0, 0, 0, 0, 0, 0, 0, 0, 0, 0,\n",
      "       0, 0, 0, 0, 0, 0, 0, 0, 0, 0, 0, 0, 0, 0, 0, 0, 0, 0, 0, 0, 0, 0,\n",
      "       0, 0, 0, 0, 0, 0, 0, 0, 0, 0, 0, 0, 0, 0, 0, 0, 0, 0, 0, 0, 0, 0,\n",
      "       0, 0, 0, 0, 0, 0, 0, 0, 0, 0, 0, 0, 0, 0, 0, 0, 0, 0, 0, 0, 0, 0,\n",
      "       0, 0, 0, 0, 0, 0, 0, 0, 0, 0, 0, 0, 0, 0, 0, 0, 0, 0, 0, 0, 0, 0,\n",
      "       0, 0, 0, 0, 0, 0, 0, 0, 0, 0, 0, 0, 0, 0, 0, 0, 0, 0, 0, 0, 0, 0,\n",
      "       0, 0, 0, 0, 0, 0, 0, 0, 0, 0, 0, 0, 0, 0, 0, 0, 0, 0, 0, 0, 0, 0,\n",
      "       0, 0, 0, 0, 0, 0, 0, 0, 0, 0, 0, 0, 0, 0, 0, 0, 0, 0, 0, 0, 0, 0,\n",
      "       0, 0, 0, 0, 0, 0, 0, 0, 0, 0, 0, 0, 0, 0, 0, 0, 0, 0, 0, 0, 0, 0,\n",
      "       0, 0, 0, 0, 0, 0, 0, 0, 0, 0, 0, 0, 0, 0, 0, 0, 0, 0, 0, 0, 0, 0,\n",
      "       0, 0, 0, 0, 0, 0, 0, 0, 0, 0, 0, 0, 0, 0, 0, 0, 0, 0, 0, 0, 0, 0,\n",
      "       0, 0, 0, 0, 0, 0, 0, 0, 0, 0, 0, 0, 0, 0, 0, 0, 0, 0, 0, 0, 0, 0,\n",
      "       0, 0, 0, 0, 0, 0, 0, 0, 0, 0, 0, 0, 0, 0, 0, 0, 0, 0, 0, 0, 0, 0,\n",
      "       0, 0, 0, 0, 0, 0, 0, 0, 0, 0, 0, 0, 0, 0, 0, 0, 0, 0, 0, 0, 0, 0,\n",
      "       0, 0, 0, 0, 0, 0]), array([   12,    57,   101,   156,   170,   174,   187,   222,   226,\n",
      "         231,   253,   330,   343,   357,   359,   362,   370,   524,\n",
      "         531,   599,   603,   611,   618,   637,   650,   736,   739,\n",
      "         749,   792,   810,   923,  1078,  1119,  1135,  1181,  1207,\n",
      "        1264,  1307,  1346,  1350,  1354,  1380,  1486,  1491,  1594,\n",
      "        1762,  1768,  1859,  1970,  2025,  2044,  2045,  2047,  2099,\n",
      "        2102,  2115,  2492,  2598,  2762,  2891,  3178,  3184,  3331,\n",
      "        3364,  3510,  3524,  3662,  3707,  3769,  3784,  3788,  3807,\n",
      "        3808,  3820,  3838,  3875,  3892,  3896,  4063,  4064,  4085,\n",
      "        4106,  4129,  4136,  4137,  4145,  4229,  4230,  4232,  4234,\n",
      "        4237,  4253,  4273,  4281,  4285,  4313,  4337,  4338,  4345,\n",
      "        4375,  4376,  4400,  4402,  4415,  4458,  4590,  4598,  4660,\n",
      "        4721,  4795,  4796,  4799,  4806,  4883,  4904,  5063,  5067,\n",
      "        5072,  5073,  5082,  5086,  5220,  5276,  5348,  5371,  5623,\n",
      "        5655,  5683,  5703,  5726,  5776,  5831,  5832,  5872,  5937,\n",
      "        6013,  6097,  6121,  6172,  6287,  6345,  6423,  6435,  6446,\n",
      "        6743,  6772,  6779,  6944,  7002,  7048,  7159,  7166,  7308,\n",
      "        7332,  7359,  7379,  7427,  7472,  7750,  7914,  7926,  7973,\n",
      "        8208,  8260,  8280,  8298,  8308,  8311,  8321,  8322,  8423,\n",
      "        8682,  8702,  8737,  8774,  8802,  8819,  8964,  9058,  9123,\n",
      "        9125,  9192,  9266,  9288,  9305,  9324,  9437,  9451,  9453,\n",
      "        9601,  9695,  9802,  9841,  9938,  9949,  9998, 10027, 10038,\n",
      "       10062, 10082, 10103, 10115, 10119, 10160, 10167, 10183, 10192,\n",
      "       10197, 10216, 10248, 10262, 10264, 10287, 10372, 10410, 10427,\n",
      "       10437, 10439, 10457, 10491, 10492, 10509, 10543, 10544, 10559,\n",
      "       10721, 10727, 10790, 11131, 11172, 11178, 11197, 11232, 11243,\n",
      "       11286, 11351, 11463, 11556, 11565, 11575, 11582, 11666, 11672,\n",
      "       11675, 11701, 11703, 11725, 11739, 11748, 11760, 11777, 11787,\n",
      "       11793, 11794, 11802, 11807, 11808, 11818, 11894, 11925, 11940,\n",
      "       11972, 11982, 11983, 11984, 11985, 11986, 12018, 12020, 12072,\n",
      "       12089, 12098, 12125, 12131, 12153, 12157, 12166, 12172, 12230,\n",
      "       12244, 12281, 12338, 12351, 12431, 12443, 12454, 12456, 12533,\n",
      "       12536, 12551, 12600, 12617, 12655, 12706, 12707, 12725, 12728,\n",
      "       12772, 12774, 12794, 12828, 12857, 12931, 12935, 12964, 13020,\n",
      "       13037, 13050, 13051, 13073, 13077, 13235, 13314, 13321, 13328,\n",
      "       13348, 13378, 13421, 13424, 13436, 13448, 13556, 13558, 13562,\n",
      "       13564, 13571, 13572, 13575, 13576, 13577, 13583, 13586, 13589,\n",
      "       13591, 13594, 13617, 13778, 13833, 13845, 13863, 13895, 13954,\n",
      "       14012, 14035, 14078, 14094, 14147, 14177, 14202, 14238, 14304,\n",
      "       14565, 14582, 14584, 14588, 14749, 14844, 14846, 14912, 14926,\n",
      "       14934, 14943, 14946, 14947, 14951, 14966, 14982, 15002, 15003,\n",
      "       15018, 15032, 15033, 15035, 15037, 15054, 15132, 15134, 15252,\n",
      "       15254, 15277, 15293, 15325, 15361, 15388, 15396, 15442, 15575,\n",
      "       15601, 15633, 15743, 15771, 15779, 15831, 15884, 15904, 15907,\n",
      "       15915, 15930, 16084, 16107, 16186, 16224]))\n"
     ]
    }
   ],
   "execution_count": 9
  },
  {
   "metadata": {
    "ExecuteTime": {
     "end_time": "2024-07-16T17:47:46.527549Z",
     "start_time": "2024-07-16T17:47:46.525507Z"
    }
   },
   "cell_type": "code",
   "source": [
    "acl[0,156], acg[156]"
   ],
   "id": "a3335ff2854133cd",
   "outputs": [
    {
     "data": {
      "text/plain": [
       "(1351.0, 1352.0)"
      ]
     },
     "execution_count": 10,
     "metadata": {},
     "output_type": "execute_result"
    }
   ],
   "execution_count": 10
  },
  {
   "metadata": {
    "ExecuteTime": {
     "end_time": "2024-07-17T14:06:12.714659Z",
     "start_time": "2024-07-17T14:05:49.306810Z"
    }
   },
   "cell_type": "code",
   "source": [
    "ploidy = 1\n",
    "brick_graph_closure = infer_brick_graph_using_containment(genotypes, ploidy)\n",
    "brick_graph_closure = remove_undirected_edges(brick_graph_closure)"
   ],
   "id": "e71d5ed247f00184",
   "outputs": [],
   "execution_count": 3
  },
  {
   "cell_type": "code",
   "source": [
    "setdiag(brick_graph_closure, 0)\n",
    "brick_graph_closure.eliminate_zeros()"
   ],
   "metadata": {
    "collapsed": false,
    "ExecuteTime": {
     "end_time": "2024-07-17T14:06:12.718012Z",
     "start_time": "2024-07-17T14:06:12.715227Z"
    }
   },
   "id": "b16f51a56bac7840",
   "outputs": [],
   "execution_count": 4
  },
  {
   "metadata": {
    "collapsed": false,
    "ExecuteTime": {
     "end_time": "2024-07-17T12:07:49.376007Z",
     "start_time": "2024-07-17T12:07:46.128766Z"
    }
   },
   "cell_type": "code",
   "source": [
    "# # Brick graph including sample nodes\n",
    "brick_graph_closure = add_samples_to_brick_graph_closure(genotypes, brick_graph_closure)\n",
    "setdiag(brick_graph_closure, 0)\n",
    "brick_graph_closure.eliminate_zeros()"
   ],
   "id": "c60bbd86897a9394",
   "outputs": [],
   "execution_count": 41
  },
  {
   "cell_type": "code",
   "outputs": [
    {
     "data": {
      "text/plain": "<Compressed Sparse Row sparse matrix of dtype 'int32'\n\twith 7952849 stored elements and shape (21241, 21241)>"
     },
     "execution_count": 42,
     "metadata": {},
     "output_type": "execute_result"
    }
   ],
   "source": [
    "brick_graph_closure"
   ],
   "metadata": {
    "collapsed": false,
    "ExecuteTime": {
     "end_time": "2024-07-17T12:07:49.398775Z",
     "start_time": "2024-07-17T12:07:49.378153Z"
    }
   },
   "id": "ed5aa27175d0dc19",
   "execution_count": 42
  },
  {
   "cell_type": "code",
   "outputs": [],
   "source": [
    "# brick_graph = csr_matrix(closure_transitive_reduction(brick_graph_closure).transpose())\n",
    "# setdiag(brick_graph, 0)\n",
    "# brick_graph.eliminate_zeros()\n",
    "# brick_graph.sort_indices()"
   ],
   "metadata": {
    "collapsed": false,
    "ExecuteTime": {
     "end_time": "2024-07-17T11:29:09.378049Z",
     "start_time": "2024-07-17T11:29:09.352015Z"
    }
   },
   "id": "9d43e57aa5e81cc6",
   "execution_count": 28
  },
  {
   "cell_type": "code",
   "source": [
    "# # Find recombinations\n",
    "# trio_list = ld.Trios(brick_graph.nnz)\n",
    "# trio_list.convert_matrix(brick_graph.indices, brick_graph.indptr)\n",
    "# trio_list.find_recombinations()\n",
    "# edges = trio_list.fill_edgelist()"
   ],
   "metadata": {
    "collapsed": false,
    "ExecuteTime": {
     "end_time": "2024-07-17T11:29:09.385627Z",
     "start_time": "2024-07-17T11:29:09.356394Z"
    }
   },
   "id": "9aa800d0fb8b380f",
   "outputs": [],
   "execution_count": 29
  },
  {
   "metadata": {
    "ExecuteTime": {
     "end_time": "2024-07-17T14:06:12.731203Z",
     "start_time": "2024-07-17T14:06:12.719057Z"
    }
   },
   "cell_type": "code",
   "source": [
    "from scipy.sparse import coo_matrix\n",
    "M = coo_matrix(brick_graph_closure)\n",
    "edges = list(zip(M.col, M.row))"
   ],
   "id": "ab63cc59c5ed937b",
   "outputs": [],
   "execution_count": 5
  },
  {
   "cell_type": "code",
   "source": [
    "# Linearize\n",
    "import networkx as nx\n",
    "G = nx.DiGraph()\n",
    "num_nodes = 1 + np.max([max(i, j) for i, j in edges])\n",
    "G.add_nodes_from(np.arange(num_nodes))\n",
    "G.add_edges_from(edges)\n",
    "\n",
    "G = nx.transitive_reduction(G)\n",
    "# path_sums = ld.one_summed.compute_path_sums(G)"
   ],
   "metadata": {
    "collapsed": false,
    "ExecuteTime": {
     "end_time": "2024-07-17T14:06:13.065144Z",
     "start_time": "2024-07-17T14:06:12.731746Z"
    }
   },
   "id": "d57c13e8a39d7230",
   "outputs": [],
   "execution_count": 6
  },
  {
   "cell_type": "code",
   "source": [
    "for e in G.edges:\n",
    "    G.edges[e]['weight'] = 1"
   ],
   "metadata": {
    "collapsed": false,
    "ExecuteTime": {
     "end_time": "2024-07-17T14:06:13.079539Z",
     "start_time": "2024-07-17T14:06:13.066205Z"
    }
   },
   "id": "2c349228d88868f8",
   "outputs": [],
   "execution_count": 7
  },
  {
   "cell_type": "code",
   "source": [
    "from one_summed import ActiveSet\n",
    "def construct_1_summed_DAG_simple(G: nx.DiGraph) -> nx.DiGraph:\n",
    "    from collections import defaultdict\n",
    "    G_prime = G.copy()\n",
    "    sorted_nodes = reversed(list(nx.topological_sort(G)))\n",
    "    topological_ordering = {node: index for index, node in enumerate(sorted_nodes)}\n",
    "\n",
    "    for i in topological_ordering:\n",
    "        L = ActiveSet(i, -topological_ordering[i])\n",
    "        path_sum = defaultdict(int)\n",
    "        path_sum[i] = 1\n",
    "\n",
    "        while L:\n",
    "            j = L.pop()\n",
    "            for k in G_prime.successors(j):\n",
    "                assert k != j\n",
    "                if k not in L:\n",
    "                    L.push(k, -topological_ordering[k])\n",
    "                path_sum[k] += G_prime[j][k][\"weight\"]\n",
    "\n",
    "            if path_sum[j] == 1:\n",
    "                continue\n",
    "                \n",
    "            if not G_prime.has_edge(i, j):\n",
    "                G_prime.add_edge(i, j, weight=0)\n",
    "\n",
    "            G_prime[i][j][\"weight\"] += 1 - path_sum[j]\n",
    "\n",
    "    return G_prime"
   ],
   "metadata": {
    "collapsed": false,
    "ExecuteTime": {
     "end_time": "2024-07-17T14:06:13.083829Z",
     "start_time": "2024-07-17T14:06:13.080217Z"
    }
   },
   "id": "38d4eb15cb0780f6",
   "outputs": [],
   "execution_count": 8
  },
  {
   "metadata": {
    "ExecuteTime": {
     "end_time": "2024-07-17T14:14:41.790572Z",
     "start_time": "2024-07-17T14:14:41.787883Z"
    }
   },
   "cell_type": "code",
   "source": [
    "def add_samples_to_initial_brick_graph(genotypes: csc_matrix, brick_graph: nx.DiGraph) -> nx.DiGraph:\n",
    "    n, m = genotypes.shape\n",
    "    assert np.all(genotypes.data == 1), \"this doesn't work with unphased data\"\n",
    "    \n",
    "    result = G.copy()\n",
    "    for row in range(n):\n",
    "        row_data_indices = range(genotypes.indptr[row], genotypes.indptr[row + 1])\n",
    "        ancestors = set(genotypes.indices[row_data_indices])\n",
    "        parents = []\n",
    "        for ancestor in ancestors:\n",
    "            ancestor_parents = set(G.predecessors(ancestor))\n",
    "            if ancestor_parents.isdisjoint(ancestors):\n",
    "                parents.append(ancestor)\n",
    "        result.add_weighted_edges_from([(parent, row+m, 1) for parent in parents])\n",
    "        \n",
    "    return result"
   ],
   "id": "92c214ecaad30946",
   "outputs": [],
   "execution_count": 21
  },
  {
   "cell_type": "code",
   "source": [
    "Gp = construct_1_summed_DAG_simple(G.copy())"
   ],
   "metadata": {
    "collapsed": false,
    "ExecuteTime": {
     "end_time": "2024-07-17T14:06:25.430012Z",
     "start_time": "2024-07-17T14:06:25.035588Z"
    }
   },
   "id": "c7d5f4b071c21520",
   "outputs": [],
   "execution_count": 9
  },
  {
   "metadata": {
    "ExecuteTime": {
     "end_time": "2024-07-17T14:06:25.466514Z",
     "start_time": "2024-07-17T14:06:25.430923Z"
    }
   },
   "cell_type": "code",
   "source": [
    "linear_arg_adjacency_matrix = csr_matrix(nx.to_scipy_sparse_array(Gp, format=\"csc\").transpose())"
   ],
   "id": "9827744f0bbe7666",
   "outputs": [],
   "execution_count": 10
  },
  {
   "metadata": {
    "ExecuteTime": {
     "end_time": "2024-07-17T14:07:12.389193Z",
     "start_time": "2024-07-17T14:07:11.705603Z"
    }
   },
   "cell_type": "code",
   "source": [
    "linear_arg_adjacency_matrix_samples_added_after = add_samples_to_linear_arg(genotypes, linear_arg_adjacency_matrix)"
   ],
   "id": "f75868a516929e32",
   "outputs": [],
   "execution_count": 13
  },
  {
   "metadata": {
    "ExecuteTime": {
     "end_time": "2024-07-17T14:07:32.907957Z",
     "start_time": "2024-07-17T14:07:24.082253Z"
    }
   },
   "cell_type": "code",
   "source": [
    "n, m = linarg_old.shape\n",
    "linarg_manual = ld.LinearARG(linear_arg_adjacency_matrix_samples_added_after, np.arange(n), np.arange(n, n+m), np.zeros(m))\n",
    "say_done()\n",
    "af_equal(genotypes, linarg_manual)"
   ],
   "id": "5687ce39982ed78d",
   "outputs": [
    {
     "data": {
      "text/plain": [
       "True"
      ]
     },
     "execution_count": 14,
     "metadata": {},
     "output_type": "execute_result"
    }
   ],
   "execution_count": 14
  },
  {
   "cell_type": "code",
   "source": [
    "G_before = add_samples_to_initial_brick_graph(genotypes, G)\n",
    "Gp_before = construct_1_summed_DAG_simple(G_before)"
   ],
   "metadata": {
    "collapsed": false,
    "ExecuteTime": {
     "end_time": "2024-07-17T14:22:49.508431Z",
     "start_time": "2024-07-17T14:22:28.272325Z"
    }
   },
   "id": "cfaf975e0b5fd24c",
   "outputs": [],
   "execution_count": 36
  },
  {
   "metadata": {
    "ExecuteTime": {
     "end_time": "2024-07-17T14:22:50.475251Z",
     "start_time": "2024-07-17T14:22:49.509298Z"
    }
   },
   "cell_type": "code",
   "source": [
    "linear_arg_adjacency_matrix = csr_matrix(nx.to_scipy_sparse_array(Gp_before, format=\"csc\").transpose())"
   ],
   "id": "95ef7e6a77c83183",
   "outputs": [],
   "execution_count": 37
  },
  {
   "metadata": {
    "ExecuteTime": {
     "end_time": "2024-07-17T14:26:05.370214Z",
     "start_time": "2024-07-17T14:26:01.061854Z"
    }
   },
   "cell_type": "code",
   "source": [
    "n, m = linarg_old.shape\n",
    "linear_arg_adjacency_matrix.eliminate_zeros()\n",
    "linarg_manual = ld.LinearARG(linear_arg_adjacency_matrix, np.arange(m,n+m), np.arange(m), np.zeros(m))\n",
    "say_done()\n",
    "af_equal(genotypes, linarg_manual)"
   ],
   "id": "2d10731ceb5e4a8",
   "outputs": [
    {
     "data": {
      "text/plain": [
       "False"
      ]
     },
     "execution_count": 44,
     "metadata": {},
     "output_type": "execute_result"
    }
   ],
   "execution_count": 44
  },
  {
   "metadata": {
    "ExecuteTime": {
     "end_time": "2024-07-17T14:22:58.590520Z",
     "start_time": "2024-07-17T14:22:55.097482Z"
    }
   },
   "cell_type": "code",
   "source": [
    "linarg_manual = linarg_manual.make_triangular()\n",
    "v = np.ones(n)\n",
    "v @ linarg_manual, v @ genotypes"
   ],
   "id": "3e044d87bff6cbed",
   "outputs": [
    {
     "data": {
      "text/plain": [
       "(array([[1799., 1101., 1259., ...,    0.,    0.,    0.]]),\n",
       " array([2000., 2464., 2420., ...,   84.,  668.,  837.]))"
      ]
     },
     "execution_count": 39,
     "metadata": {},
     "output_type": "execute_result"
    }
   ],
   "execution_count": 39
  },
  {
   "metadata": {
    "ExecuteTime": {
     "end_time": "2024-07-17T14:22:05.436744Z",
     "start_time": "2024-07-17T14:22:05.381150Z"
    }
   },
   "cell_type": "code",
   "source": [
    "np.unique(v @ linarg_manual - v @ genotypes)"
   ],
   "id": "708a4be9ed6d5480",
   "outputs": [
    {
     "data": {
      "text/plain": [
       "array([-2503., -2501., -2500., ...,  2627.,  2628.,  2748.])"
      ]
     },
     "execution_count": 35,
     "metadata": {},
     "output_type": "execute_result"
    }
   ],
   "execution_count": 35
  },
  {
   "metadata": {
    "ExecuteTime": {
     "end_time": "2024-07-17T14:24:43.527755Z",
     "start_time": "2024-07-17T14:24:43.522312Z"
    }
   },
   "cell_type": "code",
   "source": [
    "np.mean(linear_arg_adjacency_matrix_samples_added_after.data == 0)"
   ],
   "id": "4ea424bccbb1196b",
   "outputs": [
    {
     "data": {
      "text/plain": [
       "0.0"
      ]
     },
     "execution_count": 43,
     "metadata": {},
     "output_type": "execute_result"
    }
   ],
   "execution_count": 43
  },
  {
   "cell_type": "code",
   "outputs": [],
   "source": [
    "from scipy.sparse import coo_matrix\n",
    "edges = coo_matrix(brick_graph)\n",
    "edges = zip(edges.row, edges.col)"
   ],
   "metadata": {
    "collapsed": false,
    "ExecuteTime": {
     "start_time": "2024-07-16T10:48:59.673645Z"
    }
   },
   "id": "9b428766c958716c",
   "execution_count": null
  },
  {
   "cell_type": "code",
   "outputs": [],
   "source": [
    "import networkx as nx\n",
    "from linear_dag.one_summed import construct_1_summed_DAG_slow\n",
    "G = nx.DiGraph()\n",
    "G.add_edges_from(edges)"
   ],
   "metadata": {
    "collapsed": false,
    "ExecuteTime": {
     "start_time": "2024-07-16T10:48:59.675192Z"
    }
   },
   "id": "6328953aeac62ec0",
   "execution_count": null
  },
  {
   "cell_type": "code",
   "outputs": [
    {
     "ename": "NameError",
     "evalue": "name 'nx' is not defined",
     "output_type": "error",
     "traceback": [
      "\u001B[0;31m---------------------------------------------------------------------------\u001B[0m",
      "\u001B[0;31mNameError\u001B[0m                                 Traceback (most recent call last)",
      "Cell \u001B[0;32mIn[3], line 1\u001B[0m\n\u001B[0;32m----> 1\u001B[0m nx\u001B[38;5;241m.\u001B[39mis_directed_acyclic_graph(G)\n",
      "\u001B[0;31mNameError\u001B[0m: name 'nx' is not defined"
     ]
    }
   ],
   "source": [
    "nx.is_directed_acyclic_graph(G)"
   ],
   "metadata": {
    "collapsed": false,
    "ExecuteTime": {
     "start_time": "2024-07-16T10:48:59.681738Z"
    }
   },
   "id": "5e3136c87605479d",
   "execution_count": 3
  },
  {
   "cell_type": "code",
   "outputs": [
    {
     "ename": "NameError",
     "evalue": "name 'G' is not defined",
     "output_type": "error",
     "traceback": [
      "\u001B[0;31m---------------------------------------------------------------------------\u001B[0m",
      "\u001B[0;31mNameError\u001B[0m                                 Traceback (most recent call last)",
      "Cell \u001B[0;32mIn[4], line 1\u001B[0m\n\u001B[0;32m----> 1\u001B[0m \u001B[38;5;28;01mfor\u001B[39;00m e \u001B[38;5;129;01min\u001B[39;00m G\u001B[38;5;241m.\u001B[39medges:\n\u001B[1;32m      2\u001B[0m     G\u001B[38;5;241m.\u001B[39medges[e][\u001B[38;5;124m'\u001B[39m\u001B[38;5;124mweight\u001B[39m\u001B[38;5;124m'\u001B[39m] \u001B[38;5;241m=\u001B[39m \u001B[38;5;241m1\u001B[39m\n\u001B[1;32m      3\u001B[0m Gp \u001B[38;5;241m=\u001B[39m construct_1_summed_DAG_slow(G)\n",
      "\u001B[0;31mNameError\u001B[0m: name 'G' is not defined"
     ]
    }
   ],
   "source": [
    "for e in G.edges:\n",
    "    G.edges[e]['weight'] = 1\n",
    "Gp = construct_1_summed_DAG_slow(G)"
   ],
   "metadata": {
    "collapsed": false,
    "ExecuteTime": {
     "end_time": "2024-07-16T10:48:59.983755Z",
     "start_time": "2024-07-16T10:48:59.790171Z"
    }
   },
   "id": "2fd3a3868f8fe47a",
   "execution_count": 4
  },
  {
   "cell_type": "code",
   "outputs": [
    {
     "ename": "NameError",
     "evalue": "name 'nx' is not defined",
     "output_type": "error",
     "traceback": [
      "\u001B[0;31m---------------------------------------------------------------------------\u001B[0m",
      "\u001B[0;31mNameError\u001B[0m                                 Traceback (most recent call last)",
      "Cell \u001B[0;32mIn[5], line 1\u001B[0m\n\u001B[0;32m----> 1\u001B[0m \u001B[38;5;28;01mfor\u001B[39;00m e \u001B[38;5;129;01min\u001B[39;00m nx\u001B[38;5;241m.\u001B[39mselfloop_edges(G):\n\u001B[1;32m      2\u001B[0m     G\u001B[38;5;241m.\u001B[39mremove_edge(\u001B[38;5;241m*\u001B[39me)\n",
      "\u001B[0;31mNameError\u001B[0m: name 'nx' is not defined"
     ]
    }
   ],
   "source": [
    "for e in nx.selfloop_edges(G):\n",
    "    G.remove_edge(*e)"
   ],
   "metadata": {
    "collapsed": false,
    "ExecuteTime": {
     "end_time": "2024-07-16T10:49:00.033822Z",
     "start_time": "2024-07-16T10:48:59.992293Z"
    }
   },
   "id": "444254480a70232e",
   "execution_count": 5
  },
  {
   "cell_type": "code",
   "outputs": [
    {
     "ename": "NameError",
     "evalue": "name 'construct_1_summed_DAG_slow' is not defined",
     "output_type": "error",
     "traceback": [
      "\u001B[0;31m---------------------------------------------------------------------------\u001B[0m",
      "\u001B[0;31mNameError\u001B[0m                                 Traceback (most recent call last)",
      "Cell \u001B[0;32mIn[6], line 1\u001B[0m\n\u001B[0;32m----> 1\u001B[0m Gp \u001B[38;5;241m=\u001B[39m construct_1_summed_DAG_slow(G)\n",
      "\u001B[0;31mNameError\u001B[0m: name 'construct_1_summed_DAG_slow' is not defined"
     ]
    }
   ],
   "source": [
    "Gp = construct_1_summed_DAG_slow(G)"
   ],
   "metadata": {
    "collapsed": false,
    "ExecuteTime": {
     "start_time": "2024-07-16T10:49:00.019499Z"
    }
   },
   "id": "37fe5f1d725aa1bc",
   "execution_count": 6
  },
  {
   "cell_type": "code",
   "outputs": [
    {
     "ename": "NameError",
     "evalue": "name 'G' is not defined",
     "output_type": "error",
     "traceback": [
      "\u001B[0;31m---------------------------------------------------------------------------\u001B[0m",
      "\u001B[0;31mNameError\u001B[0m                                 Traceback (most recent call last)",
      "Cell \u001B[0;32mIn[7], line 1\u001B[0m\n\u001B[0;32m----> 1\u001B[0m edges \u001B[38;5;241m=\u001B[39m \u001B[38;5;28mlist\u001B[39m(G\u001B[38;5;241m.\u001B[39medges())\n\u001B[1;32m      2\u001B[0m \u001B[38;5;28;01mfor\u001B[39;00m i,j \u001B[38;5;129;01min\u001B[39;00m edges:\n\u001B[1;32m      3\u001B[0m     \u001B[38;5;28;01mif\u001B[39;00m \u001B[38;5;129;01mnot\u001B[39;00m G\u001B[38;5;241m.\u001B[39mhas_edge(j,i) \u001B[38;5;129;01mor\u001B[39;00m \u001B[38;5;129;01mnot\u001B[39;00m G\u001B[38;5;241m.\u001B[39mhas_edge(i,j):\n",
      "\u001B[0;31mNameError\u001B[0m: name 'G' is not defined"
     ]
    }
   ],
   "source": [
    "edges = list(G.edges())\n",
    "for i,j in edges:\n",
    "    if not G.has_edge(j,i) or not G.has_edge(i,j):\n",
    "        continue\n",
    "    G.remove_edge(max(i,j), min(i,j))"
   ],
   "metadata": {
    "collapsed": false,
    "ExecuteTime": {
     "end_time": "2024-07-16T10:49:00.179194Z",
     "start_time": "2024-07-16T10:49:00.099593Z"
    }
   },
   "id": "bf4019ce83eb7459",
   "execution_count": 7
  },
  {
   "cell_type": "code",
   "outputs": [
    {
     "ename": "NameError",
     "evalue": "name 'construct_1_summed_DAG_slow' is not defined",
     "output_type": "error",
     "traceback": [
      "\u001B[0;31m---------------------------------------------------------------------------\u001B[0m",
      "\u001B[0;31mNameError\u001B[0m                                 Traceback (most recent call last)",
      "Cell \u001B[0;32mIn[8], line 1\u001B[0m\n\u001B[0;32m----> 1\u001B[0m Gp \u001B[38;5;241m=\u001B[39m construct_1_summed_DAG_slow(G)\n",
      "\u001B[0;31mNameError\u001B[0m: name 'construct_1_summed_DAG_slow' is not defined"
     ]
    }
   ],
   "source": [
    "Gp = construct_1_summed_DAG_slow(G)"
   ],
   "metadata": {
    "collapsed": false,
    "ExecuteTime": {
     "start_time": "2024-07-16T10:49:00.171428Z"
    }
   },
   "id": "672a7e3fbefbb515",
   "execution_count": 8
  },
  {
   "cell_type": "code",
   "outputs": [
    {
     "ename": "NameError",
     "evalue": "name 'nx' is not defined",
     "output_type": "error",
     "traceback": [
      "\u001B[0;31m---------------------------------------------------------------------------\u001B[0m",
      "\u001B[0;31mNameError\u001B[0m                                 Traceback (most recent call last)",
      "Cell \u001B[0;32mIn[9], line 1\u001B[0m\n\u001B[0;32m----> 1\u001B[0m nx\u001B[38;5;241m.\u001B[39mis_directed_acyclic_graph(G)\n",
      "\u001B[0;31mNameError\u001B[0m: name 'nx' is not defined"
     ]
    }
   ],
   "source": [
    "nx.is_directed_acyclic_graph(G)"
   ],
   "metadata": {
    "collapsed": false,
    "ExecuteTime": {
     "end_time": "2024-07-16T10:49:00.302492Z",
     "start_time": "2024-07-16T10:49:00.253894Z"
    }
   },
   "id": "3d423f513792c71c",
   "execution_count": 9
  },
  {
   "cell_type": "code",
   "outputs": [
    {
     "ename": "NameError",
     "evalue": "name 'trio_list' is not defined",
     "output_type": "error",
     "traceback": [
      "\u001B[0;31m---------------------------------------------------------------------------\u001B[0m",
      "\u001B[0;31mNameError\u001B[0m                                 Traceback (most recent call last)",
      "Cell \u001B[0;32mIn[10], line 1\u001B[0m\n\u001B[0;32m----> 1\u001B[0m edges \u001B[38;5;241m=\u001B[39m trio_list\u001B[38;5;241m.\u001B[39mfill_edgelist()\n\u001B[1;32m      2\u001B[0m np\u001B[38;5;241m.\u001B[39masarray(edges)\n",
      "\u001B[0;31mNameError\u001B[0m: name 'trio_list' is not defined"
     ]
    }
   ],
   "source": [
    "edges = trio_list.fill_edgelist()\n",
    "np.asarray(edges)"
   ],
   "metadata": {
    "collapsed": false,
    "ExecuteTime": {
     "end_time": "2024-07-16T10:49:00.395954Z",
     "start_time": "2024-07-16T10:49:00.306394Z"
    }
   },
   "id": "4441223916e346b9",
   "execution_count": 10
  },
  {
   "cell_type": "code",
   "outputs": [
    {
     "ename": "NameError",
     "evalue": "name 'np' is not defined",
     "output_type": "error",
     "traceback": [
      "\u001B[0;31m---------------------------------------------------------------------------\u001B[0m",
      "\u001B[0;31mNameError\u001B[0m                                 Traceback (most recent call last)",
      "Cell \u001B[0;32mIn[11], line 1\u001B[0m\n\u001B[0;32m----> 1\u001B[0m num_nodes \u001B[38;5;241m=\u001B[39m np\u001B[38;5;241m.\u001B[39mmax(edges) \u001B[38;5;241m+\u001B[39m \u001B[38;5;241m1\u001B[39m\n\u001B[1;32m      2\u001B[0m new_brick_graph \u001B[38;5;241m=\u001B[39m csr_matrix(\n\u001B[1;32m      3\u001B[0m             (np\u001B[38;5;241m.\u001B[39mones(edges\u001B[38;5;241m.\u001B[39mshape[\u001B[38;5;241m0\u001B[39m]), (edges[:, \u001B[38;5;241m0\u001B[39m], edges[:, \u001B[38;5;241m1\u001B[39m])), shape\u001B[38;5;241m=\u001B[39m(num_nodes, num_nodes))\n",
      "\u001B[0;31mNameError\u001B[0m: name 'np' is not defined"
     ]
    }
   ],
   "source": [
    "num_nodes = np.max(edges) + 1\n",
    "new_brick_graph = csr_matrix(\n",
    "            (np.ones(edges.shape[0]), (edges[:, 0], edges[:, 1])), shape=(num_nodes, num_nodes))"
   ],
   "metadata": {
    "collapsed": false,
    "ExecuteTime": {
     "start_time": "2024-07-16T10:49:00.370926Z"
    }
   },
   "id": "f1c3c129445c51fe",
   "execution_count": 11
  },
  {
   "cell_type": "code",
   "outputs": [],
   "source": [
    "from linear_dag.solve import topological_sort\n",
    "from linear_dag.linear_arg_inference import setdiag"
   ],
   "metadata": {
    "collapsed": false,
    "ExecuteTime": {
     "end_time": "2024-07-16T10:49:01.113017Z",
     "start_time": "2024-07-16T10:49:00.421254Z"
    }
   },
   "id": "eb6001a8ba529ddd",
   "execution_count": 12
  },
  {
   "cell_type": "code",
   "outputs": [
    {
     "ename": "NameError",
     "evalue": "name 'new_brick_graph' is not defined",
     "output_type": "error",
     "traceback": [
      "\u001B[0;31m---------------------------------------------------------------------------\u001B[0m",
      "\u001B[0;31mNameError\u001B[0m                                 Traceback (most recent call last)",
      "Cell \u001B[0;32mIn[13], line 1\u001B[0m\n\u001B[0;32m----> 1\u001B[0m new_brick_graph\u001B[38;5;241m.\u001B[39msetdiag(\u001B[38;5;241m0\u001B[39m)\n\u001B[1;32m      2\u001B[0m order \u001B[38;5;241m=\u001B[39m topological_sort(new_brick_graph)\n",
      "\u001B[0;31mNameError\u001B[0m: name 'new_brick_graph' is not defined"
     ]
    }
   ],
   "source": [
    "new_brick_graph.setdiag(0)\n",
    "order = topological_sort(new_brick_graph)"
   ],
   "metadata": {
    "collapsed": false,
    "ExecuteTime": {
     "end_time": "2024-07-16T10:49:01.156922Z",
     "start_time": "2024-07-16T10:49:01.071121Z"
    }
   },
   "id": "2e32ad3411087419",
   "execution_count": 13
  },
  {
   "cell_type": "code",
   "outputs": [],
   "source": [
    "edges = trio_list.fill_edgelist()"
   ],
   "metadata": {
    "collapsed": false,
    "ExecuteTime": {
     "start_time": "2024-07-16T10:49:01.120821Z"
    }
   },
   "id": "1ba40fcb1cf2d130",
   "execution_count": null
  },
  {
   "cell_type": "code",
   "outputs": [],
   "source": [
    "linear_arg_adjacency_matrix = csr_matrix(nx.to_scipy_sparse_array(G, format=\"csr\"))"
   ],
   "metadata": {
    "ExecuteTime": {
     "start_time": "2024-07-16T10:49:01.122561Z"
    }
   },
   "id": "4ee88ae36a7a5c1b",
   "execution_count": null
  },
  {
   "metadata": {
    "ExecuteTime": {
     "start_time": "2024-07-16T10:49:01.125216Z"
    }
   },
   "cell_type": "code",
   "source": [
    "brick_graph_closure.diagonal()"
   ],
   "id": "b45045b18a94e610",
   "outputs": [],
   "execution_count": null
  },
  {
   "metadata": {
    "ExecuteTime": {
     "start_time": "2024-07-16T10:49:01.127336Z"
    }
   },
   "cell_type": "code",
   "source": [
    "brick_graph_closure.setdiag(np.zeros(brick_graph_closure.shape[0]), k=0)\n",
    "brick_graph_closure.diagonal()\n"
   ],
   "id": "77b703d54832b028",
   "outputs": [],
   "execution_count": null
  },
  {
   "metadata": {
    "ExecuteTime": {
     "start_time": "2024-07-16T10:49:01.129331Z"
    }
   },
   "cell_type": "code",
   "source": [
    "brick_graph_closure.setdiag(np.zeros(brick_graph_closure.shape[0]), k=0)\n",
    "brick_graph_closure.diagonal()\n"
   ],
   "id": "b1c2e8f7376fcdc9",
   "outputs": [],
   "execution_count": null
  },
  {
   "metadata": {
    "ExecuteTime": {
     "start_time": "2024-07-16T10:49:01.131141Z"
    }
   },
   "cell_type": "code",
   "source": [
    "brick_graph_closure.shape"
   ],
   "id": "a1e8e3ab8c96ad99",
   "outputs": [],
   "execution_count": null
  },
  {
   "metadata": {
    "ExecuteTime": {
     "start_time": "2024-07-16T10:49:01.133100Z"
    }
   },
   "cell_type": "code",
   "source": [
    "len(brick_graph_closure.indptr)"
   ],
   "id": "b983d7c0fab8ca74",
   "outputs": [],
   "execution_count": null
  },
  {
   "metadata": {
    "ExecuteTime": {
     "start_time": "2024-07-16T10:49:01.134673Z"
    }
   },
   "cell_type": "code",
   "source": [
    "max(brick_graph_closure.indices)"
   ],
   "id": "2dfb9d391575078b",
   "outputs": [],
   "execution_count": null
  },
  {
   "metadata": {
    "ExecuteTime": {
     "start_time": "2024-07-16T10:49:01.135950Z"
    }
   },
   "cell_type": "code",
   "source": [
    "np.mean(brick_graph_closure.diagonal())"
   ],
   "id": "fa8156c2b7f7f43c",
   "outputs": [],
   "execution_count": null
  },
  {
   "cell_type": "code",
   "source": [
    "v = np.ones(linarg_old.shape[0])\n",
    "v @ linarg_old, v @ genotypes"
   ],
   "metadata": {
    "collapsed": false,
    "ExecuteTime": {
     "start_time": "2024-07-16T10:49:01.137378Z"
    }
   },
   "id": "d80717585d3ae4f8",
   "outputs": [],
   "execution_count": null
  },
  {
   "cell_type": "code",
   "source": [
    "linarg = ld.LinearARG.from_genotypes(genotypes, recombination_method=\"after\", brick_graph_method=\"old\", make_triangular=True)"
   ],
   "metadata": {
    "collapsed": false,
    "ExecuteTime": {
     "start_time": "2024-07-16T10:49:01.139213Z"
    }
   },
   "id": "aa6981b7989208ea",
   "outputs": [],
   "execution_count": null
  },
  {
   "metadata": {
    "ExecuteTime": {
     "start_time": "2024-07-16T10:49:01.140420Z"
    }
   },
   "cell_type": "code",
   "source": [
    "np.mean(linarg.data == 1)"
   ],
   "id": "1e5deb696a7d6368",
   "outputs": [],
   "execution_count": null
  },
  {
   "cell_type": "code",
   "source": [
    "linarg.nnz"
   ],
   "metadata": {
    "collapsed": false,
    "ExecuteTime": {
     "start_time": "2024-07-16T10:49:01.141555Z"
    }
   },
   "id": "2f24cd9634c5a793",
   "outputs": [],
   "execution_count": null
  },
  {
   "cell_type": "code",
   "source": [
    "linarg = linarg_old.unweight()\n",
    "linarg = linarg_old.find_recombinations()\n",
    "linarg.nnz"
   ],
   "metadata": {
    "collapsed": false,
    "ExecuteTime": {
     "start_time": "2024-07-16T10:49:01.142721Z"
    }
   },
   "id": "ed33110cea01796f",
   "outputs": [],
   "execution_count": null
  },
  {
   "metadata": {
    "ExecuteTime": {
     "end_time": "2024-07-16T10:49:01.457026Z",
     "start_time": "2024-07-16T10:49:01.165655Z"
    }
   },
   "cell_type": "code",
   "source": [
    "%%time\n",
    "path = \"/Users/loconnor/Dropbox/linearARG/linearg_shared/data/1kg_ALL_chr22_47876022_49355984_MAF_0.01_RF_0.01_T_8.genos\"\n",
    "output_file_prefix = None # \"/Volumes/T7/data/test/1kg_chr22_47876022_49355984\"\n",
    "linarg_old, genotypes = ld.run_linarg_workflow(\n",
    "    path, output_file_prefix, flip_minor_alleles=True, recombination_method=\"after\", make_triangular=False, brick_graph_method=\"old\"\n",
    ")"
   ],
   "id": "58a6c77832fe39cd",
   "outputs": [
    {
     "ename": "NameError",
     "evalue": "name 'ld' is not defined",
     "output_type": "error",
     "traceback": [
      "\u001B[0;31m---------------------------------------------------------------------------\u001B[0m",
      "\u001B[0;31mNameError\u001B[0m                                 Traceback (most recent call last)",
      "File \u001B[0;32m<timed exec>:3\u001B[0m\n",
      "\u001B[0;31mNameError\u001B[0m: name 'ld' is not defined"
     ]
    }
   ],
   "execution_count": 14
  },
  {
   "metadata": {
    "ExecuteTime": {
     "end_time": "2024-07-16T10:49:01.512836Z",
     "start_time": "2024-07-16T10:49:01.335618Z"
    }
   },
   "cell_type": "code",
   "source": [
    "linarg_old = linarg_old.unweight()\n",
    "linarg_old = linarg_old.find_recombinations()\n",
    "linarg_old.nnz"
   ],
   "id": "86244e2792ca5bf8",
   "outputs": [
    {
     "ename": "NameError",
     "evalue": "name 'linarg_old' is not defined",
     "output_type": "error",
     "traceback": [
      "\u001B[0;31m---------------------------------------------------------------------------\u001B[0m",
      "\u001B[0;31mNameError\u001B[0m                                 Traceback (most recent call last)",
      "Cell \u001B[0;32mIn[15], line 1\u001B[0m\n\u001B[0;32m----> 1\u001B[0m linarg_old \u001B[38;5;241m=\u001B[39m linarg_old\u001B[38;5;241m.\u001B[39munweight()\n\u001B[1;32m      2\u001B[0m linarg_old \u001B[38;5;241m=\u001B[39m linarg_old\u001B[38;5;241m.\u001B[39mfind_recombinations()\n\u001B[1;32m      3\u001B[0m linarg_old\u001B[38;5;241m.\u001B[39mnnz\n",
      "\u001B[0;31mNameError\u001B[0m: name 'linarg_old' is not defined"
     ]
    }
   ],
   "execution_count": 15
  },
  {
   "metadata": {
    "ExecuteTime": {
     "start_time": "2024-07-16T10:49:01.511054Z"
    }
   },
   "cell_type": "code",
   "source": [
    "genotypes.nnz / linarg_old.nnz"
   ],
   "id": "73a61f8e60ad55c0",
   "outputs": [
    {
     "ename": "NameError",
     "evalue": "name 'genotypes' is not defined",
     "output_type": "error",
     "traceback": [
      "\u001B[0;31m---------------------------------------------------------------------------\u001B[0m",
      "\u001B[0;31mNameError\u001B[0m                                 Traceback (most recent call last)",
      "Cell \u001B[0;32mIn[16], line 1\u001B[0m\n\u001B[0;32m----> 1\u001B[0m genotypes\u001B[38;5;241m.\u001B[39mnnz \u001B[38;5;241m/\u001B[39m linarg_old\u001B[38;5;241m.\u001B[39mnnz\n",
      "\u001B[0;31mNameError\u001B[0m: name 'genotypes' is not defined"
     ]
    }
   ],
   "execution_count": 16
  },
  {
   "metadata": {
    "ExecuteTime": {
     "end_time": "2024-07-16T10:49:01.673700Z",
     "start_time": "2024-07-16T10:49:01.612034Z"
    }
   },
   "cell_type": "code",
   "source": [
    "%%time\n",
    "from linear_dag.brick_graph import BrickGraph\n",
    "bg = BrickGraph.from_genotypes(genotypes)"
   ],
   "id": "146db6dddd11cf10",
   "outputs": [
    {
     "ename": "NameError",
     "evalue": "name 'genotypes' is not defined",
     "output_type": "error",
     "traceback": [
      "\u001B[0;31m---------------------------------------------------------------------------\u001B[0m",
      "\u001B[0;31mNameError\u001B[0m                                 Traceback (most recent call last)",
      "File \u001B[0;32m<timed exec>:2\u001B[0m\n",
      "\u001B[0;31mNameError\u001B[0m: name 'genotypes' is not defined"
     ]
    }
   ],
   "execution_count": 17
  },
  {
   "metadata": {
    "ExecuteTime": {
     "end_time": "2024-07-16T10:49:01.769922Z",
     "start_time": "2024-07-16T10:49:01.675458Z"
    }
   },
   "cell_type": "code",
   "source": [
    "edges = bg.edge_list()\n",
    "len(edges)"
   ],
   "id": "f0c244e41f85f2b3",
   "outputs": [
    {
     "ename": "NameError",
     "evalue": "name 'bg' is not defined",
     "output_type": "error",
     "traceback": [
      "\u001B[0;31m---------------------------------------------------------------------------\u001B[0m",
      "\u001B[0;31mNameError\u001B[0m                                 Traceback (most recent call last)",
      "Cell \u001B[0;32mIn[18], line 1\u001B[0m\n\u001B[0;32m----> 1\u001B[0m edges \u001B[38;5;241m=\u001B[39m bg\u001B[38;5;241m.\u001B[39medge_list()\n\u001B[1;32m      2\u001B[0m \u001B[38;5;28mlen\u001B[39m(edges)\n",
      "\u001B[0;31mNameError\u001B[0m: name 'bg' is not defined"
     ]
    }
   ],
   "execution_count": 18
  },
  {
   "metadata": {
    "ExecuteTime": {
     "start_time": "2024-07-16T10:49:01.745689Z"
    }
   },
   "cell_type": "code",
   "source": [
    "linarg_new = ld.LinearARG.from_genotypes(genotypes, brick_graph_method=\"new_cython\")"
   ],
   "id": "beefa46b3e54ad4a",
   "outputs": [
    {
     "ename": "NameError",
     "evalue": "name 'ld' is not defined",
     "output_type": "error",
     "traceback": [
      "\u001B[0;31m---------------------------------------------------------------------------\u001B[0m",
      "\u001B[0;31mNameError\u001B[0m                                 Traceback (most recent call last)",
      "Cell \u001B[0;32mIn[19], line 1\u001B[0m\n\u001B[0;32m----> 1\u001B[0m linarg_new \u001B[38;5;241m=\u001B[39m ld\u001B[38;5;241m.\u001B[39mLinearARG\u001B[38;5;241m.\u001B[39mfrom_genotypes(genotypes, brick_graph_method\u001B[38;5;241m=\u001B[39m\u001B[38;5;124m\"\u001B[39m\u001B[38;5;124mnew_cython\u001B[39m\u001B[38;5;124m\"\u001B[39m)\n",
      "\u001B[0;31mNameError\u001B[0m: name 'ld' is not defined"
     ]
    }
   ],
   "execution_count": 19
  },
  {
   "metadata": {
    "ExecuteTime": {
     "end_time": "2024-07-16T10:49:01.894203Z",
     "start_time": "2024-07-16T10:49:01.804317Z"
    }
   },
   "cell_type": "code",
   "source": [
    "n = genotypes.shape[1]\n",
    "rows, cols = zip(*edges)\n",
    "result = csr_matrix((np.ones(len(edges)), (rows, cols)), (n,n))"
   ],
   "id": "eee7e4275de33dad",
   "outputs": [
    {
     "ename": "NameError",
     "evalue": "name 'genotypes' is not defined",
     "output_type": "error",
     "traceback": [
      "\u001B[0;31m---------------------------------------------------------------------------\u001B[0m",
      "\u001B[0;31mNameError\u001B[0m                                 Traceback (most recent call last)",
      "Cell \u001B[0;32mIn[20], line 1\u001B[0m\n\u001B[0;32m----> 1\u001B[0m n \u001B[38;5;241m=\u001B[39m genotypes\u001B[38;5;241m.\u001B[39mshape[\u001B[38;5;241m1\u001B[39m]\n\u001B[1;32m      2\u001B[0m rows, cols \u001B[38;5;241m=\u001B[39m \u001B[38;5;28mzip\u001B[39m(\u001B[38;5;241m*\u001B[39medges)\n\u001B[1;32m      3\u001B[0m result \u001B[38;5;241m=\u001B[39m csr_matrix((np\u001B[38;5;241m.\u001B[39mones(\u001B[38;5;28mlen\u001B[39m(edges)), (rows, cols)), (n,n))\n",
      "\u001B[0;31mNameError\u001B[0m: name 'genotypes' is not defined"
     ]
    }
   ],
   "execution_count": 20
  },
  {
   "metadata": {
    "ExecuteTime": {
     "end_time": "2024-07-16T10:49:01.954161Z",
     "start_time": "2024-07-16T10:49:01.880639Z"
    }
   },
   "cell_type": "code",
   "source": [],
   "id": "eb74e9f427d7e77",
   "outputs": [],
   "execution_count": 20
  },
  {
   "metadata": {
    "ExecuteTime": {
     "end_time": "2024-07-16T10:49:02.007136Z",
     "start_time": "2024-07-16T10:49:01.949561Z"
    }
   },
   "cell_type": "code",
   "source": [
    "%%time\n",
    "path = \"/Users/loconnor/Dropbox/linearARG/linearg_shared/data/1kg_ALL_chr22_47876022_49355984_MAF_0.01_RF_0.01_T_8.genos\"\n",
    "output_file_prefix = None # \"/Volumes/T7/data/test/1kg_chr22_47876022_49355984\"\n",
    "linarg_old, genotypes = ld.run_linarg_workflow(\n",
    "    path, output_file_prefix, flip_minor_alleles=True, recombination_method=\"after_linearizing\", make_triangular=False, brick_graph_method=\"new\"\n",
    ")"
   ],
   "id": "4e05b1140eba26da",
   "outputs": [
    {
     "ename": "NameError",
     "evalue": "name 'ld' is not defined",
     "output_type": "error",
     "traceback": [
      "\u001B[0;31m---------------------------------------------------------------------------\u001B[0m",
      "\u001B[0;31mNameError\u001B[0m                                 Traceback (most recent call last)",
      "File \u001B[0;32m<timed exec>:3\u001B[0m\n",
      "\u001B[0;31mNameError\u001B[0m: name 'ld' is not defined"
     ]
    }
   ],
   "execution_count": 21
  },
  {
   "cell_type": "code",
   "source": [
    "linarg_old = linarg_old.unweight()\n",
    "linarg_old = linarg_old.find_recombinations()"
   ],
   "metadata": {
    "collapsed": false,
    "ExecuteTime": {
     "end_time": "2024-07-16T10:49:02.106540Z",
     "start_time": "2024-07-16T10:49:02.001422Z"
    }
   },
   "id": "826a57e1ccd8f2f",
   "outputs": [
    {
     "ename": "NameError",
     "evalue": "name 'linarg_old' is not defined",
     "output_type": "error",
     "traceback": [
      "\u001B[0;31m---------------------------------------------------------------------------\u001B[0m",
      "\u001B[0;31mNameError\u001B[0m                                 Traceback (most recent call last)",
      "Cell \u001B[0;32mIn[22], line 1\u001B[0m\n\u001B[0;32m----> 1\u001B[0m linarg_old \u001B[38;5;241m=\u001B[39m linarg_old\u001B[38;5;241m.\u001B[39munweight()\n\u001B[1;32m      2\u001B[0m linarg_old \u001B[38;5;241m=\u001B[39m linarg_old\u001B[38;5;241m.\u001B[39mfind_recombinations()\n",
      "\u001B[0;31mNameError\u001B[0m: name 'linarg_old' is not defined"
     ]
    }
   ],
   "execution_count": 22
  },
  {
   "cell_type": "code",
   "source": [
    "genotypes.nnz / linarg_old.nnz"
   ],
   "metadata": {
    "collapsed": false,
    "ExecuteTime": {
     "start_time": "2024-07-16T10:49:02.094060Z"
    }
   },
   "id": "2653ed61ad07f4f1",
   "outputs": [
    {
     "ename": "NameError",
     "evalue": "name 'genotypes' is not defined",
     "output_type": "error",
     "traceback": [
      "\u001B[0;31m---------------------------------------------------------------------------\u001B[0m",
      "\u001B[0;31mNameError\u001B[0m                                 Traceback (most recent call last)",
      "Cell \u001B[0;32mIn[23], line 1\u001B[0m\n\u001B[0;32m----> 1\u001B[0m genotypes\u001B[38;5;241m.\u001B[39mnnz \u001B[38;5;241m/\u001B[39m linarg_old\u001B[38;5;241m.\u001B[39mnnz\n",
      "\u001B[0;31mNameError\u001B[0m: name 'genotypes' is not defined"
     ]
    }
   ],
   "execution_count": 23
  },
  {
   "metadata": {
    "ExecuteTime": {
     "end_time": "2024-07-16T10:49:02.267302Z",
     "start_time": "2024-07-16T10:49:02.147975Z"
    }
   },
   "cell_type": "code",
   "source": [
    "# %%time\n",
    "# linarg_reorder = ld.LinearARG.from_genotypes(genotypes, brick_graph_method=\"old\", recombine_before_linearize=True)"
   ],
   "id": "a391d0be752791b5",
   "outputs": [],
   "execution_count": 24
  },
  {
   "metadata": {
    "ExecuteTime": {
     "end_time": "2024-07-16T10:49:02.341848Z",
     "start_time": "2024-07-16T10:49:02.268024Z"
    }
   },
   "cell_type": "code",
   "source": [
    "ploidy = 1\n",
    "brick_graph_closure_init = infer_brick_graph_using_containment(genotypes, ploidy)"
   ],
   "id": "d3788aa4627ccbaf",
   "outputs": [
    {
     "ename": "NameError",
     "evalue": "name 'infer_brick_graph_using_containment' is not defined",
     "output_type": "error",
     "traceback": [
      "\u001B[0;31m---------------------------------------------------------------------------\u001B[0m",
      "\u001B[0;31mNameError\u001B[0m                                 Traceback (most recent call last)",
      "Cell \u001B[0;32mIn[25], line 2\u001B[0m\n\u001B[1;32m      1\u001B[0m ploidy \u001B[38;5;241m=\u001B[39m \u001B[38;5;241m1\u001B[39m\n\u001B[0;32m----> 2\u001B[0m brick_graph_closure_init \u001B[38;5;241m=\u001B[39m infer_brick_graph_using_containment(genotypes, ploidy)\n",
      "\u001B[0;31mNameError\u001B[0m: name 'infer_brick_graph_using_containment' is not defined"
     ]
    }
   ],
   "execution_count": 25
  },
  {
   "cell_type": "code",
   "source": [
    "brick_graph_closure = brick_graph_closure_init.copy()"
   ],
   "metadata": {
    "collapsed": false,
    "ExecuteTime": {
     "start_time": "2024-07-16T10:49:02.320303Z"
    }
   },
   "id": "311bb87aac985c07",
   "outputs": [
    {
     "ename": "NameError",
     "evalue": "name 'brick_graph_closure_init' is not defined",
     "output_type": "error",
     "traceback": [
      "\u001B[0;31m---------------------------------------------------------------------------\u001B[0m",
      "\u001B[0;31mNameError\u001B[0m                                 Traceback (most recent call last)",
      "Cell \u001B[0;32mIn[26], line 1\u001B[0m\n\u001B[0;32m----> 1\u001B[0m brick_graph_closure \u001B[38;5;241m=\u001B[39m brick_graph_closure_init\u001B[38;5;241m.\u001B[39mcopy()\n",
      "\u001B[0;31mNameError\u001B[0m: name 'brick_graph_closure_init' is not defined"
     ]
    }
   ],
   "execution_count": 26
  },
  {
   "metadata": {
    "collapsed": false,
    "ExecuteTime": {
     "end_time": "2024-07-16T10:49:02.462476Z",
     "start_time": "2024-07-16T10:49:02.413973Z"
    }
   },
   "cell_type": "code",
   "source": [
    "brick_graph_closure = remove_undirected_edges(brick_graph_closure)"
   ],
   "id": "4cd62458165792e9",
   "outputs": [
    {
     "ename": "NameError",
     "evalue": "name 'remove_undirected_edges' is not defined",
     "output_type": "error",
     "traceback": [
      "\u001B[0;31m---------------------------------------------------------------------------\u001B[0m",
      "\u001B[0;31mNameError\u001B[0m                                 Traceback (most recent call last)",
      "Cell \u001B[0;32mIn[27], line 1\u001B[0m\n\u001B[0;32m----> 1\u001B[0m brick_graph_closure \u001B[38;5;241m=\u001B[39m remove_undirected_edges(brick_graph_closure)\n",
      "\u001B[0;31mNameError\u001B[0m: name 'remove_undirected_edges' is not defined"
     ]
    }
   ],
   "execution_count": 27
  },
  {
   "cell_type": "code",
   "source": [
    "brick_graph_closure = add_samples_to_brick_graph(brick_graph_closure, genotypes)"
   ],
   "metadata": {
    "collapsed": false,
    "ExecuteTime": {
     "end_time": "2024-07-16T10:49:02.543500Z",
     "start_time": "2024-07-16T10:49:02.466243Z"
    }
   },
   "id": "6e4751fbafb60095",
   "outputs": [
    {
     "ename": "NameError",
     "evalue": "name 'add_samples_to_brick_graph' is not defined",
     "output_type": "error",
     "traceback": [
      "\u001B[0;31m---------------------------------------------------------------------------\u001B[0m",
      "\u001B[0;31mNameError\u001B[0m                                 Traceback (most recent call last)",
      "Cell \u001B[0;32mIn[28], line 1\u001B[0m\n\u001B[0;32m----> 1\u001B[0m brick_graph_closure \u001B[38;5;241m=\u001B[39m add_samples_to_brick_graph(brick_graph_closure, genotypes)\n",
      "\u001B[0;31mNameError\u001B[0m: name 'add_samples_to_brick_graph' is not defined"
     ]
    }
   ],
   "execution_count": 28
  },
  {
   "cell_type": "code",
   "source": [
    "brick_graph_closure.setdiag(0) # necessary?\n",
    "brick_graph_closure.eliminate_zeros()"
   ],
   "metadata": {
    "collapsed": false,
    "ExecuteTime": {
     "start_time": "2024-07-16T10:49:02.536611Z"
    }
   },
   "id": "a703764565ec4c0a",
   "outputs": [
    {
     "ename": "NameError",
     "evalue": "name 'brick_graph_closure' is not defined",
     "output_type": "error",
     "traceback": [
      "\u001B[0;31m---------------------------------------------------------------------------\u001B[0m",
      "\u001B[0;31mNameError\u001B[0m                                 Traceback (most recent call last)",
      "Cell \u001B[0;32mIn[29], line 1\u001B[0m\n\u001B[0;32m----> 1\u001B[0m brick_graph_closure\u001B[38;5;241m.\u001B[39msetdiag(\u001B[38;5;241m0\u001B[39m) \u001B[38;5;66;03m# necessary?\u001B[39;00m\n\u001B[1;32m      2\u001B[0m brick_graph_closure\u001B[38;5;241m.\u001B[39meliminate_zeros()\n",
      "\u001B[0;31mNameError\u001B[0m: name 'brick_graph_closure' is not defined"
     ]
    }
   ],
   "execution_count": 29
  },
  {
   "cell_type": "code",
   "source": [
    "brick_graph = closure_transitive_reduction(brick_graph_closure)"
   ],
   "metadata": {
    "collapsed": false,
    "ExecuteTime": {
     "end_time": "2024-07-16T10:49:02.678410Z",
     "start_time": "2024-07-16T10:49:02.596239Z"
    }
   },
   "id": "a2fb67a57e724dea",
   "outputs": [
    {
     "ename": "NameError",
     "evalue": "name 'closure_transitive_reduction' is not defined",
     "output_type": "error",
     "traceback": [
      "\u001B[0;31m---------------------------------------------------------------------------\u001B[0m",
      "\u001B[0;31mNameError\u001B[0m                                 Traceback (most recent call last)",
      "Cell \u001B[0;32mIn[30], line 1\u001B[0m\n\u001B[0;32m----> 1\u001B[0m brick_graph \u001B[38;5;241m=\u001B[39m closure_transitive_reduction(brick_graph_closure)\n",
      "\u001B[0;31mNameError\u001B[0m: name 'closure_transitive_reduction' is not defined"
     ]
    }
   ],
   "execution_count": 30
  },
  {
   "cell_type": "code",
   "source": [
    "# _ = os.system(\"say done\")"
   ],
   "metadata": {
    "collapsed": false,
    "ExecuteTime": {
     "end_time": "2024-07-16T10:49:02.747689Z",
     "start_time": "2024-07-16T10:49:02.664274Z"
    }
   },
   "id": "931e65d217619839",
   "outputs": [],
   "execution_count": 31
  },
  {
   "cell_type": "code",
   "source": [
    "brick_graph, brick_graph_closure, genotypes"
   ],
   "metadata": {
    "collapsed": false,
    "ExecuteTime": {
     "end_time": "2024-07-16T10:49:02.807075Z",
     "start_time": "2024-07-16T10:49:02.745490Z"
    }
   },
   "id": "9215ea55657d707d",
   "outputs": [
    {
     "ename": "NameError",
     "evalue": "name 'brick_graph' is not defined",
     "output_type": "error",
     "traceback": [
      "\u001B[0;31m---------------------------------------------------------------------------\u001B[0m",
      "\u001B[0;31mNameError\u001B[0m                                 Traceback (most recent call last)",
      "Cell \u001B[0;32mIn[32], line 1\u001B[0m\n\u001B[0;32m----> 1\u001B[0m brick_graph, brick_graph_closure, genotypes\n",
      "\u001B[0;31mNameError\u001B[0m: name 'brick_graph' is not defined"
     ]
    }
   ],
   "execution_count": 32
  },
  {
   "cell_type": "code",
   "source": [
    "trio_list = ld.Trios(brick_graph.nnz)\n",
    "trio_list.convert_matrix(brick_graph.indices, brick_graph.indptr)\n",
    "trio_list.find_recombinations()"
   ],
   "metadata": {
    "collapsed": false,
    "ExecuteTime": {
     "start_time": "2024-07-16T10:49:02.796511Z"
    }
   },
   "id": "a7a93a39f095b08f",
   "outputs": [
    {
     "ename": "NameError",
     "evalue": "name 'ld' is not defined",
     "output_type": "error",
     "traceback": [
      "\u001B[0;31m---------------------------------------------------------------------------\u001B[0m",
      "\u001B[0;31mNameError\u001B[0m                                 Traceback (most recent call last)",
      "Cell \u001B[0;32mIn[33], line 1\u001B[0m\n\u001B[0;32m----> 1\u001B[0m trio_list \u001B[38;5;241m=\u001B[39m ld\u001B[38;5;241m.\u001B[39mTrios(brick_graph\u001B[38;5;241m.\u001B[39mnnz)\n\u001B[1;32m      2\u001B[0m trio_list\u001B[38;5;241m.\u001B[39mconvert_matrix(brick_graph\u001B[38;5;241m.\u001B[39mindices, brick_graph\u001B[38;5;241m.\u001B[39mindptr)\n\u001B[1;32m      3\u001B[0m trio_list\u001B[38;5;241m.\u001B[39mfind_recombinations()\n",
      "\u001B[0;31mNameError\u001B[0m: name 'ld' is not defined"
     ]
    }
   ],
   "execution_count": 33
  },
  {
   "cell_type": "code",
   "source": [
    "edges = trio_list.fill_edgelist()\n",
    "num_nodes = np.max(edges) + 1\n",
    "new_brick_graph = csr_matrix((np.ones(edges.shape[0]), (edges[:, 1], edges[:, 0])), shape=(num_nodes, num_nodes))"
   ],
   "metadata": {
    "collapsed": false,
    "ExecuteTime": {
     "end_time": "2024-07-16T10:49:02.905213Z",
     "start_time": "2024-07-16T10:49:02.860519Z"
    }
   },
   "id": "1aa231fd73b4ff86",
   "outputs": [
    {
     "ename": "NameError",
     "evalue": "name 'trio_list' is not defined",
     "output_type": "error",
     "traceback": [
      "\u001B[0;31m---------------------------------------------------------------------------\u001B[0m",
      "\u001B[0;31mNameError\u001B[0m                                 Traceback (most recent call last)",
      "Cell \u001B[0;32mIn[34], line 1\u001B[0m\n\u001B[0;32m----> 1\u001B[0m edges \u001B[38;5;241m=\u001B[39m trio_list\u001B[38;5;241m.\u001B[39mfill_edgelist()\n\u001B[1;32m      2\u001B[0m num_nodes \u001B[38;5;241m=\u001B[39m np\u001B[38;5;241m.\u001B[39mmax(edges) \u001B[38;5;241m+\u001B[39m \u001B[38;5;241m1\u001B[39m\n\u001B[1;32m      3\u001B[0m new_brick_graph \u001B[38;5;241m=\u001B[39m csr_matrix((np\u001B[38;5;241m.\u001B[39mones(edges\u001B[38;5;241m.\u001B[39mshape[\u001B[38;5;241m0\u001B[39m]), (edges[:, \u001B[38;5;241m1\u001B[39m], edges[:, \u001B[38;5;241m0\u001B[39m])), shape\u001B[38;5;241m=\u001B[39m(num_nodes, num_nodes))\n",
      "\u001B[0;31mNameError\u001B[0m: name 'trio_list' is not defined"
     ]
    }
   ],
   "execution_count": 34
  },
  {
   "cell_type": "code",
   "source": [
    "new_brick_graph.setdiag(0)\n",
    "new_brick_graph.eliminate_zeros()\n",
    "new_brick_graph.sort_indices()"
   ],
   "metadata": {
    "collapsed": false,
    "ExecuteTime": {
     "end_time": "2024-07-16T10:49:02.990072Z",
     "start_time": "2024-07-16T10:49:02.913266Z"
    }
   },
   "id": "d319bfe86508416e",
   "outputs": [
    {
     "ename": "NameError",
     "evalue": "name 'new_brick_graph' is not defined",
     "output_type": "error",
     "traceback": [
      "\u001B[0;31m---------------------------------------------------------------------------\u001B[0m",
      "\u001B[0;31mNameError\u001B[0m                                 Traceback (most recent call last)",
      "Cell \u001B[0;32mIn[35], line 1\u001B[0m\n\u001B[0;32m----> 1\u001B[0m new_brick_graph\u001B[38;5;241m.\u001B[39msetdiag(\u001B[38;5;241m0\u001B[39m)\n\u001B[1;32m      2\u001B[0m new_brick_graph\u001B[38;5;241m.\u001B[39meliminate_zeros()\n\u001B[1;32m      3\u001B[0m new_brick_graph\u001B[38;5;241m.\u001B[39msort_indices()\n",
      "\u001B[0;31mNameError\u001B[0m: name 'new_brick_graph' is not defined"
     ]
    }
   ],
   "execution_count": 35
  },
  {
   "cell_type": "code",
   "source": [
    "brick_graph_closure = transitive_closure(new_brick_graph)"
   ],
   "metadata": {
    "ExecuteTime": {
     "start_time": "2024-07-16T10:49:02.971794Z"
    }
   },
   "id": "9495555aedc75b5d",
   "outputs": [
    {
     "ename": "NameError",
     "evalue": "name 'transitive_closure' is not defined",
     "output_type": "error",
     "traceback": [
      "\u001B[0;31m---------------------------------------------------------------------------\u001B[0m",
      "\u001B[0;31mNameError\u001B[0m                                 Traceback (most recent call last)",
      "Cell \u001B[0;32mIn[36], line 1\u001B[0m\n\u001B[0;32m----> 1\u001B[0m brick_graph_closure \u001B[38;5;241m=\u001B[39m transitive_closure(new_brick_graph)\n",
      "\u001B[0;31mNameError\u001B[0m: name 'transitive_closure' is not defined"
     ]
    }
   ],
   "execution_count": 36
  },
  {
   "metadata": {
    "ExecuteTime": {
     "end_time": "2024-07-16T10:49:03.103635Z",
     "start_time": "2024-07-16T10:49:03.016594Z"
    }
   },
   "cell_type": "code",
   "source": [
    "_ = os.system(\"say done\")"
   ],
   "id": "1c9f27df446d47b3",
   "outputs": [
    {
     "ename": "NameError",
     "evalue": "name 'os' is not defined",
     "output_type": "error",
     "traceback": [
      "\u001B[0;31m---------------------------------------------------------------------------\u001B[0m",
      "\u001B[0;31mNameError\u001B[0m                                 Traceback (most recent call last)",
      "Cell \u001B[0;32mIn[37], line 1\u001B[0m\n\u001B[0;32m----> 1\u001B[0m _ \u001B[38;5;241m=\u001B[39m os\u001B[38;5;241m.\u001B[39msystem(\u001B[38;5;124m\"\u001B[39m\u001B[38;5;124msay done\u001B[39m\u001B[38;5;124m\"\u001B[39m)\n",
      "\u001B[0;31mNameError\u001B[0m: name 'os' is not defined"
     ]
    }
   ],
   "execution_count": 37
  },
  {
   "metadata": {
    "ExecuteTime": {
     "start_time": "2024-07-16T10:49:03.101561Z"
    }
   },
   "cell_type": "code",
   "source": [
    "linear_arg_adjacency_matrix = linearize_brick_graph(brick_graph_closure)"
   ],
   "id": "febe1b0a293c3bf8",
   "outputs": [
    {
     "ename": "NameError",
     "evalue": "name 'linearize_brick_graph' is not defined",
     "output_type": "error",
     "traceback": [
      "\u001B[0;31m---------------------------------------------------------------------------\u001B[0m",
      "\u001B[0;31mNameError\u001B[0m                                 Traceback (most recent call last)",
      "Cell \u001B[0;32mIn[38], line 1\u001B[0m\n\u001B[0;32m----> 1\u001B[0m linear_arg_adjacency_matrix \u001B[38;5;241m=\u001B[39m linearize_brick_graph(brick_graph_closure)\n",
      "\u001B[0;31mNameError\u001B[0m: name 'linearize_brick_graph' is not defined"
     ]
    }
   ],
   "execution_count": 38
  },
  {
   "metadata": {
    "ExecuteTime": {
     "end_time": "2024-07-16T10:49:03.227982Z",
     "start_time": "2024-07-16T10:49:03.167241Z"
    }
   },
   "cell_type": "code",
   "source": [
    "%%time\n",
    "linarg_old_triangular = linarg_old.make_triangular()"
   ],
   "id": "49ab4ca5df383cb",
   "outputs": [
    {
     "ename": "NameError",
     "evalue": "name 'linarg_old' is not defined",
     "output_type": "error",
     "traceback": [
      "\u001B[0;31m---------------------------------------------------------------------------\u001B[0m",
      "\u001B[0;31mNameError\u001B[0m                                 Traceback (most recent call last)",
      "File \u001B[0;32m<timed exec>:1\u001B[0m\n",
      "\u001B[0;31mNameError\u001B[0m: name 'linarg_old' is not defined"
     ]
    }
   ],
   "execution_count": 39
  },
  {
   "metadata": {
    "ExecuteTime": {
     "end_time": "2024-07-16T10:49:03.331277Z",
     "start_time": "2024-07-16T10:49:03.219423Z"
    }
   },
   "cell_type": "code",
   "source": [
    "v = np.ones(linarg_old_triangular.shape[0])\n",
    "ac = v @ linarg_old_triangular\n",
    "ac_true = v @ genotypes\n",
    "np.all(ac == ac_true)"
   ],
   "id": "98c1937fc4c366ad",
   "outputs": [
    {
     "ename": "NameError",
     "evalue": "name 'np' is not defined",
     "output_type": "error",
     "traceback": [
      "\u001B[0;31m---------------------------------------------------------------------------\u001B[0m",
      "\u001B[0;31mNameError\u001B[0m                                 Traceback (most recent call last)",
      "Cell \u001B[0;32mIn[40], line 1\u001B[0m\n\u001B[0;32m----> 1\u001B[0m v \u001B[38;5;241m=\u001B[39m np\u001B[38;5;241m.\u001B[39mones(linarg_old_triangular\u001B[38;5;241m.\u001B[39mshape[\u001B[38;5;241m0\u001B[39m])\n\u001B[1;32m      2\u001B[0m ac \u001B[38;5;241m=\u001B[39m v \u001B[38;5;241m@\u001B[39m linarg_old_triangular\n\u001B[1;32m      3\u001B[0m ac_true \u001B[38;5;241m=\u001B[39m v \u001B[38;5;241m@\u001B[39m genotypes\n",
      "\u001B[0;31mNameError\u001B[0m: name 'np' is not defined"
     ]
    }
   ],
   "execution_count": 40
  },
  {
   "metadata": {
    "ExecuteTime": {
     "start_time": "2024-07-16T10:49:03.321143Z"
    }
   },
   "cell_type": "code",
   "source": [
    "ac, ac_true"
   ],
   "id": "e86e3e6e88d174ec",
   "outputs": [
    {
     "ename": "NameError",
     "evalue": "name 'ac' is not defined",
     "output_type": "error",
     "traceback": [
      "\u001B[0;31m---------------------------------------------------------------------------\u001B[0m",
      "\u001B[0;31mNameError\u001B[0m                                 Traceback (most recent call last)",
      "Cell \u001B[0;32mIn[41], line 1\u001B[0m\n\u001B[0;32m----> 1\u001B[0m ac, ac_true\n",
      "\u001B[0;31mNameError\u001B[0m: name 'ac' is not defined"
     ]
    }
   ],
   "execution_count": 41
  },
  {
   "cell_type": "code",
   "source": [
    "%%time\n",
    "path = \"/Users/loconnor/Dropbox/linearARG/linearg_shared/data/1kg_ALL_chr22_47876022_49355984_MAF_0.01_RF_0.01_T_8.genos\"\n",
    "output_file_prefix = None # \"/Volumes/T7/data/test/1kg_chr22_47876022_49355984\"\n",
    "linarg_old, genotypes = ld.run_linarg_workflow(\n",
    "    path, output_file_prefix, flip_minor_alleles=True, recombination_method=\"old\", make_triangular=False, brick_graph_method=\"new\"\n",
    ")"
   ],
   "metadata": {
    "collapsed": false,
    "ExecuteTime": {
     "end_time": "2024-07-16T10:49:03.484197Z",
     "start_time": "2024-07-16T10:49:03.361285Z"
    }
   },
   "id": "15abccb91e99bef5",
   "outputs": [
    {
     "ename": "NameError",
     "evalue": "name 'ld' is not defined",
     "output_type": "error",
     "traceback": [
      "\u001B[0;31m---------------------------------------------------------------------------\u001B[0m",
      "\u001B[0;31mNameError\u001B[0m                                 Traceback (most recent call last)",
      "File \u001B[0;32m<timed exec>:3\u001B[0m\n",
      "\u001B[0;31mNameError\u001B[0m: name 'ld' is not defined"
     ]
    }
   ],
   "execution_count": 42
  },
  {
   "cell_type": "code",
   "source": [
    "genotypes"
   ],
   "metadata": {
    "collapsed": false,
    "ExecuteTime": {
     "end_time": "2024-07-16T10:49:03.520815Z",
     "start_time": "2024-07-16T10:49:03.478244Z"
    }
   },
   "id": "15d46f5ead08913e",
   "outputs": [
    {
     "ename": "NameError",
     "evalue": "name 'genotypes' is not defined",
     "output_type": "error",
     "traceback": [
      "\u001B[0;31m---------------------------------------------------------------------------\u001B[0m",
      "\u001B[0;31mNameError\u001B[0m                                 Traceback (most recent call last)",
      "Cell \u001B[0;32mIn[43], line 1\u001B[0m\n\u001B[0;32m----> 1\u001B[0m genotypes\n",
      "\u001B[0;31mNameError\u001B[0m: name 'genotypes' is not defined"
     ]
    }
   ],
   "execution_count": 43
  },
  {
   "cell_type": "code",
   "source": [
    "%%time\n",
    "bg = BrickGraphPy.from_genotypes(csc_matrix(genotypes))"
   ],
   "metadata": {
    "collapsed": false,
    "ExecuteTime": {
     "end_time": "2024-07-16T10:49:03.597583Z",
     "start_time": "2024-07-16T10:49:03.512017Z"
    }
   },
   "id": "ebe84402c89b984a",
   "outputs": [
    {
     "ename": "NameError",
     "evalue": "name 'BrickGraphPy' is not defined",
     "output_type": "error",
     "traceback": [
      "\u001B[0;31m---------------------------------------------------------------------------\u001B[0m",
      "\u001B[0;31mNameError\u001B[0m                                 Traceback (most recent call last)",
      "File \u001B[0;32m<timed exec>:1\u001B[0m\n",
      "\u001B[0;31mNameError\u001B[0m: name 'BrickGraphPy' is not defined"
     ]
    }
   ],
   "execution_count": 44
  },
  {
   "metadata": {
    "ExecuteTime": {
     "end_time": "2024-07-16T10:49:03.644573Z",
     "start_time": "2024-07-16T10:49:03.589588Z"
    }
   },
   "cell_type": "code",
   "source": [
    "_ = os.system(\"say done\")"
   ],
   "id": "f6e03b3220dd3114",
   "outputs": [
    {
     "ename": "NameError",
     "evalue": "name 'os' is not defined",
     "output_type": "error",
     "traceback": [
      "\u001B[0;31m---------------------------------------------------------------------------\u001B[0m",
      "\u001B[0;31mNameError\u001B[0m                                 Traceback (most recent call last)",
      "Cell \u001B[0;32mIn[45], line 1\u001B[0m\n\u001B[0;32m----> 1\u001B[0m _ \u001B[38;5;241m=\u001B[39m os\u001B[38;5;241m.\u001B[39msystem(\u001B[38;5;124m\"\u001B[39m\u001B[38;5;124msay done\u001B[39m\u001B[38;5;124m\"\u001B[39m)\n",
      "\u001B[0;31mNameError\u001B[0m: name 'os' is not defined"
     ]
    }
   ],
   "execution_count": 45
  },
  {
   "metadata": {
    "ExecuteTime": {
     "end_time": "2024-07-16T10:49:03.771527Z",
     "start_time": "2024-07-16T10:49:03.647388Z"
    }
   },
   "cell_type": "code",
   "source": [
    "def transitive_closure(A: csr_matrix):\n",
    "    G = nx.from_scipy_sparse_array(A, create_using=nx.DiGraph())\n",
    "    for i in G.nodes():\n",
    "        G.add_edge(i, i)\n",
    "    G = nx.transitive_closure(G)\n",
    "    return nx.to_scipy_sparse_array(G, format=\"csr\")"
   ],
   "id": "1dc523f23617df2e",
   "outputs": [
    {
     "ename": "NameError",
     "evalue": "name 'csr_matrix' is not defined",
     "output_type": "error",
     "traceback": [
      "\u001B[0;31m---------------------------------------------------------------------------\u001B[0m",
      "\u001B[0;31mNameError\u001B[0m                                 Traceback (most recent call last)",
      "Cell \u001B[0;32mIn[46], line 1\u001B[0m\n\u001B[0;32m----> 1\u001B[0m \u001B[38;5;28;01mdef\u001B[39;00m \u001B[38;5;21mtransitive_closure\u001B[39m(A: csr_matrix):\n\u001B[1;32m      2\u001B[0m     G \u001B[38;5;241m=\u001B[39m nx\u001B[38;5;241m.\u001B[39mfrom_scipy_sparse_array(A, create_using\u001B[38;5;241m=\u001B[39mnx\u001B[38;5;241m.\u001B[39mDiGraph())\n\u001B[1;32m      3\u001B[0m     \u001B[38;5;28;01mfor\u001B[39;00m i \u001B[38;5;129;01min\u001B[39;00m G\u001B[38;5;241m.\u001B[39mnodes():\n",
      "\u001B[0;31mNameError\u001B[0m: name 'csr_matrix' is not defined"
     ]
    }
   ],
   "execution_count": 46
  },
  {
   "metadata": {
    "ExecuteTime": {
     "start_time": "2024-07-16T10:49:03.759880Z"
    }
   },
   "cell_type": "code",
   "source": [
    "brick_graph_closure = bg.to_csr()\n",
    "brick_graph_closure = remove_undirected_edges(brick_graph_closure)\n",
    "brick_graph_closure.diagonal()"
   ],
   "id": "32ea810c471393f0",
   "outputs": [
    {
     "ename": "NameError",
     "evalue": "name 'bg' is not defined",
     "output_type": "error",
     "traceback": [
      "\u001B[0;31m---------------------------------------------------------------------------\u001B[0m",
      "\u001B[0;31mNameError\u001B[0m                                 Traceback (most recent call last)",
      "Cell \u001B[0;32mIn[47], line 1\u001B[0m\n\u001B[0;32m----> 1\u001B[0m brick_graph_closure \u001B[38;5;241m=\u001B[39m bg\u001B[38;5;241m.\u001B[39mto_csr()\n\u001B[1;32m      2\u001B[0m brick_graph_closure \u001B[38;5;241m=\u001B[39m remove_undirected_edges(brick_graph_closure)\n\u001B[1;32m      3\u001B[0m brick_graph_closure\u001B[38;5;241m.\u001B[39mdiagonal()\n",
      "\u001B[0;31mNameError\u001B[0m: name 'bg' is not defined"
     ]
    }
   ],
   "execution_count": 47
  },
  {
   "metadata": {
    "ExecuteTime": {
     "end_time": "2024-07-16T10:49:03.920135Z",
     "start_time": "2024-07-16T10:49:03.865831Z"
    }
   },
   "cell_type": "code",
   "source": [
    "A = transitive_closure(brick_graph_closure)\n",
    "A.nnz, brick_graph_closure.nnz"
   ],
   "id": "73fd6afe2dd95d20",
   "outputs": [
    {
     "ename": "NameError",
     "evalue": "name 'transitive_closure' is not defined",
     "output_type": "error",
     "traceback": [
      "\u001B[0;31m---------------------------------------------------------------------------\u001B[0m",
      "\u001B[0;31mNameError\u001B[0m                                 Traceback (most recent call last)",
      "Cell \u001B[0;32mIn[48], line 1\u001B[0m\n\u001B[0;32m----> 1\u001B[0m A \u001B[38;5;241m=\u001B[39m transitive_closure(brick_graph_closure)\n\u001B[1;32m      2\u001B[0m A\u001B[38;5;241m.\u001B[39mnnz, brick_graph_closure\u001B[38;5;241m.\u001B[39mnnz\n",
      "\u001B[0;31mNameError\u001B[0m: name 'transitive_closure' is not defined"
     ]
    }
   ],
   "execution_count": 48
  },
  {
   "metadata": {
    "ExecuteTime": {
     "start_time": "2024-07-16T10:49:03.917723Z"
    }
   },
   "cell_type": "code",
   "source": [
    "brick_graph_closure_old = infer_brick_graph_using_containment(genotypes, 1)"
   ],
   "id": "56a8374115898358",
   "outputs": [
    {
     "ename": "NameError",
     "evalue": "name 'infer_brick_graph_using_containment' is not defined",
     "output_type": "error",
     "traceback": [
      "\u001B[0;31m---------------------------------------------------------------------------\u001B[0m",
      "\u001B[0;31mNameError\u001B[0m                                 Traceback (most recent call last)",
      "Cell \u001B[0;32mIn[49], line 1\u001B[0m\n\u001B[0;32m----> 1\u001B[0m brick_graph_closure_old \u001B[38;5;241m=\u001B[39m infer_brick_graph_using_containment(genotypes, \u001B[38;5;241m1\u001B[39m)\n",
      "\u001B[0;31mNameError\u001B[0m: name 'infer_brick_graph_using_containment' is not defined"
     ]
    }
   ],
   "execution_count": 49
  },
  {
   "metadata": {
    "ExecuteTime": {
     "end_time": "2024-07-16T10:49:04.034030Z",
     "start_time": "2024-07-16T10:49:03.976565Z"
    }
   },
   "cell_type": "code",
   "source": [
    "brick_graph_closure, brick_graph_closure_old"
   ],
   "id": "49728c968bff623e",
   "outputs": [
    {
     "ename": "NameError",
     "evalue": "name 'brick_graph_closure' is not defined",
     "output_type": "error",
     "traceback": [
      "\u001B[0;31m---------------------------------------------------------------------------\u001B[0m",
      "\u001B[0;31mNameError\u001B[0m                                 Traceback (most recent call last)",
      "Cell \u001B[0;32mIn[50], line 1\u001B[0m\n\u001B[0;32m----> 1\u001B[0m brick_graph_closure, brick_graph_closure_old\n",
      "\u001B[0;31mNameError\u001B[0m: name 'brick_graph_closure' is not defined"
     ]
    }
   ],
   "execution_count": 50
  },
  {
   "metadata": {
    "ExecuteTime": {
     "end_time": "2024-07-16T10:49:04.117011Z",
     "start_time": "2024-07-16T10:49:04.039721Z"
    }
   },
   "cell_type": "code",
   "source": [
    "count = 0\n",
    "for i in range(len(brick_graph_closure.indptr) - 1):\n",
    "    for j in brick_graph_closure.indices[brick_graph_closure.indptr[i]:brick_graph_closure.indptr[i + 1]]:\n",
    "        if brick_graph_closure_old[i,j] == 0:\n",
    "            count += 1\n",
    "            if np.sum(genotypes[:,i] != genotypes[:,j]) > 0:\n",
    "                print(i,j)\n",
    "count"
   ],
   "id": "c2be91117f83ac56",
   "outputs": [
    {
     "ename": "NameError",
     "evalue": "name 'brick_graph_closure' is not defined",
     "output_type": "error",
     "traceback": [
      "\u001B[0;31m---------------------------------------------------------------------------\u001B[0m",
      "\u001B[0;31mNameError\u001B[0m                                 Traceback (most recent call last)",
      "Cell \u001B[0;32mIn[51], line 2\u001B[0m\n\u001B[1;32m      1\u001B[0m count \u001B[38;5;241m=\u001B[39m \u001B[38;5;241m0\u001B[39m\n\u001B[0;32m----> 2\u001B[0m \u001B[38;5;28;01mfor\u001B[39;00m i \u001B[38;5;129;01min\u001B[39;00m \u001B[38;5;28mrange\u001B[39m(\u001B[38;5;28mlen\u001B[39m(brick_graph_closure\u001B[38;5;241m.\u001B[39mindptr) \u001B[38;5;241m-\u001B[39m \u001B[38;5;241m1\u001B[39m):\n\u001B[1;32m      3\u001B[0m     \u001B[38;5;28;01mfor\u001B[39;00m j \u001B[38;5;129;01min\u001B[39;00m brick_graph_closure\u001B[38;5;241m.\u001B[39mindices[brick_graph_closure\u001B[38;5;241m.\u001B[39mindptr[i]:brick_graph_closure\u001B[38;5;241m.\u001B[39mindptr[i \u001B[38;5;241m+\u001B[39m \u001B[38;5;241m1\u001B[39m]]:\n\u001B[1;32m      4\u001B[0m         \u001B[38;5;28;01mif\u001B[39;00m brick_graph_closure_old[i,j] \u001B[38;5;241m==\u001B[39m \u001B[38;5;241m0\u001B[39m:\n",
      "\u001B[0;31mNameError\u001B[0m: name 'brick_graph_closure' is not defined"
     ]
    }
   ],
   "execution_count": 51
  },
  {
   "metadata": {
    "ExecuteTime": {
     "start_time": "2024-07-16T10:49:04.099767Z"
    }
   },
   "cell_type": "code",
   "source": [
    "brick_graph_closure_old.nnz, brick_graph_closure.nnz"
   ],
   "id": "5e994fdf80670ead",
   "outputs": [
    {
     "ename": "NameError",
     "evalue": "name 'brick_graph_closure_old' is not defined",
     "output_type": "error",
     "traceback": [
      "\u001B[0;31m---------------------------------------------------------------------------\u001B[0m",
      "\u001B[0;31mNameError\u001B[0m                                 Traceback (most recent call last)",
      "Cell \u001B[0;32mIn[52], line 1\u001B[0m\n\u001B[0;32m----> 1\u001B[0m brick_graph_closure_old\u001B[38;5;241m.\u001B[39mnnz, brick_graph_closure\u001B[38;5;241m.\u001B[39mnnz\n",
      "\u001B[0;31mNameError\u001B[0m: name 'brick_graph_closure_old' is not defined"
     ]
    }
   ],
   "execution_count": 52
  },
  {
   "metadata": {
    "ExecuteTime": {
     "end_time": "2024-07-16T10:49:04.224764Z",
     "start_time": "2024-07-16T10:49:04.177730Z"
    }
   },
   "cell_type": "code",
   "source": [
    "linearize_brick_graph(brick_graph_closure_old).nnz\n"
   ],
   "id": "80a4c3190fa83310",
   "outputs": [
    {
     "ename": "NameError",
     "evalue": "name 'linearize_brick_graph' is not defined",
     "output_type": "error",
     "traceback": [
      "\u001B[0;31m---------------------------------------------------------------------------\u001B[0m",
      "\u001B[0;31mNameError\u001B[0m                                 Traceback (most recent call last)",
      "Cell \u001B[0;32mIn[53], line 1\u001B[0m\n\u001B[0;32m----> 1\u001B[0m linearize_brick_graph(brick_graph_closure_old)\u001B[38;5;241m.\u001B[39mnnz\n",
      "\u001B[0;31mNameError\u001B[0m: name 'linearize_brick_graph' is not defined"
     ]
    }
   ],
   "execution_count": 53
  },
  {
   "metadata": {
    "ExecuteTime": {
     "end_time": "2024-07-16T10:49:04.316217Z",
     "start_time": "2024-07-16T10:49:04.229423Z"
    }
   },
   "cell_type": "code",
   "source": [
    "linear_arg_adjacency_matrix = linearize_brick_graph(brick_graph_closure)\n",
    "linear_arg_adjacency_matrix.nnz"
   ],
   "id": "9bbce28dbb666ac3",
   "outputs": [
    {
     "ename": "NameError",
     "evalue": "name 'linearize_brick_graph' is not defined",
     "output_type": "error",
     "traceback": [
      "\u001B[0;31m---------------------------------------------------------------------------\u001B[0m",
      "\u001B[0;31mNameError\u001B[0m                                 Traceback (most recent call last)",
      "Cell \u001B[0;32mIn[54], line 1\u001B[0m\n\u001B[0;32m----> 1\u001B[0m linear_arg_adjacency_matrix \u001B[38;5;241m=\u001B[39m linearize_brick_graph(brick_graph_closure)\n\u001B[1;32m      2\u001B[0m linear_arg_adjacency_matrix\u001B[38;5;241m.\u001B[39mnnz\n",
      "\u001B[0;31mNameError\u001B[0m: name 'linearize_brick_graph' is not defined"
     ]
    }
   ],
   "execution_count": 54
  },
  {
   "metadata": {
    "ExecuteTime": {
     "start_time": "2024-07-16T10:49:04.297618Z"
    }
   },
   "cell_type": "code",
   "source": [
    "linear_arg_adjacency_matrix.diagonal()"
   ],
   "id": "8fcc711fc297a151",
   "outputs": [
    {
     "ename": "NameError",
     "evalue": "name 'linear_arg_adjacency_matrix' is not defined",
     "output_type": "error",
     "traceback": [
      "\u001B[0;31m---------------------------------------------------------------------------\u001B[0m",
      "\u001B[0;31mNameError\u001B[0m                                 Traceback (most recent call last)",
      "Cell \u001B[0;32mIn[55], line 1\u001B[0m\n\u001B[0;32m----> 1\u001B[0m linear_arg_adjacency_matrix\u001B[38;5;241m.\u001B[39mdiagonal()\n",
      "\u001B[0;31mNameError\u001B[0m: name 'linear_arg_adjacency_matrix' is not defined"
     ]
    }
   ],
   "execution_count": 55
  },
  {
   "metadata": {
    "ExecuteTime": {
     "end_time": "2024-07-16T10:49:04.438926Z",
     "start_time": "2024-07-16T10:49:04.392676Z"
    }
   },
   "cell_type": "code",
   "source": [
    "linear_arg_adjacency_matrix = add_singleton_variants(genotypes, linear_arg_adjacency_matrix)\n",
    "linear_arg_adjacency_matrix = add_samples_to_linear_arg(genotypes, linear_arg_adjacency_matrix)"
   ],
   "id": "c2c43aaac4e4078",
   "outputs": [
    {
     "ename": "NameError",
     "evalue": "name 'add_singleton_variants' is not defined",
     "output_type": "error",
     "traceback": [
      "\u001B[0;31m---------------------------------------------------------------------------\u001B[0m",
      "\u001B[0;31mNameError\u001B[0m                                 Traceback (most recent call last)",
      "Cell \u001B[0;32mIn[56], line 1\u001B[0m\n\u001B[0;32m----> 1\u001B[0m linear_arg_adjacency_matrix \u001B[38;5;241m=\u001B[39m add_singleton_variants(genotypes, linear_arg_adjacency_matrix)\n\u001B[1;32m      2\u001B[0m linear_arg_adjacency_matrix \u001B[38;5;241m=\u001B[39m add_samples_to_linear_arg(genotypes, linear_arg_adjacency_matrix)\n",
      "\u001B[0;31mNameError\u001B[0m: name 'add_singleton_variants' is not defined"
     ]
    }
   ],
   "execution_count": 56
  },
  {
   "metadata": {
    "ExecuteTime": {
     "end_time": "2024-07-16T10:49:04.537748Z",
     "start_time": "2024-07-16T10:49:04.439196Z"
    }
   },
   "cell_type": "code",
   "source": [
    "n, m = genotypes.shape\n",
    "samples_idx = np.arange(n)\n",
    "variants_idx = np.arange(n, m + n)\n",
    "flip = np.zeros(len(variants_idx), dtype=bool)\n",
    "\n",
    "linarg_new = ld.LinearARG(linear_arg_adjacency_matrix, samples_idx, variants_idx, flip)"
   ],
   "id": "c0eaf14ac0e79062",
   "outputs": [
    {
     "ename": "NameError",
     "evalue": "name 'genotypes' is not defined",
     "output_type": "error",
     "traceback": [
      "\u001B[0;31m---------------------------------------------------------------------------\u001B[0m",
      "\u001B[0;31mNameError\u001B[0m                                 Traceback (most recent call last)",
      "Cell \u001B[0;32mIn[57], line 1\u001B[0m\n\u001B[0;32m----> 1\u001B[0m n, m \u001B[38;5;241m=\u001B[39m genotypes\u001B[38;5;241m.\u001B[39mshape\n\u001B[1;32m      2\u001B[0m samples_idx \u001B[38;5;241m=\u001B[39m np\u001B[38;5;241m.\u001B[39marange(n)\n\u001B[1;32m      3\u001B[0m variants_idx \u001B[38;5;241m=\u001B[39m np\u001B[38;5;241m.\u001B[39marange(n, m \u001B[38;5;241m+\u001B[39m n)\n",
      "\u001B[0;31mNameError\u001B[0m: name 'genotypes' is not defined"
     ]
    }
   ],
   "execution_count": 57
  },
  {
   "metadata": {
    "ExecuteTime": {
     "start_time": "2024-07-16T10:49:04.521794Z"
    }
   },
   "cell_type": "code",
   "source": [
    "linarg_new.nnz, linarg_old.nnz"
   ],
   "id": "8e98c49511cef3f5",
   "outputs": [
    {
     "ename": "NameError",
     "evalue": "name 'linarg_new' is not defined",
     "output_type": "error",
     "traceback": [
      "\u001B[0;31m---------------------------------------------------------------------------\u001B[0m",
      "\u001B[0;31mNameError\u001B[0m                                 Traceback (most recent call last)",
      "Cell \u001B[0;32mIn[58], line 1\u001B[0m\n\u001B[0;32m----> 1\u001B[0m linarg_new\u001B[38;5;241m.\u001B[39mnnz, linarg_old\u001B[38;5;241m.\u001B[39mnnz\n",
      "\u001B[0;31mNameError\u001B[0m: name 'linarg_new' is not defined"
     ]
    }
   ],
   "execution_count": 58
  },
  {
   "metadata": {
    "ExecuteTime": {
     "end_time": "2024-07-16T10:49:04.652870Z",
     "start_time": "2024-07-16T10:49:04.569923Z"
    }
   },
   "cell_type": "code",
   "source": [
    "linarg_new.A.diagonal(), linarg_old.A.diagonal()"
   ],
   "id": "10ce6079b0b9a91f",
   "outputs": [
    {
     "ename": "NameError",
     "evalue": "name 'linarg_new' is not defined",
     "output_type": "error",
     "traceback": [
      "\u001B[0;31m---------------------------------------------------------------------------\u001B[0m",
      "\u001B[0;31mNameError\u001B[0m                                 Traceback (most recent call last)",
      "Cell \u001B[0;32mIn[59], line 1\u001B[0m\n\u001B[0;32m----> 1\u001B[0m linarg_new\u001B[38;5;241m.\u001B[39mA\u001B[38;5;241m.\u001B[39mdiagonal(), linarg_old\u001B[38;5;241m.\u001B[39mA\u001B[38;5;241m.\u001B[39mdiagonal()\n",
      "\u001B[0;31mNameError\u001B[0m: name 'linarg_new' is not defined"
     ]
    }
   ],
   "execution_count": 59
  },
  {
   "metadata": {
    "ExecuteTime": {
     "start_time": "2024-07-16T10:49:04.651277Z"
    }
   },
   "cell_type": "code",
   "source": [
    "linarg_new_recom = linarg_new.unweight()\n",
    "linarg_new_recom = linarg_new_recom.find_recombinations()"
   ],
   "id": "34ab875ad11a9220",
   "outputs": [
    {
     "ename": "NameError",
     "evalue": "name 'linarg_new' is not defined",
     "output_type": "error",
     "traceback": [
      "\u001B[0;31m---------------------------------------------------------------------------\u001B[0m",
      "\u001B[0;31mNameError\u001B[0m                                 Traceback (most recent call last)",
      "Cell \u001B[0;32mIn[60], line 1\u001B[0m\n\u001B[0;32m----> 1\u001B[0m linarg_new_recom \u001B[38;5;241m=\u001B[39m linarg_new\u001B[38;5;241m.\u001B[39munweight()\n\u001B[1;32m      2\u001B[0m linarg_new_recom \u001B[38;5;241m=\u001B[39m linarg_new_recom\u001B[38;5;241m.\u001B[39mfind_recombinations()\n",
      "\u001B[0;31mNameError\u001B[0m: name 'linarg_new' is not defined"
     ]
    }
   ],
   "execution_count": 60
  },
  {
   "metadata": {
    "ExecuteTime": {
     "end_time": "2024-07-16T10:49:04.768430Z",
     "start_time": "2024-07-16T10:49:04.713353Z"
    }
   },
   "cell_type": "code",
   "source": [
    "genotypes.nnz / linarg_new_recom.nnz"
   ],
   "id": "e34e384e4ce70844",
   "outputs": [
    {
     "ename": "NameError",
     "evalue": "name 'genotypes' is not defined",
     "output_type": "error",
     "traceback": [
      "\u001B[0;31m---------------------------------------------------------------------------\u001B[0m",
      "\u001B[0;31mNameError\u001B[0m                                 Traceback (most recent call last)",
      "Cell \u001B[0;32mIn[61], line 1\u001B[0m\n\u001B[0;32m----> 1\u001B[0m genotypes\u001B[38;5;241m.\u001B[39mnnz \u001B[38;5;241m/\u001B[39m linarg_new_recom\u001B[38;5;241m.\u001B[39mnnz\n",
      "\u001B[0;31mNameError\u001B[0m: name 'genotypes' is not defined"
     ]
    }
   ],
   "execution_count": 61
  },
  {
   "metadata": {
    "ExecuteTime": {
     "start_time": "2024-07-16T10:49:04.766629Z"
    }
   },
   "cell_type": "code",
   "source": [
    "linarg_old_recom = linarg_old.unweight()\n",
    "linarg_old_recom = linarg_old_recom.find_recombinations()\n",
    "genotypes.nnz / linarg_old_recom.nnz"
   ],
   "id": "d7e344ade6e6d90b",
   "outputs": [
    {
     "ename": "NameError",
     "evalue": "name 'linarg_old' is not defined",
     "output_type": "error",
     "traceback": [
      "\u001B[0;31m---------------------------------------------------------------------------\u001B[0m",
      "\u001B[0;31mNameError\u001B[0m                                 Traceback (most recent call last)",
      "Cell \u001B[0;32mIn[62], line 1\u001B[0m\n\u001B[0;32m----> 1\u001B[0m linarg_old_recom \u001B[38;5;241m=\u001B[39m linarg_old\u001B[38;5;241m.\u001B[39munweight()\n\u001B[1;32m      2\u001B[0m linarg_old_recom \u001B[38;5;241m=\u001B[39m linarg_old_recom\u001B[38;5;241m.\u001B[39mfind_recombinations()\n\u001B[1;32m      3\u001B[0m genotypes\u001B[38;5;241m.\u001B[39mnnz \u001B[38;5;241m/\u001B[39m linarg_old_recom\u001B[38;5;241m.\u001B[39mnnz\n",
      "\u001B[0;31mNameError\u001B[0m: name 'linarg_old' is not defined"
     ]
    }
   ],
   "execution_count": 62
  },
  {
   "metadata": {
    "ExecuteTime": {
     "end_time": "2024-07-16T10:49:04.896283Z",
     "start_time": "2024-07-16T10:49:04.833590Z"
    }
   },
   "cell_type": "code",
   "source": [
    "linarg_new_triangular = linarg_new_recom.make_triangular()\n",
    "linarg_old_triangular = linarg_old_recom.make_triangular()"
   ],
   "id": "e540f3a7055689ea",
   "outputs": [
    {
     "ename": "NameError",
     "evalue": "name 'linarg_new_recom' is not defined",
     "output_type": "error",
     "traceback": [
      "\u001B[0;31m---------------------------------------------------------------------------\u001B[0m",
      "\u001B[0;31mNameError\u001B[0m                                 Traceback (most recent call last)",
      "Cell \u001B[0;32mIn[63], line 1\u001B[0m\n\u001B[0;32m----> 1\u001B[0m linarg_new_triangular \u001B[38;5;241m=\u001B[39m linarg_new_recom\u001B[38;5;241m.\u001B[39mmake_triangular()\n\u001B[1;32m      2\u001B[0m linarg_old_triangular \u001B[38;5;241m=\u001B[39m linarg_old_recom\u001B[38;5;241m.\u001B[39mmake_triangular()\n",
      "\u001B[0;31mNameError\u001B[0m: name 'linarg_new_recom' is not defined"
     ]
    }
   ],
   "execution_count": 63
  },
  {
   "metadata": {
    "ExecuteTime": {
     "end_time": "2024-07-16T10:49:04.987509Z",
     "start_time": "2024-07-16T10:49:04.898521Z"
    }
   },
   "cell_type": "code",
   "source": [
    "linarg_old_recom_triangular = linarg_old_recom.make_triangular()\n",
    "v = np.ones(linarg_new_recom.shape[0])\n",
    "ac = v @ linarg_old_recom_triangular\n",
    "ac_true = v @ genotypes\n",
    "np.all(ac == ac_true)"
   ],
   "id": "f359c4f3733be623",
   "outputs": [
    {
     "ename": "NameError",
     "evalue": "name 'linarg_old_recom' is not defined",
     "output_type": "error",
     "traceback": [
      "\u001B[0;31m---------------------------------------------------------------------------\u001B[0m",
      "\u001B[0;31mNameError\u001B[0m                                 Traceback (most recent call last)",
      "Cell \u001B[0;32mIn[64], line 1\u001B[0m\n\u001B[0;32m----> 1\u001B[0m linarg_old_recom_triangular \u001B[38;5;241m=\u001B[39m linarg_old_recom\u001B[38;5;241m.\u001B[39mmake_triangular()\n\u001B[1;32m      2\u001B[0m v \u001B[38;5;241m=\u001B[39m np\u001B[38;5;241m.\u001B[39mones(linarg_new_recom\u001B[38;5;241m.\u001B[39mshape[\u001B[38;5;241m0\u001B[39m])\n\u001B[1;32m      3\u001B[0m ac \u001B[38;5;241m=\u001B[39m v \u001B[38;5;241m@\u001B[39m linarg_old_recom_triangular\n",
      "\u001B[0;31mNameError\u001B[0m: name 'linarg_old_recom' is not defined"
     ]
    }
   ],
   "execution_count": 64
  },
  {
   "metadata": {
    "ExecuteTime": {
     "start_time": "2024-07-16T10:49:04.980973Z"
    }
   },
   "cell_type": "code",
   "source": [
    "v = np.ones(linarg_new_recom.shape[0])\n",
    "ac = v @ linarg_new_triangular\n",
    "ac_true = v @ genotypes\n",
    "np.all(ac == ac_true)"
   ],
   "id": "180fa759081d8b00",
   "outputs": [
    {
     "ename": "NameError",
     "evalue": "name 'np' is not defined",
     "output_type": "error",
     "traceback": [
      "\u001B[0;31m---------------------------------------------------------------------------\u001B[0m",
      "\u001B[0;31mNameError\u001B[0m                                 Traceback (most recent call last)",
      "Cell \u001B[0;32mIn[65], line 1\u001B[0m\n\u001B[0;32m----> 1\u001B[0m v \u001B[38;5;241m=\u001B[39m np\u001B[38;5;241m.\u001B[39mones(linarg_new_recom\u001B[38;5;241m.\u001B[39mshape[\u001B[38;5;241m0\u001B[39m])\n\u001B[1;32m      2\u001B[0m ac \u001B[38;5;241m=\u001B[39m v \u001B[38;5;241m@\u001B[39m linarg_new_triangular\n\u001B[1;32m      3\u001B[0m ac_true \u001B[38;5;241m=\u001B[39m v \u001B[38;5;241m@\u001B[39m genotypes\n",
      "\u001B[0;31mNameError\u001B[0m: name 'np' is not defined"
     ]
    }
   ],
   "execution_count": 65
  },
  {
   "metadata": {
    "ExecuteTime": {
     "end_time": "2024-07-16T10:49:05.110755Z",
     "start_time": "2024-07-16T10:49:05.019472Z"
    }
   },
   "cell_type": "code",
   "source": [
    "ac, ac_true"
   ],
   "id": "fd3b9206be52a16",
   "outputs": [
    {
     "ename": "NameError",
     "evalue": "name 'ac' is not defined",
     "output_type": "error",
     "traceback": [
      "\u001B[0;31m---------------------------------------------------------------------------\u001B[0m",
      "\u001B[0;31mNameError\u001B[0m                                 Traceback (most recent call last)",
      "Cell \u001B[0;32mIn[66], line 1\u001B[0m\n\u001B[0;32m----> 1\u001B[0m ac, ac_true\n",
      "\u001B[0;31mNameError\u001B[0m: name 'ac' is not defined"
     ]
    }
   ],
   "execution_count": 66
  },
  {
   "metadata": {
    "ExecuteTime": {
     "start_time": "2024-07-16T10:49:05.105674Z"
    }
   },
   "cell_type": "code",
   "source": [
    "linarg_new.A.diagonal()"
   ],
   "id": "4e112cd1b2b31668",
   "outputs": [
    {
     "ename": "NameError",
     "evalue": "name 'linarg_new' is not defined",
     "output_type": "error",
     "traceback": [
      "\u001B[0;31m---------------------------------------------------------------------------\u001B[0m",
      "\u001B[0;31mNameError\u001B[0m                                 Traceback (most recent call last)",
      "Cell \u001B[0;32mIn[67], line 1\u001B[0m\n\u001B[0;32m----> 1\u001B[0m linarg_new\u001B[38;5;241m.\u001B[39mA\u001B[38;5;241m.\u001B[39mdiagonal()\n",
      "\u001B[0;31mNameError\u001B[0m: name 'linarg_new' is not defined"
     ]
    }
   ],
   "execution_count": 67
  },
  {
   "metadata": {
    "ExecuteTime": {
     "end_time": "2024-07-16T10:49:05.223225Z",
     "start_time": "2024-07-16T10:49:05.137942Z"
    }
   },
   "cell_type": "code",
   "source": [
    "linarg_old.A.diagonal()"
   ],
   "id": "a27eca1d756ec87c",
   "outputs": [
    {
     "ename": "NameError",
     "evalue": "name 'linarg_old' is not defined",
     "output_type": "error",
     "traceback": [
      "\u001B[0;31m---------------------------------------------------------------------------\u001B[0m",
      "\u001B[0;31mNameError\u001B[0m                                 Traceback (most recent call last)",
      "Cell \u001B[0;32mIn[68], line 1\u001B[0m\n\u001B[0;32m----> 1\u001B[0m linarg_old\u001B[38;5;241m.\u001B[39mA\u001B[38;5;241m.\u001B[39mdiagonal()\n",
      "\u001B[0;31mNameError\u001B[0m: name 'linarg_old' is not defined"
     ]
    }
   ],
   "execution_count": 68
  },
  {
   "metadata": {
    "ExecuteTime": {
     "start_time": "2024-07-16T10:49:05.209708Z"
    }
   },
   "cell_type": "code",
   "source": [
    "brick_graph_closure.indices"
   ],
   "id": "2c46631ed6b6b94b",
   "outputs": [
    {
     "ename": "NameError",
     "evalue": "name 'brick_graph_closure' is not defined",
     "output_type": "error",
     "traceback": [
      "\u001B[0;31m---------------------------------------------------------------------------\u001B[0m",
      "\u001B[0;31mNameError\u001B[0m                                 Traceback (most recent call last)",
      "Cell \u001B[0;32mIn[69], line 1\u001B[0m\n\u001B[0;32m----> 1\u001B[0m brick_graph_closure\u001B[38;5;241m.\u001B[39mindices\n",
      "\u001B[0;31mNameError\u001B[0m: name 'brick_graph_closure' is not defined"
     ]
    }
   ],
   "execution_count": 69
  },
  {
   "metadata": {
    "ExecuteTime": {
     "end_time": "2024-07-16T10:49:05.352591Z",
     "start_time": "2024-07-16T10:49:05.250327Z"
    }
   },
   "cell_type": "code",
   "source": [
    "import networkx as nx\n",
    "G = nx.DiGraph()\n",
    "G.add_edge(0,1)\n",
    "A = nx.to_scipy_sparse_array(G, format=\"csc\", dtype=np.intc)\n",
    "A"
   ],
   "id": "36066d2b6db6ac1f",
   "outputs": [
    {
     "ename": "NameError",
     "evalue": "name 'np' is not defined",
     "output_type": "error",
     "traceback": [
      "\u001B[0;31m---------------------------------------------------------------------------\u001B[0m",
      "\u001B[0;31mNameError\u001B[0m                                 Traceback (most recent call last)",
      "Cell \u001B[0;32mIn[70], line 4\u001B[0m\n\u001B[1;32m      2\u001B[0m G \u001B[38;5;241m=\u001B[39m nx\u001B[38;5;241m.\u001B[39mDiGraph()\n\u001B[1;32m      3\u001B[0m G\u001B[38;5;241m.\u001B[39madd_edge(\u001B[38;5;241m0\u001B[39m,\u001B[38;5;241m1\u001B[39m)\n\u001B[0;32m----> 4\u001B[0m A \u001B[38;5;241m=\u001B[39m nx\u001B[38;5;241m.\u001B[39mto_scipy_sparse_array(G, \u001B[38;5;28mformat\u001B[39m\u001B[38;5;241m=\u001B[39m\u001B[38;5;124m\"\u001B[39m\u001B[38;5;124mcsc\u001B[39m\u001B[38;5;124m\"\u001B[39m, dtype\u001B[38;5;241m=\u001B[39mnp\u001B[38;5;241m.\u001B[39mintc)\n\u001B[1;32m      5\u001B[0m A\n",
      "\u001B[0;31mNameError\u001B[0m: name 'np' is not defined"
     ]
    }
   ],
   "execution_count": 70
  },
  {
   "metadata": {
    "ExecuteTime": {
     "start_time": "2024-07-16T10:49:05.325970Z"
    }
   },
   "cell_type": "code",
   "source": [
    "A=nx.to_scipy_sparse_array(G, format=\"csr\", dtype=np.intc).transpose()"
   ],
   "id": "5f1bfd1a39066884",
   "outputs": [
    {
     "ename": "NameError",
     "evalue": "name 'np' is not defined",
     "output_type": "error",
     "traceback": [
      "\u001B[0;31m---------------------------------------------------------------------------\u001B[0m",
      "\u001B[0;31mNameError\u001B[0m                                 Traceback (most recent call last)",
      "Cell \u001B[0;32mIn[71], line 1\u001B[0m\n\u001B[0;32m----> 1\u001B[0m A\u001B[38;5;241m=\u001B[39mnx\u001B[38;5;241m.\u001B[39mto_scipy_sparse_array(G, \u001B[38;5;28mformat\u001B[39m\u001B[38;5;241m=\u001B[39m\u001B[38;5;124m\"\u001B[39m\u001B[38;5;124mcsr\u001B[39m\u001B[38;5;124m\"\u001B[39m, dtype\u001B[38;5;241m=\u001B[39mnp\u001B[38;5;241m.\u001B[39mintc)\u001B[38;5;241m.\u001B[39mtranspose()\n",
      "\u001B[0;31mNameError\u001B[0m: name 'np' is not defined"
     ]
    }
   ],
   "execution_count": 71
  },
  {
   "metadata": {
    "ExecuteTime": {
     "end_time": "2024-07-16T10:49:05.476218Z",
     "start_time": "2024-07-16T10:49:05.414841Z"
    }
   },
   "cell_type": "code",
   "source": [
    "A.toarray()"
   ],
   "id": "6ed066ee86c20cc3",
   "outputs": [
    {
     "ename": "NameError",
     "evalue": "name 'A' is not defined",
     "output_type": "error",
     "traceback": [
      "\u001B[0;31m---------------------------------------------------------------------------\u001B[0m",
      "\u001B[0;31mNameError\u001B[0m                                 Traceback (most recent call last)",
      "Cell \u001B[0;32mIn[72], line 1\u001B[0m\n\u001B[0;32m----> 1\u001B[0m A\u001B[38;5;241m.\u001B[39mtoarray()\n",
      "\u001B[0;31mNameError\u001B[0m: name 'A' is not defined"
     ]
    }
   ],
   "execution_count": 72
  },
  {
   "metadata": {
    "ExecuteTime": {
     "start_time": "2024-07-16T10:49:05.469586Z"
    }
   },
   "cell_type": "code",
   "source": [
    "brick_graph_closure_old = infer_brick_graph_using_containment(genotypes, 1)"
   ],
   "id": "bffb19f9928e0887",
   "outputs": [
    {
     "ename": "NameError",
     "evalue": "name 'infer_brick_graph_using_containment' is not defined",
     "output_type": "error",
     "traceback": [
      "\u001B[0;31m---------------------------------------------------------------------------\u001B[0m",
      "\u001B[0;31mNameError\u001B[0m                                 Traceback (most recent call last)",
      "Cell \u001B[0;32mIn[73], line 1\u001B[0m\n\u001B[0;32m----> 1\u001B[0m brick_graph_closure_old \u001B[38;5;241m=\u001B[39m infer_brick_graph_using_containment(genotypes, \u001B[38;5;241m1\u001B[39m)\n",
      "\u001B[0;31mNameError\u001B[0m: name 'infer_brick_graph_using_containment' is not defined"
     ]
    }
   ],
   "execution_count": 73
  },
  {
   "metadata": {
    "ExecuteTime": {
     "end_time": "2024-07-16T10:49:05.591579Z",
     "start_time": "2024-07-16T10:49:05.540802Z"
    }
   },
   "cell_type": "code",
   "source": [
    "brick_graph_closure_old.nnz, brick_graph_closure.nnz"
   ],
   "id": "cd503ea617830805",
   "outputs": [
    {
     "ename": "NameError",
     "evalue": "name 'brick_graph_closure_old' is not defined",
     "output_type": "error",
     "traceback": [
      "\u001B[0;31m---------------------------------------------------------------------------\u001B[0m",
      "\u001B[0;31mNameError\u001B[0m                                 Traceback (most recent call last)",
      "Cell \u001B[0;32mIn[74], line 1\u001B[0m\n\u001B[0;32m----> 1\u001B[0m brick_graph_closure_old\u001B[38;5;241m.\u001B[39mnnz, brick_graph_closure\u001B[38;5;241m.\u001B[39mnnz\n",
      "\u001B[0;31mNameError\u001B[0m: name 'brick_graph_closure_old' is not defined"
     ]
    }
   ],
   "execution_count": 74
  },
  {
   "metadata": {
    "ExecuteTime": {
     "start_time": "2024-07-16T10:49:05.591184Z"
    }
   },
   "cell_type": "code",
   "source": [
    "more_than_one_carrier = np.diff(genotypes.indptr) > 1\n",
    "np.mean(more_than_one_carrier) == 1"
   ],
   "id": "c05591714844ef92",
   "outputs": [
    {
     "ename": "NameError",
     "evalue": "name 'np' is not defined",
     "output_type": "error",
     "traceback": [
      "\u001B[0;31m---------------------------------------------------------------------------\u001B[0m",
      "\u001B[0;31mNameError\u001B[0m                                 Traceback (most recent call last)",
      "Cell \u001B[0;32mIn[75], line 1\u001B[0m\n\u001B[0;32m----> 1\u001B[0m more_than_one_carrier \u001B[38;5;241m=\u001B[39m np\u001B[38;5;241m.\u001B[39mdiff(genotypes\u001B[38;5;241m.\u001B[39mindptr) \u001B[38;5;241m>\u001B[39m \u001B[38;5;241m1\u001B[39m\n\u001B[1;32m      2\u001B[0m np\u001B[38;5;241m.\u001B[39mmean(more_than_one_carrier) \u001B[38;5;241m==\u001B[39m \u001B[38;5;241m1\u001B[39m\n",
      "\u001B[0;31mNameError\u001B[0m: name 'np' is not defined"
     ]
    }
   ],
   "execution_count": 75
  },
  {
   "metadata": {
    "ExecuteTime": {
     "end_time": "2024-07-16T10:49:05.702692Z",
     "start_time": "2024-07-16T10:49:05.666385Z"
    }
   },
   "cell_type": "code",
   "source": [
    "count = 0\n",
    "for i in range(len(brick_graph_closure.indptr) - 1):\n",
    "    for j in brick_graph_closure.indices[brick_graph_closure.indptr[i]:brick_graph_closure.indptr[i + 1]]:\n",
    "        if brick_graph_closure_old[i,j] == 0:\n",
    "            count += 1\n",
    "count"
   ],
   "id": "75405862ae6552de",
   "outputs": [
    {
     "ename": "NameError",
     "evalue": "name 'brick_graph_closure' is not defined",
     "output_type": "error",
     "traceback": [
      "\u001B[0;31m---------------------------------------------------------------------------\u001B[0m",
      "\u001B[0;31mNameError\u001B[0m                                 Traceback (most recent call last)",
      "Cell \u001B[0;32mIn[76], line 2\u001B[0m\n\u001B[1;32m      1\u001B[0m count \u001B[38;5;241m=\u001B[39m \u001B[38;5;241m0\u001B[39m\n\u001B[0;32m----> 2\u001B[0m \u001B[38;5;28;01mfor\u001B[39;00m i \u001B[38;5;129;01min\u001B[39;00m \u001B[38;5;28mrange\u001B[39m(\u001B[38;5;28mlen\u001B[39m(brick_graph_closure\u001B[38;5;241m.\u001B[39mindptr) \u001B[38;5;241m-\u001B[39m \u001B[38;5;241m1\u001B[39m):\n\u001B[1;32m      3\u001B[0m     \u001B[38;5;28;01mfor\u001B[39;00m j \u001B[38;5;129;01min\u001B[39;00m brick_graph_closure\u001B[38;5;241m.\u001B[39mindices[brick_graph_closure\u001B[38;5;241m.\u001B[39mindptr[i]:brick_graph_closure\u001B[38;5;241m.\u001B[39mindptr[i \u001B[38;5;241m+\u001B[39m \u001B[38;5;241m1\u001B[39m]]:\n\u001B[1;32m      4\u001B[0m         \u001B[38;5;28;01mif\u001B[39;00m brick_graph_closure_old[i,j] \u001B[38;5;241m==\u001B[39m \u001B[38;5;241m0\u001B[39m:\n",
      "\u001B[0;31mNameError\u001B[0m: name 'brick_graph_closure' is not defined"
     ]
    }
   ],
   "execution_count": 76
  },
  {
   "metadata": {
    "ExecuteTime": {
     "end_time": "2024-07-16T10:49:05.784590Z",
     "start_time": "2024-07-16T10:49:05.710635Z"
    }
   },
   "cell_type": "code",
   "source": [
    "brick_graph_closure = brick_graph_closure.transpose()"
   ],
   "id": "2794f30d60d147",
   "outputs": [
    {
     "ename": "NameError",
     "evalue": "name 'brick_graph_closure' is not defined",
     "output_type": "error",
     "traceback": [
      "\u001B[0;31m---------------------------------------------------------------------------\u001B[0m",
      "\u001B[0;31mNameError\u001B[0m                                 Traceback (most recent call last)",
      "Cell \u001B[0;32mIn[77], line 1\u001B[0m\n\u001B[0;32m----> 1\u001B[0m brick_graph_closure \u001B[38;5;241m=\u001B[39m brick_graph_closure\u001B[38;5;241m.\u001B[39mtranspose()\n",
      "\u001B[0;31mNameError\u001B[0m: name 'brick_graph_closure' is not defined"
     ]
    }
   ],
   "execution_count": 77
  },
  {
   "metadata": {
    "ExecuteTime": {
     "end_time": "2024-07-16T10:49:05.833417Z",
     "start_time": "2024-07-16T10:49:05.763362Z"
    }
   },
   "cell_type": "code",
   "source": [],
   "id": "4c81f529e3792a8b",
   "outputs": [],
   "execution_count": 77
  },
  {
   "metadata": {
    "ExecuteTime": {
     "end_time": "2024-07-16T10:49:05.951492Z",
     "start_time": "2024-07-16T10:49:05.849521Z"
    }
   },
   "cell_type": "code",
   "source": [
    "brick_graph_closure"
   ],
   "id": "2e386dcf1ce80ff1",
   "outputs": [
    {
     "ename": "NameError",
     "evalue": "name 'brick_graph_closure' is not defined",
     "output_type": "error",
     "traceback": [
      "\u001B[0;31m---------------------------------------------------------------------------\u001B[0m",
      "\u001B[0;31mNameError\u001B[0m                                 Traceback (most recent call last)",
      "Cell \u001B[0;32mIn[78], line 1\u001B[0m\n\u001B[0;32m----> 1\u001B[0m brick_graph_closure\n",
      "\u001B[0;31mNameError\u001B[0m: name 'brick_graph_closure' is not defined"
     ]
    }
   ],
   "execution_count": 78
  },
  {
   "metadata": {
    "ExecuteTime": {
     "start_time": "2024-07-16T10:49:05.927787Z"
    }
   },
   "cell_type": "code",
   "source": [
    "np.all(brick_graph_closure.diagonal() == 1)"
   ],
   "id": "ab4cbe8059586a10",
   "outputs": [
    {
     "ename": "NameError",
     "evalue": "name 'np' is not defined",
     "output_type": "error",
     "traceback": [
      "\u001B[0;31m---------------------------------------------------------------------------\u001B[0m",
      "\u001B[0;31mNameError\u001B[0m                                 Traceback (most recent call last)",
      "Cell \u001B[0;32mIn[79], line 1\u001B[0m\n\u001B[0;32m----> 1\u001B[0m np\u001B[38;5;241m.\u001B[39mall(brick_graph_closure\u001B[38;5;241m.\u001B[39mdiagonal() \u001B[38;5;241m==\u001B[39m \u001B[38;5;241m1\u001B[39m)\n",
      "\u001B[0;31mNameError\u001B[0m: name 'np' is not defined"
     ]
    }
   ],
   "execution_count": 79
  },
  {
   "metadata": {
    "ExecuteTime": {
     "end_time": "2024-07-16T10:49:06.068877Z",
     "start_time": "2024-07-16T10:49:05.983732Z"
    }
   },
   "cell_type": "code",
   "source": [
    "for i, idx in enumerate(brick_graph_closure.indptr[1:]):\n",
    "    assert brick_graph_closure.indices[idx - 1] == i, f\"{i}, {idx}\""
   ],
   "id": "8ab89de61537a06d",
   "outputs": [
    {
     "ename": "NameError",
     "evalue": "name 'brick_graph_closure' is not defined",
     "output_type": "error",
     "traceback": [
      "\u001B[0;31m---------------------------------------------------------------------------\u001B[0m",
      "\u001B[0;31mNameError\u001B[0m                                 Traceback (most recent call last)",
      "Cell \u001B[0;32mIn[80], line 1\u001B[0m\n\u001B[0;32m----> 1\u001B[0m \u001B[38;5;28;01mfor\u001B[39;00m i, idx \u001B[38;5;129;01min\u001B[39;00m \u001B[38;5;28menumerate\u001B[39m(brick_graph_closure\u001B[38;5;241m.\u001B[39mindptr[\u001B[38;5;241m1\u001B[39m:]):\n\u001B[1;32m      2\u001B[0m     \u001B[38;5;28;01massert\u001B[39;00m brick_graph_closure\u001B[38;5;241m.\u001B[39mindices[idx \u001B[38;5;241m-\u001B[39m \u001B[38;5;241m1\u001B[39m] \u001B[38;5;241m==\u001B[39m i, \u001B[38;5;124mf\u001B[39m\u001B[38;5;124m\"\u001B[39m\u001B[38;5;132;01m{\u001B[39;00mi\u001B[38;5;132;01m}\u001B[39;00m\u001B[38;5;124m, \u001B[39m\u001B[38;5;132;01m{\u001B[39;00midx\u001B[38;5;132;01m}\u001B[39;00m\u001B[38;5;124m\"\u001B[39m\n",
      "\u001B[0;31mNameError\u001B[0m: name 'brick_graph_closure' is not defined"
     ]
    }
   ],
   "execution_count": 80
  },
  {
   "metadata": {
    "ExecuteTime": {
     "start_time": "2024-07-16T10:49:06.063915Z"
    }
   },
   "cell_type": "code",
   "source": [
    "brick_graph_closure.nnz"
   ],
   "id": "db1573cd33f663b9",
   "outputs": [
    {
     "ename": "NameError",
     "evalue": "name 'brick_graph_closure' is not defined",
     "output_type": "error",
     "traceback": [
      "\u001B[0;31m---------------------------------------------------------------------------\u001B[0m",
      "\u001B[0;31mNameError\u001B[0m                                 Traceback (most recent call last)",
      "Cell \u001B[0;32mIn[81], line 1\u001B[0m\n\u001B[0;32m----> 1\u001B[0m brick_graph_closure\u001B[38;5;241m.\u001B[39mnnz\n",
      "\u001B[0;31mNameError\u001B[0m: name 'brick_graph_closure' is not defined"
     ]
    }
   ],
   "execution_count": 81
  },
  {
   "metadata": {
    "ExecuteTime": {
     "end_time": "2024-07-16T10:49:06.179600Z",
     "start_time": "2024-07-16T10:49:06.124842Z"
    }
   },
   "cell_type": "code",
   "source": [],
   "id": "3a30f9e3bd088cce",
   "outputs": [],
   "execution_count": 81
  },
  {
   "metadata": {
    "ExecuteTime": {
     "end_time": "2024-07-16T10:49:06.263085Z",
     "start_time": "2024-07-16T10:49:06.187647Z"
    }
   },
   "cell_type": "code",
   "source": [
    "type(brick_graph_closure.indptr)"
   ],
   "id": "ddb2aed07e8552df",
   "outputs": [
    {
     "ename": "NameError",
     "evalue": "name 'brick_graph_closure' is not defined",
     "output_type": "error",
     "traceback": [
      "\u001B[0;31m---------------------------------------------------------------------------\u001B[0m",
      "\u001B[0;31mNameError\u001B[0m                                 Traceback (most recent call last)",
      "Cell \u001B[0;32mIn[82], line 1\u001B[0m\n\u001B[0;32m----> 1\u001B[0m \u001B[38;5;28mtype\u001B[39m(brick_graph_closure\u001B[38;5;241m.\u001B[39mindptr)\n",
      "\u001B[0;31mNameError\u001B[0m: name 'brick_graph_closure' is not defined"
     ]
    }
   ],
   "execution_count": 82
  },
  {
   "cell_type": "code",
   "id": "bdd4fea46f9fb700",
   "metadata": {
    "ExecuteTime": {
     "end_time": "2024-07-16T10:49:06.300267Z",
     "start_time": "2024-07-16T10:49:06.254886Z"
    }
   },
   "source": [
    "%%time\n",
    "linarg_recom = linarg.unweight()\n",
    "linarg_recom = linarg_recom.find_recombinations()\n",
    "linarg_recom = linarg_recom.make_triangular()\n",
    "linarg.nnz, linarg_recom.nnz, genotypes.nnz"
   ],
   "outputs": [
    {
     "ename": "NameError",
     "evalue": "name 'linarg' is not defined",
     "output_type": "error",
     "traceback": [
      "\u001B[0;31m---------------------------------------------------------------------------\u001B[0m",
      "\u001B[0;31mNameError\u001B[0m                                 Traceback (most recent call last)",
      "File \u001B[0;32m<timed exec>:1\u001B[0m\n",
      "\u001B[0;31mNameError\u001B[0m: name 'linarg' is not defined"
     ]
    }
   ],
   "execution_count": 83
  },
  {
   "metadata": {
    "ExecuteTime": {
     "end_time": "2024-07-16T10:49:06.430255Z",
     "start_time": "2024-07-16T10:49:06.309796Z"
    }
   },
   "cell_type": "code",
   "source": [
    "linarg_recom_subset = linarg_recom.__getitem__((slice(100),slice(100)))"
   ],
   "id": "3d6b3badd21fae0b",
   "outputs": [
    {
     "ename": "NameError",
     "evalue": "name 'linarg_recom' is not defined",
     "output_type": "error",
     "traceback": [
      "\u001B[0;31m---------------------------------------------------------------------------\u001B[0m",
      "\u001B[0;31mNameError\u001B[0m                                 Traceback (most recent call last)",
      "Cell \u001B[0;32mIn[84], line 1\u001B[0m\n\u001B[0;32m----> 1\u001B[0m linarg_recom_subset \u001B[38;5;241m=\u001B[39m linarg_recom\u001B[38;5;241m.\u001B[39m\u001B[38;5;21m__getitem__\u001B[39m((\u001B[38;5;28mslice\u001B[39m(\u001B[38;5;241m100\u001B[39m),\u001B[38;5;28mslice\u001B[39m(\u001B[38;5;241m100\u001B[39m)))\n",
      "\u001B[0;31mNameError\u001B[0m: name 'linarg_recom' is not defined"
     ]
    }
   ],
   "execution_count": 84
  },
  {
   "metadata": {
    "ExecuteTime": {
     "start_time": "2024-07-16T10:49:06.413072Z"
    }
   },
   "cell_type": "code",
   "source": [
    "linarg_recom_subset.A.data[]\n"
   ],
   "id": "9d3757618865eaa9",
   "outputs": [
    {
     "ename": "SyntaxError",
     "evalue": "invalid syntax (479203741.py, line 1)",
     "output_type": "error",
     "traceback": [
      "\u001B[0;36m  Cell \u001B[0;32mIn[85], line 1\u001B[0;36m\u001B[0m\n\u001B[0;31m    linarg_recom_subset.A.data[]\u001B[0m\n\u001B[0m                               ^\u001B[0m\n\u001B[0;31mSyntaxError\u001B[0m\u001B[0;31m:\u001B[0m invalid syntax\n"
     ]
    }
   ],
   "execution_count": 85
  },
  {
   "metadata": {
    "ExecuteTime": {
     "end_time": "2024-07-16T10:49:06.570449Z",
     "start_time": "2024-07-16T10:49:06.477131Z"
    }
   },
   "cell_type": "code",
   "source": [
    "linarg_recom_subset.A[10,]"
   ],
   "id": "94a28ae1ae7779d7",
   "outputs": [
    {
     "ename": "NameError",
     "evalue": "name 'linarg_recom_subset' is not defined",
     "output_type": "error",
     "traceback": [
      "\u001B[0;31m---------------------------------------------------------------------------\u001B[0m",
      "\u001B[0;31mNameError\u001B[0m                                 Traceback (most recent call last)",
      "Cell \u001B[0;32mIn[86], line 1\u001B[0m\n\u001B[0;32m----> 1\u001B[0m linarg_recom_subset\u001B[38;5;241m.\u001B[39mA[\u001B[38;5;241m10\u001B[39m,]\n",
      "\u001B[0;31mNameError\u001B[0m: name 'linarg_recom_subset' is not defined"
     ]
    }
   ],
   "execution_count": 86
  },
  {
   "metadata": {},
   "cell_type": "code",
   "source": [
    "linarg_recom_subset = linarg_recom[:100,:]\n"
   ],
   "id": "730f93244e41dcbe",
   "outputs": [],
   "execution_count": null
  },
  {
   "metadata": {},
   "cell_type": "code",
   "source": [
    "a = np.zeros((10,10))\n",
    "a[:1, ]"
   ],
   "id": "c2d6bbf0622b9fa6",
   "outputs": [],
   "execution_count": null
  },
  {
   "metadata": {},
   "cell_type": "code",
   "source": [
    "linarg_triangular = linarg.make_triangular()"
   ],
   "id": "ef6c6cc7d8ebaf2a",
   "outputs": [],
   "execution_count": null
  },
  {
   "cell_type": "code",
   "id": "24dce42bd0e6ef77",
   "metadata": {},
   "source": [
    "v = np.ones(linarg_recom.shape[0])\n",
    "ac0 = v @ linarg_triangular\n",
    "ac1 = v @ linarg_recom\n",
    "ac2 = v @ genotypes\n",
    "np.all(ac0 == ac1), np.all(ac0 == ac2)"
   ],
   "outputs": [],
   "execution_count": null
  },
  {
   "cell_type": "code",
   "id": "579181fb77d98842",
   "metadata": {},
   "source": [
    "linarg_recom = linarg.find_recombinations()\n",
    "genotypes.nnz / linarg_recom.nnz"
   ],
   "outputs": [],
   "execution_count": null
  },
  {
   "cell_type": "code",
   "id": "9f209fa57d74e085",
   "metadata": {},
   "source": [
    "linarg_recom = linarg_recom.make_triangular()\n",
    "v = np.ones(linarg_triangular.shape[0])\n",
    "ac0 = v @ linarg_recom\n",
    "ac1 = v @ genotypes\n",
    "np.all(ac0 == ac1)"
   ],
   "outputs": [],
   "execution_count": null
  },
  {
   "cell_type": "code",
   "id": "2bdefb46b1fd65b0",
   "metadata": {},
   "source": [
    "G = np.zeros((5, 5))\n",
    "G[:3, 3:] = 1\n",
    "G = csr_matrix(G)"
   ],
   "outputs": [],
   "execution_count": null
  },
  {
   "cell_type": "code",
   "id": "be157b2e6246caa7",
   "metadata": {},
   "source": [
    "trio_list = ld.Trios(100)\n",
    "trio_list.convert_matrix(G.indices, G.indptr, G.shape[0])"
   ],
   "outputs": [],
   "execution_count": null
  },
  {
   "cell_type": "code",
   "id": "ce5e59bef570d96e",
   "metadata": {},
   "source": [
    "edges = trio_list.fill_edgelist()\n",
    "print(np.asarray(edges))"
   ],
   "outputs": [],
   "execution_count": null
  },
  {
   "cell_type": "code",
   "id": "237bec9d18ad9797",
   "metadata": {},
   "source": [
    "trio_list.find_recombinations()\n",
    "edges = trio_list.fill_edgelist()\n",
    "print(np.asarray(edges))"
   ],
   "outputs": [],
   "execution_count": null
  },
  {
   "cell_type": "code",
   "id": "c260af71ccb5af3c",
   "metadata": {},
   "source": [],
   "outputs": [],
   "execution_count": null
  },
  {
   "cell_type": "code",
   "id": "8c9fe869a74deb3b",
   "metadata": {},
   "source": [
    "linarg_recom = linarg.find_recombinations()"
   ],
   "outputs": [],
   "execution_count": null
  },
  {
   "cell_type": "code",
   "id": "a840a38f72cb5dbd",
   "metadata": {},
   "source": [
    "genotypes.nnz / linarg_recom.nnz"
   ],
   "outputs": [],
   "execution_count": null
  },
  {
   "cell_type": "code",
   "id": "dd709b040ef25f17",
   "metadata": {
    "ExecuteTime": {
     "end_time": "2024-07-16T10:50:09.498356Z",
     "start_time": "2024-07-16T10:50:09.027081Z"
    }
   },
   "source": [
    "linarg.nnz"
   ],
   "outputs": [
    {
     "ename": "NameError",
     "evalue": "name 'linarg' is not defined",
     "output_type": "error",
     "traceback": [
      "\u001B[0;31m---------------------------------------------------------------------------\u001B[0m",
      "\u001B[0;31mNameError\u001B[0m                                 Traceback (most recent call last)",
      "Cell \u001B[0;32mIn[1], line 1\u001B[0m\n\u001B[0;32m----> 1\u001B[0m linarg\u001B[38;5;241m.\u001B[39mnnz\n",
      "\u001B[0;31mNameError\u001B[0m: name 'linarg' is not defined"
     ]
    }
   ],
   "execution_count": 1
  },
  {
   "cell_type": "code",
   "id": "3293081638f0b212",
   "metadata": {
    "ExecuteTime": {
     "start_time": "2024-07-16T10:50:09.437087Z"
    }
   },
   "source": [
    "linarg.A.shape, linarg_recom.A.shape"
   ],
   "outputs": [],
   "execution_count": null
  },
  {
   "cell_type": "code",
   "id": "c45cec0cbc5a5019",
   "metadata": {
    "ExecuteTime": {
     "start_time": "2024-07-16T10:50:09.439314Z"
    }
   },
   "source": [
    "linarg.variant_indices"
   ],
   "outputs": [],
   "execution_count": null
  },
  {
   "cell_type": "code",
   "id": "e3abf6eac98d278d",
   "metadata": {
    "ExecuteTime": {
     "start_time": "2024-07-16T10:50:09.441183Z"
    }
   },
   "source": [
    "linarg.sample_indices"
   ],
   "outputs": [],
   "execution_count": null
  },
  {
   "cell_type": "code",
   "id": "10bfa35b9046dc43",
   "metadata": {
    "ExecuteTime": {
     "start_time": "2024-07-16T10:50:09.443161Z"
    }
   },
   "source": [
    "linarg.A[:, 4000]"
   ],
   "outputs": [],
   "execution_count": null
  },
  {
   "cell_type": "code",
   "id": "558c546f2e568d57",
   "metadata": {
    "ExecuteTime": {
     "start_time": "2024-07-16T10:50:09.445417Z"
    }
   },
   "source": [],
   "outputs": [],
   "execution_count": null
  },
  {
   "cell_type": "code",
   "id": "449fea170f5fcf69",
   "metadata": {
    "ExecuteTime": {
     "start_time": "2024-07-16T10:50:09.448103Z"
    }
   },
   "source": [],
   "outputs": [],
   "execution_count": null
  },
  {
   "cell_type": "code",
   "id": "023377fe-15c8-4265-a1c0-6bfbf4ef0c2b",
   "metadata": {
    "ExecuteTime": {
     "start_time": "2024-07-16T10:50:09.471347Z"
    }
   },
   "source": [
    "n = b.get_graph().number_of_nodes\n",
    "edges = b.get_graph().edge_list()\n",
    "rows, cols = zip(*edges)\n",
    "\n",
    "M = csr_matrix((np.ones(len(edges)), (list(rows), list(cols))), shape=(n, n))"
   ],
   "outputs": [],
   "execution_count": null
  },
  {
   "cell_type": "code",
   "id": "0c2fbcba-2a3a-4123-964f-0d5cbaa2217f",
   "metadata": {
    "ExecuteTime": {
     "start_time": "2024-07-16T10:50:09.471782Z"
    }
   },
   "source": [
    "def break_ties(haplotypes):\n",
    "    ties = haplotypes.multiply(haplotypes.transpose())\n",
    "    haplotypes = haplotypes - triu(ties, k=1)\n",
    "    haplotypes.eliminate_zeros()\n",
    "    return haplotypes"
   ],
   "outputs": [],
   "execution_count": null
  },
  {
   "cell_type": "code",
   "id": "b0829413-5bac-4415-a489-73c860780508",
   "metadata": {
    "ExecuteTime": {
     "start_time": "2024-07-16T10:50:09.471920Z"
    }
   },
   "source": [
    "M = break_ties(M)"
   ],
   "outputs": [],
   "execution_count": null
  },
  {
   "cell_type": "code",
   "id": "7af75d0f-1a15-41ec-8864-abf332b9c11e",
   "metadata": {
    "scrolled": true,
    "ExecuteTime": {
     "start_time": "2024-07-16T10:50:09.471998Z"
    }
   },
   "source": [
    "R = inv(csc_matrix(eye(M.shape[0]) - M))"
   ],
   "outputs": [],
   "execution_count": null
  },
  {
   "cell_type": "code",
   "id": "aa475cfb-d511-4a94-9acc-f6854d605a7e",
   "metadata": {
    "scrolled": true,
    "ExecuteTime": {
     "start_time": "2024-07-16T10:50:09.472113Z"
    }
   },
   "source": [
    "R.data = np.round(R.data)\n",
    "R.eliminate_zeros()"
   ],
   "outputs": [],
   "execution_count": null
  },
  {
   "cell_type": "code",
   "id": "0117ba59-3157-4785-b7e0-11f792319e39",
   "metadata": {
    "ExecuteTime": {
     "start_time": "2024-07-16T10:50:09.472896Z"
    }
   },
   "source": [
    "R.data = np.ones_like(R.data)"
   ],
   "outputs": [],
   "execution_count": null
  },
  {
   "cell_type": "code",
   "id": "730353fa-6b11-48c8-a253-6de87be0537d",
   "metadata": {
    "scrolled": true,
    "ExecuteTime": {
     "start_time": "2024-07-16T10:50:09.474673Z"
    }
   },
   "source": [
    "A = eye(n) - inv(R)"
   ],
   "outputs": [],
   "execution_count": null
  },
  {
   "cell_type": "code",
   "id": "5c497af6-f7df-434c-99c0-edb3a2b16c97",
   "metadata": {
    "ExecuteTime": {
     "start_time": "2024-07-16T10:50:09.476169Z"
    }
   },
   "source": [
    "A.nnz, R.nnz"
   ],
   "outputs": [],
   "execution_count": null
  },
  {
   "cell_type": "code",
   "id": "ef207b64-8638-4363-8084-9029d088b538",
   "metadata": {
    "ExecuteTime": {
     "start_time": "2024-07-16T10:50:09.477713Z"
    }
   },
   "source": [
    "np.mean(A.data < 0)"
   ],
   "outputs": [],
   "execution_count": null
  },
  {
   "cell_type": "code",
   "id": "ce57eea8-5815-4265-b3b8-fe81ed453c09",
   "metadata": {
    "ExecuteTime": {
     "start_time": "2024-07-16T10:50:09.479001Z"
    }
   },
   "source": [
    "np.sum(A.data == -1)"
   ],
   "outputs": [],
   "execution_count": null
  },
  {
   "cell_type": "code",
   "id": "d45d62f8-c935-40e8-a090-f8d1a3b731c3",
   "metadata": {
    "ExecuteTime": {
     "start_time": "2024-07-16T10:50:09.480261Z"
    }
   },
   "source": [
    "As = geno * csc_matrix(eye(M.shape[0]) - A)"
   ],
   "outputs": [],
   "execution_count": null
  },
  {
   "cell_type": "code",
   "id": "6255cb56-5255-4ea7-a101-ad65b50b673e",
   "metadata": {
    "ExecuteTime": {
     "start_time": "2024-07-16T10:50:09.481395Z"
    }
   },
   "source": [
    "As.nnz, geno.nnz"
   ],
   "outputs": [],
   "execution_count": null
  },
  {
   "cell_type": "code",
   "id": "7e6a56bc-a4f3-45b4-bf88-2c550adf235e",
   "metadata": {
    "ExecuteTime": {
     "start_time": "2024-07-16T10:50:09.482825Z"
    }
   },
   "source": [
    "linarg.nnz, genotypes.nnz"
   ],
   "outputs": [],
   "execution_count": null
  },
  {
   "cell_type": "code",
   "id": "74bbc192-500c-40fe-acf1-55c58ed56d2a",
   "metadata": {
    "ExecuteTime": {
     "end_time": "2024-07-16T10:50:09.882164Z",
     "start_time": "2024-07-16T10:50:09.557740Z"
    }
   },
   "source": [
    "linarg.A[linarg.variant_indices, :][:, linarg.variant_indices].nnz"
   ],
   "outputs": [
    {
     "ename": "NameError",
     "evalue": "name 'linarg' is not defined",
     "output_type": "error",
     "traceback": [
      "\u001B[0;31m---------------------------------------------------------------------------\u001B[0m",
      "\u001B[0;31mNameError\u001B[0m                                 Traceback (most recent call last)",
      "Cell \u001B[0;32mIn[2], line 1\u001B[0m\n\u001B[0;32m----> 1\u001B[0m linarg\u001B[38;5;241m.\u001B[39mA[linarg\u001B[38;5;241m.\u001B[39mvariant_indices, :][:, linarg\u001B[38;5;241m.\u001B[39mvariant_indices]\u001B[38;5;241m.\u001B[39mnnz\n",
      "\u001B[0;31mNameError\u001B[0m: name 'linarg' is not defined"
     ]
    }
   ],
   "execution_count": 2
  },
  {
   "cell_type": "code",
   "id": "c96e5295-8d05-477d-8158-cccdfa26c3a9",
   "metadata": {
    "ExecuteTime": {
     "start_time": "2024-07-16T10:50:09.877751Z"
    }
   },
   "source": [
    "A.nnz"
   ],
   "outputs": [
    {
     "ename": "NameError",
     "evalue": "name 'A' is not defined",
     "output_type": "error",
     "traceback": [
      "\u001B[0;31m---------------------------------------------------------------------------\u001B[0m",
      "\u001B[0;31mNameError\u001B[0m                                 Traceback (most recent call last)",
      "Cell \u001B[0;32mIn[3], line 1\u001B[0m\n\u001B[0;32m----> 1\u001B[0m A\u001B[38;5;241m.\u001B[39mnnz\n",
      "\u001B[0;31mNameError\u001B[0m: name 'A' is not defined"
     ]
    }
   ],
   "execution_count": 3
  },
  {
   "cell_type": "code",
   "id": "4bf0a10b-6f97-4aac-a04f-9f17650f8552",
   "metadata": {
    "ExecuteTime": {
     "end_time": "2024-07-16T10:50:10.019085Z",
     "start_time": "2024-07-16T10:50:09.921928Z"
    }
   },
   "source": [],
   "outputs": [],
   "execution_count": 3
  },
  {
   "cell_type": "code",
   "id": "0a433325-a89e-4275-bfe2-7b3841cf49a9",
   "metadata": {
    "ExecuteTime": {
     "end_time": "2024-07-16T10:50:10.057153Z",
     "start_time": "2024-07-16T10:50:10.013612Z"
    }
   },
   "source": [
    "ones_vector = np.arange(genotypes.shape[0])\n",
    "allele_count1 = ones_vector @ genotypes\n",
    "allele_count2 = ones_vector @ linarg\n",
    "np.all(allele_count1 == allele_count2)"
   ],
   "outputs": [
    {
     "ename": "NameError",
     "evalue": "name 'np' is not defined",
     "output_type": "error",
     "traceback": [
      "\u001B[0;31m---------------------------------------------------------------------------\u001B[0m",
      "\u001B[0;31mNameError\u001B[0m                                 Traceback (most recent call last)",
      "Cell \u001B[0;32mIn[4], line 1\u001B[0m\n\u001B[0;32m----> 1\u001B[0m ones_vector \u001B[38;5;241m=\u001B[39m np\u001B[38;5;241m.\u001B[39marange(genotypes\u001B[38;5;241m.\u001B[39mshape[\u001B[38;5;241m0\u001B[39m])\n\u001B[1;32m      2\u001B[0m allele_count1 \u001B[38;5;241m=\u001B[39m ones_vector \u001B[38;5;241m@\u001B[39m genotypes\n\u001B[1;32m      3\u001B[0m allele_count2 \u001B[38;5;241m=\u001B[39m ones_vector \u001B[38;5;241m@\u001B[39m linarg\n",
      "\u001B[0;31mNameError\u001B[0m: name 'np' is not defined"
     ]
    }
   ],
   "execution_count": 4
  },
  {
   "cell_type": "code",
   "id": "c27585ae-1907-4d59-a7b7-0540270c1007",
   "metadata": {
    "ExecuteTime": {
     "end_time": "2024-07-16T10:50:10.124071Z",
     "start_time": "2024-07-16T10:50:10.055312Z"
    }
   },
   "source": [],
   "outputs": [],
   "execution_count": 4
  },
  {
   "cell_type": "code",
   "id": "dcc0e22d-0196-413d-aaec-83b5266c36c2",
   "metadata": {
    "ExecuteTime": {
     "end_time": "2024-07-16T10:50:10.199345Z",
     "start_time": "2024-07-16T10:50:10.123168Z"
    }
   },
   "source": [],
   "outputs": [],
   "execution_count": 4
  },
  {
   "cell_type": "code",
   "id": "5376d339-6fc3-4b9f-892c-b57ef88ed2fa",
   "metadata": {
    "ExecuteTime": {
     "end_time": "2024-07-16T10:50:10.271924Z",
     "start_time": "2024-07-16T10:50:10.222003Z"
    }
   },
   "source": [
    "(\n",
    "    np.mean(linarg.A.data == 1),\n",
    "    np.mean(linarg.A.data == -1),\n",
    "    np.mean(linarg.A.data == -1),\n",
    "    np.mean(linarg.A.data < -1),\n",
    "    np.mean(linarg.A.data > 1),\n",
    ")"
   ],
   "outputs": [
    {
     "ename": "NameError",
     "evalue": "name 'np' is not defined",
     "output_type": "error",
     "traceback": [
      "\u001B[0;31m---------------------------------------------------------------------------\u001B[0m",
      "\u001B[0;31mNameError\u001B[0m                                 Traceback (most recent call last)",
      "Cell \u001B[0;32mIn[5], line 2\u001B[0m\n\u001B[1;32m      1\u001B[0m (\n\u001B[0;32m----> 2\u001B[0m     np\u001B[38;5;241m.\u001B[39mmean(linarg\u001B[38;5;241m.\u001B[39mA\u001B[38;5;241m.\u001B[39mdata \u001B[38;5;241m==\u001B[39m \u001B[38;5;241m1\u001B[39m),\n\u001B[1;32m      3\u001B[0m     np\u001B[38;5;241m.\u001B[39mmean(linarg\u001B[38;5;241m.\u001B[39mA\u001B[38;5;241m.\u001B[39mdata \u001B[38;5;241m==\u001B[39m \u001B[38;5;241m-\u001B[39m\u001B[38;5;241m1\u001B[39m),\n\u001B[1;32m      4\u001B[0m     np\u001B[38;5;241m.\u001B[39mmean(linarg\u001B[38;5;241m.\u001B[39mA\u001B[38;5;241m.\u001B[39mdata \u001B[38;5;241m==\u001B[39m \u001B[38;5;241m-\u001B[39m\u001B[38;5;241m1\u001B[39m),\n\u001B[1;32m      5\u001B[0m     np\u001B[38;5;241m.\u001B[39mmean(linarg\u001B[38;5;241m.\u001B[39mA\u001B[38;5;241m.\u001B[39mdata \u001B[38;5;241m<\u001B[39m \u001B[38;5;241m-\u001B[39m\u001B[38;5;241m1\u001B[39m),\n\u001B[1;32m      6\u001B[0m     np\u001B[38;5;241m.\u001B[39mmean(linarg\u001B[38;5;241m.\u001B[39mA\u001B[38;5;241m.\u001B[39mdata \u001B[38;5;241m>\u001B[39m \u001B[38;5;241m1\u001B[39m),\n\u001B[1;32m      7\u001B[0m )\n",
      "\u001B[0;31mNameError\u001B[0m: name 'np' is not defined"
     ]
    }
   ],
   "execution_count": 5
  },
  {
   "cell_type": "code",
   "id": "2da025ed-fa5a-4dba-8369-6754895cb15e",
   "metadata": {
    "ExecuteTime": {
     "start_time": "2024-07-16T10:50:10.267216Z"
    }
   },
   "source": [
    "np.min(linarg.A.data)"
   ],
   "outputs": [
    {
     "ename": "NameError",
     "evalue": "name 'np' is not defined",
     "output_type": "error",
     "traceback": [
      "\u001B[0;31m---------------------------------------------------------------------------\u001B[0m",
      "\u001B[0;31mNameError\u001B[0m                                 Traceback (most recent call last)",
      "Cell \u001B[0;32mIn[6], line 1\u001B[0m\n\u001B[0;32m----> 1\u001B[0m np\u001B[38;5;241m.\u001B[39mmin(linarg\u001B[38;5;241m.\u001B[39mA\u001B[38;5;241m.\u001B[39mdata)\n",
      "\u001B[0;31mNameError\u001B[0m: name 'np' is not defined"
     ]
    }
   ],
   "execution_count": 6
  },
  {
   "cell_type": "code",
   "id": "37af9e5b-5ec1-4ca9-85ac-ac8ea2b9fa88",
   "metadata": {
    "ExecuteTime": {
     "end_time": "2024-07-16T10:50:10.403788Z",
     "start_time": "2024-07-16T10:50:10.329087Z"
    }
   },
   "source": [
    "np.round(3.0) == 3.0"
   ],
   "outputs": [
    {
     "ename": "NameError",
     "evalue": "name 'np' is not defined",
     "output_type": "error",
     "traceback": [
      "\u001B[0;31m---------------------------------------------------------------------------\u001B[0m",
      "\u001B[0;31mNameError\u001B[0m                                 Traceback (most recent call last)",
      "Cell \u001B[0;32mIn[7], line 1\u001B[0m\n\u001B[0;32m----> 1\u001B[0m np\u001B[38;5;241m.\u001B[39mround(\u001B[38;5;241m3.0\u001B[39m) \u001B[38;5;241m==\u001B[39m \u001B[38;5;241m3.0\u001B[39m\n",
      "\u001B[0;31mNameError\u001B[0m: name 'np' is not defined"
     ]
    }
   ],
   "execution_count": 7
  },
  {
   "cell_type": "code",
   "id": "4d0447f2-07f8-4c0f-a5ea-924eca4875a5",
   "metadata": {
    "ExecuteTime": {
     "end_time": "2024-07-16T10:50:10.596514Z",
     "start_time": "2024-07-16T10:50:10.402478Z"
    }
   },
   "source": [],
   "outputs": [],
   "execution_count": 7
  },
  {
   "cell_type": "code",
   "id": "9bd87f7d-3636-4b18-896a-4821457b7643",
   "metadata": {
    "ExecuteTime": {
     "end_time": "2024-07-16T10:50:10.619056Z",
     "start_time": "2024-07-16T10:50:10.555854Z"
    }
   },
   "source": [],
   "outputs": [],
   "execution_count": 7
  },
  {
   "cell_type": "code",
   "id": "281cbedb-c5ae-4abf-ab0e-ae5a13d99075",
   "metadata": {
    "ExecuteTime": {
     "end_time": "2024-07-16T10:50:10.683525Z",
     "start_time": "2024-07-16T10:50:10.658484Z"
    }
   },
   "source": [],
   "outputs": [],
   "execution_count": 7
  },
  {
   "cell_type": "code",
   "id": "57a2f3d5-f4c6-4261-b5a1-8776c73d14da",
   "metadata": {
    "ExecuteTime": {
     "end_time": "2024-07-16T10:50:10.726699Z",
     "start_time": "2024-07-16T10:50:10.678655Z"
    }
   },
   "source": [
    "geno = genotypes  # [:1000,:2000]"
   ],
   "outputs": [
    {
     "ename": "NameError",
     "evalue": "name 'genotypes' is not defined",
     "output_type": "error",
     "traceback": [
      "\u001B[0;31m---------------------------------------------------------------------------\u001B[0m",
      "\u001B[0;31mNameError\u001B[0m                                 Traceback (most recent call last)",
      "Cell \u001B[0;32mIn[8], line 1\u001B[0m\n\u001B[0;32m----> 1\u001B[0m geno \u001B[38;5;241m=\u001B[39m genotypes\n",
      "\u001B[0;31mNameError\u001B[0m: name 'genotypes' is not defined"
     ]
    }
   ],
   "execution_count": 8
  },
  {
   "cell_type": "code",
   "id": "aef727a9-ac0f-48c4-b32c-45a6e1f257c7",
   "metadata": {
    "ExecuteTime": {
     "end_time": "2024-07-16T10:50:10.854777Z",
     "start_time": "2024-07-16T10:50:10.708131Z"
    }
   },
   "source": [
    "%%time\n",
    "B = ld.BrickGraph.from_csc(geno.indptr, geno.indices, geno.shape[0])"
   ],
   "outputs": [
    {
     "ename": "NameError",
     "evalue": "name 'ld' is not defined",
     "output_type": "error",
     "traceback": [
      "\u001B[0;31m---------------------------------------------------------------------------\u001B[0m",
      "\u001B[0;31mNameError\u001B[0m                                 Traceback (most recent call last)",
      "File \u001B[0;32m<timed exec>:1\u001B[0m\n",
      "\u001B[0;31mNameError\u001B[0m: name 'ld' is not defined"
     ]
    }
   ],
   "execution_count": 9
  },
  {
   "cell_type": "code",
   "id": "af42549c-8b25-4f78-8d39-cfd581e0de5a",
   "metadata": {
    "ExecuteTime": {
     "end_time": "2024-07-16T10:50:10.859974Z",
     "start_time": "2024-07-16T10:50:10.835860Z"
    }
   },
   "source": [
    "B.get_tree().number_of_nodes, B.get_tree().number_of_edges"
   ],
   "outputs": [
    {
     "ename": "NameError",
     "evalue": "name 'B' is not defined",
     "output_type": "error",
     "traceback": [
      "\u001B[0;31m---------------------------------------------------------------------------\u001B[0m",
      "\u001B[0;31mNameError\u001B[0m                                 Traceback (most recent call last)",
      "Cell \u001B[0;32mIn[10], line 1\u001B[0m\n\u001B[0;32m----> 1\u001B[0m B\u001B[38;5;241m.\u001B[39mget_tree()\u001B[38;5;241m.\u001B[39mnumber_of_nodes, B\u001B[38;5;241m.\u001B[39mget_tree()\u001B[38;5;241m.\u001B[39mnumber_of_edges\n",
      "\u001B[0;31mNameError\u001B[0m: name 'B' is not defined"
     ]
    }
   ],
   "execution_count": 10
  },
  {
   "cell_type": "code",
   "id": "08928aa5-ff09-4f10-a43d-cacdbfbf05c6",
   "metadata": {
    "ExecuteTime": {
     "start_time": "2024-07-16T10:50:10.852225Z"
    }
   },
   "source": [
    "B.get_graph().number_of_nodes, B.get_graph().number_of_edges"
   ],
   "outputs": [
    {
     "ename": "NameError",
     "evalue": "name 'B' is not defined",
     "output_type": "error",
     "traceback": [
      "\u001B[0;31m---------------------------------------------------------------------------\u001B[0m",
      "\u001B[0;31mNameError\u001B[0m                                 Traceback (most recent call last)",
      "Cell \u001B[0;32mIn[11], line 1\u001B[0m\n\u001B[0;32m----> 1\u001B[0m B\u001B[38;5;241m.\u001B[39mget_graph()\u001B[38;5;241m.\u001B[39mnumber_of_nodes, B\u001B[38;5;241m.\u001B[39mget_graph()\u001B[38;5;241m.\u001B[39mnumber_of_edges\n",
      "\u001B[0;31mNameError\u001B[0m: name 'B' is not defined"
     ]
    }
   ],
   "execution_count": 11
  },
  {
   "cell_type": "code",
   "id": "1bb11a82-bb4c-4382-a5af-02dfb99bd2fe",
   "metadata": {
    "ExecuteTime": {
     "end_time": "2024-07-16T10:50:11.009303Z",
     "start_time": "2024-07-16T10:50:10.918386Z"
    }
   },
   "source": [
    "B = from_csc(geno.indptr, geno.indices, geno.shape[0], 10)"
   ],
   "outputs": [
    {
     "ename": "NameError",
     "evalue": "name 'from_csc' is not defined",
     "output_type": "error",
     "traceback": [
      "\u001B[0;31m---------------------------------------------------------------------------\u001B[0m",
      "\u001B[0;31mNameError\u001B[0m                                 Traceback (most recent call last)",
      "Cell \u001B[0;32mIn[12], line 1\u001B[0m\n\u001B[0;32m----> 1\u001B[0m B \u001B[38;5;241m=\u001B[39m from_csc(geno\u001B[38;5;241m.\u001B[39mindptr, geno\u001B[38;5;241m.\u001B[39mindices, geno\u001B[38;5;241m.\u001B[39mshape[\u001B[38;5;241m0\u001B[39m], \u001B[38;5;241m10\u001B[39m)\n",
      "\u001B[0;31mNameError\u001B[0m: name 'from_csc' is not defined"
     ]
    }
   ],
   "execution_count": 12
  },
  {
   "cell_type": "code",
   "id": "68b96172-43ac-436a-877a-4949185a44c1",
   "metadata": {
    "ExecuteTime": {
     "start_time": "2024-07-16T10:50:11.003892Z"
    }
   },
   "source": [
    "edges = B.edge_list()"
   ],
   "outputs": [
    {
     "ename": "NameError",
     "evalue": "name 'B' is not defined",
     "output_type": "error",
     "traceback": [
      "\u001B[0;31m---------------------------------------------------------------------------\u001B[0m",
      "\u001B[0;31mNameError\u001B[0m                                 Traceback (most recent call last)",
      "Cell \u001B[0;32mIn[13], line 1\u001B[0m\n\u001B[0;32m----> 1\u001B[0m edges \u001B[38;5;241m=\u001B[39m B\u001B[38;5;241m.\u001B[39medge_list()\n",
      "\u001B[0;31mNameError\u001B[0m: name 'B' is not defined"
     ]
    }
   ],
   "execution_count": 13
  },
  {
   "cell_type": "code",
   "id": "2298fa84-bd47-476f-b5be-4f84bf7d748c",
   "metadata": {
    "ExecuteTime": {
     "end_time": "2024-07-16T10:50:11.234548Z",
     "start_time": "2024-07-16T10:50:11.059440Z"
    }
   },
   "source": [
    "import networkx as nx\n",
    "\n",
    "\n",
    "G = nx.DiGraph()"
   ],
   "outputs": [],
   "execution_count": 14
  },
  {
   "cell_type": "code",
   "id": "4bce221d-22f3-4486-b56c-a989015fb766",
   "metadata": {
    "ExecuteTime": {
     "end_time": "2024-07-16T10:50:11.317257Z",
     "start_time": "2024-07-16T10:50:11.231798Z"
    }
   },
   "source": [
    "G.add_edges_from(edges)"
   ],
   "outputs": [
    {
     "ename": "NameError",
     "evalue": "name 'edges' is not defined",
     "output_type": "error",
     "traceback": [
      "\u001B[0;31m---------------------------------------------------------------------------\u001B[0m",
      "\u001B[0;31mNameError\u001B[0m                                 Traceback (most recent call last)",
      "Cell \u001B[0;32mIn[15], line 1\u001B[0m\n\u001B[0;32m----> 1\u001B[0m G\u001B[38;5;241m.\u001B[39madd_edges_from(edges)\n",
      "\u001B[0;31mNameError\u001B[0m: name 'edges' is not defined"
     ]
    }
   ],
   "execution_count": 15
  },
  {
   "cell_type": "code",
   "id": "ebff2933-90b0-481b-bbee-11555c9463ea",
   "metadata": {
    "ExecuteTime": {
     "start_time": "2024-07-16T10:50:11.259760Z"
    }
   },
   "source": [
    "np.unique([val for key, val in dict(G.out_degree()).items()])"
   ],
   "outputs": [],
   "execution_count": null
  },
  {
   "cell_type": "code",
   "id": "c91084fc-64ca-4781-9ecd-9d210b26a3a4",
   "metadata": {
    "ExecuteTime": {
     "start_time": "2024-07-16T10:50:11.261920Z"
    }
   },
   "source": [],
   "outputs": [],
   "execution_count": null
  },
  {
   "cell_type": "code",
   "id": "59caa2a8-55ba-49cc-bc6b-314f113f6557",
   "metadata": {
    "ExecuteTime": {
     "start_time": "2024-07-16T10:50:11.263721Z"
    }
   },
   "source": [
    "def from_csc(indptr, indices, num_samples, n):\n",
    "    num_variants = len(indptr) - 1\n",
    "    total_allele_count = len(indices)\n",
    "    result = ld.BrickGraph(num_samples, num_variants, total_allele_count)\n",
    "\n",
    "    # Forwards pass\n",
    "    for i in range(n):\n",
    "        carriers = indices[indptr[i] : indptr[i + 1]]\n",
    "        result.intersect_clades(carriers, i)\n",
    "        print(result.get_tree().number_of_nodes, result.get_tree().number_of_edges)\n",
    "\n",
    "    return result.get_tree()"
   ],
   "outputs": [],
   "execution_count": null
  },
  {
   "cell_type": "code",
   "id": "7f53b022-2cdf-460b-821b-13d692bc94d9",
   "metadata": {
    "ExecuteTime": {
     "start_time": "2024-07-16T10:50:11.265171Z"
    }
   },
   "source": [],
   "outputs": [],
   "execution_count": null
  },
  {
   "cell_type": "code",
   "id": "360b918d-130a-411d-a14a-c799809cc3d8",
   "metadata": {
    "ExecuteTime": {
     "start_time": "2024-07-16T10:50:11.266283Z"
    }
   },
   "source": [],
   "outputs": [],
   "execution_count": null
  },
  {
   "cell_type": "code",
   "id": "0ae3ed9c-c2d0-4b31-811d-c13efa930bcb",
   "metadata": {
    "ExecuteTime": {
     "end_time": "2024-07-16T10:50:11.480648Z",
     "start_time": "2024-07-16T10:50:11.346166Z"
    }
   },
   "source": [
    "B = from_csc(geno.indptr, geno.indices, geno.shape[0])"
   ],
   "outputs": [
    {
     "ename": "NameError",
     "evalue": "name 'from_csc' is not defined",
     "output_type": "error",
     "traceback": [
      "\u001B[0;31m---------------------------------------------------------------------------\u001B[0m",
      "\u001B[0;31mNameError\u001B[0m                                 Traceback (most recent call last)",
      "Cell \u001B[0;32mIn[16], line 1\u001B[0m\n\u001B[0;32m----> 1\u001B[0m B \u001B[38;5;241m=\u001B[39m from_csc(geno\u001B[38;5;241m.\u001B[39mindptr, geno\u001B[38;5;241m.\u001B[39mindices, geno\u001B[38;5;241m.\u001B[39mshape[\u001B[38;5;241m0\u001B[39m])\n",
      "\u001B[0;31mNameError\u001B[0m: name 'from_csc' is not defined"
     ]
    }
   ],
   "execution_count": 16
  },
  {
   "cell_type": "code",
   "id": "3df0bc3d-f6f1-40ae-b890-6a4b74cd370d",
   "metadata": {
    "ExecuteTime": {
     "end_time": "2024-07-16T10:50:11.532090Z",
     "start_time": "2024-07-16T10:50:11.483641Z"
    }
   },
   "source": [
    "i"
   ],
   "outputs": [
    {
     "ename": "NameError",
     "evalue": "name 'i' is not defined",
     "output_type": "error",
     "traceback": [
      "\u001B[0;31m---------------------------------------------------------------------------\u001B[0m",
      "\u001B[0;31mNameError\u001B[0m                                 Traceback (most recent call last)",
      "Cell \u001B[0;32mIn[17], line 1\u001B[0m\n\u001B[0;32m----> 1\u001B[0m i\n",
      "\u001B[0;31mNameError\u001B[0m: name 'i' is not defined"
     ]
    }
   ],
   "execution_count": 17
  },
  {
   "cell_type": "code",
   "id": "ccc21289-9e07-4fd2-a671-a19b2816a817",
   "metadata": {
    "ExecuteTime": {
     "start_time": "2024-07-16T10:50:11.525895Z"
    }
   },
   "source": [
    "ones_vector = np.ones(1000)\n",
    "allele_count1 = ones_vector @ genotypes[:1000,]\n",
    "allele_count2 = ones_vector @ linarg[:1000,]\n",
    "np.all(allele_count1 == allele_count2)"
   ],
   "outputs": [
    {
     "ename": "NameError",
     "evalue": "name 'np' is not defined",
     "output_type": "error",
     "traceback": [
      "\u001B[0;31m---------------------------------------------------------------------------\u001B[0m",
      "\u001B[0;31mNameError\u001B[0m                                 Traceback (most recent call last)",
      "Cell \u001B[0;32mIn[18], line 1\u001B[0m\n\u001B[0;32m----> 1\u001B[0m ones_vector \u001B[38;5;241m=\u001B[39m np\u001B[38;5;241m.\u001B[39mones(\u001B[38;5;241m1000\u001B[39m)\n\u001B[1;32m      2\u001B[0m allele_count1 \u001B[38;5;241m=\u001B[39m ones_vector \u001B[38;5;241m@\u001B[39m genotypes[:\u001B[38;5;241m1000\u001B[39m,]\n\u001B[1;32m      3\u001B[0m allele_count2 \u001B[38;5;241m=\u001B[39m ones_vector \u001B[38;5;241m@\u001B[39m linarg[:\u001B[38;5;241m1000\u001B[39m,]\n",
      "\u001B[0;31mNameError\u001B[0m: name 'np' is not defined"
     ]
    }
   ],
   "execution_count": 18
  },
  {
   "cell_type": "code",
   "id": "509b0afd-7ee6-44b0-9f8f-4e227dcfc2cb",
   "metadata": {
    "ExecuteTime": {
     "end_time": "2024-07-16T10:50:11.645853Z",
     "start_time": "2024-07-16T10:50:11.582005Z"
    }
   },
   "source": [
    "import networkx as nx\n",
    "\n",
    "\n",
    "def search_descendants(G: nx.DiGraph, nodes: list) -> nx.DiGraph:\n",
    "    subgraph = nx.DiGraph()\n",
    "    subgraph.add_nodes_from(nodes)\n",
    "    nodes_to_search = nodes[::-1].copy()\n",
    "    leftmost_ancestor = {node: node for node in nodes}\n",
    "    predecessors = {nodes[i]: nodes[i - 1] if i > 0 else None for i in range(len(nodes))}\n",
    "    while nodes_to_search:\n",
    "        node = nodes_to_search.pop()\n",
    "        la = leftmost_ancestor[node]\n",
    "        parent_predecessor = predecessors[la]\n",
    "        if parent_predecessor is None:\n",
    "            continue\n",
    "        candidate_other_parents = set(nx.descendants(subgraph, parent_predecessor))\n",
    "        candidate_other_parents.add(parent_predecessor)\n",
    "        for child in G.successors(node):\n",
    "            parents_of_child = list(G.predecessors(child))\n",
    "            if len(parents_of_child) > 2:\n",
    "                continue\n",
    "            assert parents_of_child[0] == node or parents_of_child[1] == node\n",
    "            other_parent = parents_of_child[0] if parents_of_child[1] == node else parents_of_child[1]\n",
    "            if other_parent in candidate_other_parents:\n",
    "                nodes_to_search.append(child)\n",
    "                leftmost_ancestor[child] = leftmost_ancestor[other_parent]\n",
    "                subgraph.add_node(child)\n",
    "                subgraph.add_edge(node, child)\n",
    "                subgraph.add_edge(other_parent, child)\n",
    "\n",
    "    return subgraph"
   ],
   "outputs": [],
   "execution_count": 19
  },
  {
   "cell_type": "code",
   "id": "58c1a23f-97a3-4469-af9c-516c80212708",
   "metadata": {
    "ExecuteTime": {
     "end_time": "2024-07-16T10:50:11.697123Z",
     "start_time": "2024-07-16T10:50:11.636484Z"
    }
   },
   "source": [
    "subgraph = search_descendants(nx.DiGraph(), [])\n",
    "subgraph.nodes()"
   ],
   "outputs": [
    {
     "data": {
      "text/plain": "NodeView(())"
     },
     "execution_count": 20,
     "metadata": {},
     "output_type": "execute_result"
    }
   ],
   "execution_count": 20
  },
  {
   "cell_type": "code",
   "id": "d8e95562-05aa-4a75-8e15-081b4f3e13b0",
   "metadata": {
    "ExecuteTime": {
     "end_time": "2024-07-16T10:50:11.732554Z",
     "start_time": "2024-07-16T10:50:11.686944Z"
    }
   },
   "source": [],
   "outputs": [],
   "execution_count": 20
  },
  {
   "cell_type": "code",
   "id": "d7ecb428-be62-4e78-90ae-3e47fb502321",
   "metadata": {
    "ExecuteTime": {
     "end_time": "2024-07-16T10:50:11.802567Z",
     "start_time": "2024-07-16T10:50:11.733265Z"
    }
   },
   "source": [
    "n = 5\n",
    "largenumber = 100\n",
    "\n",
    "\n",
    "def child(p1, p2):\n",
    "    return p1 + largenumber * p2\n",
    "\n",
    "\n",
    "G = nx.DiGraph()\n",
    "G.add_edges_from([(i, child(i, i + 1)) for i in range(n - 1)])\n",
    "G.add_edges_from([(i + 1, child(i, i + 1)) for i in range(n - 1)])\n",
    "G.add_edges_from([(i, child(i, i + 2)) for i in range(n - 2)])\n",
    "G.add_edges_from([(i + 2, child(i, i + 2)) for i in range(n - 2)])\n",
    "G.add_edges_from([(i, child(i, i + 2)) for i in range(n - 2)])\n",
    "G.add_edges_from([(i + 2, child(i, i + 2)) for i in range(n - 2)])\n",
    "c = child(0, 2)\n",
    "G.add_edge(c, child(c, 4))\n",
    "G.add_edge(4, child(c, 4))"
   ],
   "outputs": [],
   "execution_count": 21
  },
  {
   "cell_type": "code",
   "id": "660675de-1637-4b0e-9d57-0779a4469e0c",
   "metadata": {
    "ExecuteTime": {
     "end_time": "2024-07-16T10:50:11.832791Z",
     "start_time": "2024-07-16T10:50:11.788682Z"
    }
   },
   "source": [
    "G.edges()"
   ],
   "outputs": [
    {
     "data": {
      "text/plain": "OutEdgeView([(0, 100), (0, 200), (1, 201), (1, 100), (1, 301), (2, 302), (2, 201), (2, 402), (2, 200), (3, 403), (3, 302), (3, 301), (4, 403), (4, 402), (4, 600), (200, 600)])"
     },
     "execution_count": 22,
     "metadata": {},
     "output_type": "execute_result"
    }
   ],
   "execution_count": 22
  },
  {
   "cell_type": "code",
   "id": "275139b8-8601-412a-8252-038f69121aa5",
   "metadata": {
    "ExecuteTime": {
     "end_time": "2024-07-16T10:50:11.920762Z",
     "start_time": "2024-07-16T10:50:11.825482Z"
    }
   },
   "source": [],
   "outputs": [],
   "execution_count": 22
  },
  {
   "cell_type": "code",
   "id": "81c50130-d554-41fa-bb91-8411a44f9801",
   "metadata": {
    "ExecuteTime": {
     "end_time": "2024-07-16T10:50:11.980403Z",
     "start_time": "2024-07-16T10:50:11.924832Z"
    }
   },
   "source": [
    "linarg.A"
   ],
   "outputs": [
    {
     "ename": "NameError",
     "evalue": "name 'linarg' is not defined",
     "output_type": "error",
     "traceback": [
      "\u001B[0;31m---------------------------------------------------------------------------\u001B[0m",
      "\u001B[0;31mNameError\u001B[0m                                 Traceback (most recent call last)",
      "Cell \u001B[0;32mIn[23], line 1\u001B[0m\n\u001B[0;32m----> 1\u001B[0m linarg\u001B[38;5;241m.\u001B[39mA\n",
      "\u001B[0;31mNameError\u001B[0m: name 'linarg' is not defined"
     ]
    }
   ],
   "execution_count": 23
  },
  {
   "cell_type": "code",
   "id": "c3474b34-c022-4fae-84e3-73b44977f5e0",
   "metadata": {
    "ExecuteTime": {
     "start_time": "2024-07-16T10:50:11.977389Z"
    }
   },
   "source": [
    "G = nx.from_scipy_sparse_array(linarg.A)"
   ],
   "outputs": [
    {
     "ename": "NameError",
     "evalue": "name 'linarg' is not defined",
     "output_type": "error",
     "traceback": [
      "\u001B[0;31m---------------------------------------------------------------------------\u001B[0m",
      "\u001B[0;31mNameError\u001B[0m                                 Traceback (most recent call last)",
      "Cell \u001B[0;32mIn[24], line 1\u001B[0m\n\u001B[0;32m----> 1\u001B[0m G \u001B[38;5;241m=\u001B[39m nx\u001B[38;5;241m.\u001B[39mfrom_scipy_sparse_array(linarg\u001B[38;5;241m.\u001B[39mA)\n",
      "\u001B[0;31mNameError\u001B[0m: name 'linarg' is not defined"
     ]
    }
   ],
   "execution_count": 24
  },
  {
   "cell_type": "code",
   "id": "a0e5f109-d24f-49d1-8309-d0d9034b4984",
   "metadata": {
    "ExecuteTime": {
     "end_time": "2024-07-16T10:50:12.094850Z",
     "start_time": "2024-07-16T10:50:12.038513Z"
    }
   },
   "source": [],
   "outputs": [],
   "execution_count": 24
  },
  {
   "cell_type": "code",
   "id": "c0569523-fe9a-45ea-9917-d6beea9f7692",
   "metadata": {
    "ExecuteTime": {
     "end_time": "2024-07-16T10:50:12.165403Z",
     "start_time": "2024-07-16T10:50:12.092824Z"
    }
   },
   "source": [],
   "outputs": [],
   "execution_count": 24
  },
  {
   "cell_type": "code",
   "id": "caa9434f-6ccc-452e-9bb8-419b87376e69",
   "metadata": {
    "ExecuteTime": {
     "end_time": "2024-07-16T10:50:12.197942Z",
     "start_time": "2024-07-16T10:50:12.155546Z"
    }
   },
   "source": [],
   "outputs": [],
   "execution_count": 24
  },
  {
   "cell_type": "code",
   "id": "9817b216-4ffc-4050-925f-3eba69616393",
   "metadata": {
    "ExecuteTime": {
     "end_time": "2024-07-16T10:50:12.252353Z",
     "start_time": "2024-07-16T10:50:12.195911Z"
    }
   },
   "source": [],
   "outputs": [],
   "execution_count": 24
  },
  {
   "cell_type": "code",
   "id": "a3bddee5-e8d2-4607-9bda-26c56f34bb7d",
   "metadata": {
    "ExecuteTime": {
     "end_time": "2024-07-16T10:50:12.280205Z",
     "start_time": "2024-07-16T10:50:12.242389Z"
    }
   },
   "source": [],
   "outputs": [],
   "execution_count": 24
  }
 ],
 "metadata": {
  "kernelspec": {
   "display_name": "Python 3 (ipykernel)",
   "language": "python",
   "name": "python3"
  },
  "language_info": {
   "codemirror_mode": {
    "name": "ipython",
    "version": 3
   },
   "file_extension": ".py",
   "mimetype": "text/x-python",
   "name": "python",
   "nbconvert_exporter": "python",
   "pygments_lexer": "ipython3",
   "version": "3.12.3"
  }
 },
 "nbformat": 4,
 "nbformat_minor": 5
}
