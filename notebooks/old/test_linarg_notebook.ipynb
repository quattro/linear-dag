{
 "cells": [
  {
   "cell_type": "code",
   "execution_count": 1,
   "id": "06ce14d8",
   "metadata": {},
   "outputs": [],
   "source": [
    "import linear_dag as ld\n",
    "import numpy as np"
   ]
  },
  {
   "cell_type": "code",
   "execution_count": 2,
   "id": "d1f657ec",
   "metadata": {},
   "outputs": [
    {
     "name": "stdout",
     "output_type": "stream",
     "text": [
      "genotypes: shape (5008, 51461), nonzeros 1419782\n",
      "A: shape (0, 0), nonzeros 1419782\n",
      "A_haplo: shape (0, 0), nonzeros 1419782\n"
     ]
    }
   ],
   "source": [
    "linarg = ld.Linarg(genotype_matrix_mtx=\"/Users/loconnor/Dropbox/linearArg/linearg_shared/genotypes.mtx\")\n",
    "linarg.print()"
   ]
  },
  {
   "cell_type": "code",
   "execution_count": 3,
   "id": "6b4759d6",
   "metadata": {},
   "outputs": [
    {
     "name": "stdout",
     "output_type": "stream",
     "text": [
      "genotypes: shape (5008, 6869), nonzeros 1345215\n",
      "A: shape (0, 0), nonzeros 1345215\n",
      "A_haplo: shape (0, 0), nonzeros 1345215\n",
      "CPU times: user 2.63 ms, sys: 1.64 ms, total: 4.27 ms\n",
      "Wall time: 3.43 ms\n"
     ]
    }
   ],
   "source": [
    "%%time\n",
    "linarg.apply_maf_threshold(0.001)\n",
    "linarg.print()"
   ]
  },
  {
   "cell_type": "code",
   "execution_count": 4,
   "id": "0d024d67",
   "metadata": {},
   "outputs": [
    {
     "name": "stdout",
     "output_type": "stream",
     "text": [
      "genotypes: shape (5008, 6869), nonzeros 1131885\n",
      "A: shape (0, 0), nonzeros 1131885\n",
      "A_haplo: shape (0, 0), nonzeros 1131885\n",
      "CPU times: user 702 ms, sys: 26.4 ms, total: 729 ms\n",
      "Wall time: 729 ms\n"
     ]
    }
   ],
   "source": [
    "%%time\n",
    "linarg.flip_alleles()\n",
    "linarg.print()"
   ]
  },
  {
   "cell_type": "code",
   "execution_count": 5,
   "id": "8a00b8ee",
   "metadata": {},
   "outputs": [
    {
     "name": "stdout",
     "output_type": "stream",
     "text": [
      "genotypes: shape (5008, 6869), nonzeros 1131885\n",
      "A: shape (11877, 11877), nonzeros 1131885\n",
      "A_haplo: shape (6869, 6869), nonzeros 1131885\n",
      "CPU times: user 1.42 s, sys: 37.3 ms, total: 1.46 s\n",
      "Wall time: 1.46 s\n"
     ]
    }
   ],
   "source": [
    "%%time\n",
    "linarg.form_initial_linarg()\n",
    "linarg.print()"
   ]
  },
  {
   "cell_type": "code",
   "execution_count": 6,
   "id": "b4d78f65",
   "metadata": {},
   "outputs": [
    {
     "name": "stdout",
     "output_type": "stream",
     "text": [
      "All properties hold for the Trios instance.\n",
      "genotypes: shape (5008, 6869), nonzeros 1131885\n",
      "A: shape (11877, 11877), nonzeros 1131885\n",
      "A_haplo: shape (6869, 6869), nonzeros 1131885\n",
      "trio_list properties: n 885154, num_cliques 153442, num_nodes 11877, num_trios 412136, num_edges 8739\n",
      "CPU times: user 679 ms, sys: 11.3 ms, total: 691 ms\n",
      "Wall time: 689 ms\n"
     ]
    }
   ],
   "source": [
    "%%time\n",
    "linarg.create_triolist()\n",
    "linarg.print()"
   ]
  },
  {
   "cell_type": "code",
   "execution_count": 7,
   "id": "fd5496c4",
   "metadata": {},
   "outputs": [
    {
     "name": "stdout",
     "output_type": "stream",
     "text": [
      "All properties hold for the Trios instance.\n",
      "genotypes: shape (5008, 6869), nonzeros 1131885\n",
      "A: shape (40270, 40270), nonzeros 1131885\n",
      "A_haplo: shape (6869, 6869), nonzeros 1131885\n",
      "trio_list properties: n 885154, num_cliques 390895, num_nodes 40270, num_trios 412136, num_edges 310345\n",
      "CPU times: user 3.26 s, sys: 6.29 ms, total: 3.26 s\n",
      "Wall time: 3.27 s\n"
     ]
    }
   ],
   "source": [
    "%%time\n",
    "linarg.find_recombinations()\n",
    "linarg.print()"
   ]
  },
  {
   "cell_type": "code",
   "execution_count": 8,
   "id": "b544920c",
   "metadata": {},
   "outputs": [
    {
     "data": {
      "text/plain": [
       "(310345, (40270, 40270))"
      ]
     },
     "execution_count": 8,
     "metadata": {},
     "output_type": "execute_result"
    }
   ],
   "source": [
    "linarg.A.eliminate_zeros()\n",
    "linarg.A.nnz, linarg.A.shape"
   ]
  },
  {
   "cell_type": "code",
   "execution_count": 9,
   "id": "fa0c5371",
   "metadata": {},
   "outputs": [
    {
     "name": "stdout",
     "output_type": "stream",
     "text": [
      "35262\n"
     ]
    }
   ],
   "source": [
    "deg = np.diff(linarg.A.indptr)\n",
    "print(np.sum(deg > 0))"
   ]
  },
  {
   "cell_type": "code",
   "execution_count": 10,
   "id": "eb31fe17",
   "metadata": {},
   "outputs": [],
   "source": [
    "linarg.write(\"/Users/loconnor/Dropbox/linearARG/linearg_shared/1kg_test_py\")"
   ]
  },
  {
   "cell_type": "code",
   "execution_count": 11,
   "id": "b26928f6",
   "metadata": {},
   "outputs": [
    {
     "data": {
      "text/plain": [
       "(40270, 40270)"
      ]
     },
     "execution_count": 11,
     "metadata": {},
     "output_type": "execute_result"
    }
   ],
   "source": [
    "linarg.A.shape"
   ]
  },
  {
   "cell_type": "code",
   "execution_count": null,
   "id": "0b1d83c5",
   "metadata": {},
   "outputs": [],
   "source": []
  }
 ],
 "metadata": {
  "kernelspec": {
   "display_name": "Python 3 (ipykernel)",
   "language": "python",
   "name": "python3"
  },
  "language_info": {
   "codemirror_mode": {
    "name": "ipython",
    "version": 3
   },
   "file_extension": ".py",
   "mimetype": "text/x-python",
   "name": "python",
   "nbconvert_exporter": "python",
   "pygments_lexer": "ipython3",
   "version": "3.11.6"
  }
 },
 "nbformat": 4,
 "nbformat_minor": 5
}
