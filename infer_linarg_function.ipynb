{
 "cells": [
  {
   "cell_type": "code",
   "execution_count": 3,
   "id": "b4bb61da",
   "metadata": {},
   "outputs": [],
   "source": [
    "from warnings import warn\n",
    "\n",
    "import numpy as np\n",
    "import scipy as sp\n",
    "from numpy import asarray\n",
    "from scipy.sparse import (issparse,\n",
    "                          SparseEfficiencyWarning, csc_matrix, csr_matrix, lil_matrix)\n",
    "from scipy.linalg import LinAlgError\n",
    "import copy\n",
    "from tqdm import tqdm\n",
    "\n",
    "def spinv_triangular(A):\n",
    "    \"\"\"\n",
    "    Invert sparse lower triangular matrix A.\n",
    "\n",
    "    Parameters\n",
    "    ----------\n",
    "    A : (M, M) sparse matrix\n",
    "        A sparse square lower triangular matrix. Should be in CSR format.\n",
    "    \n",
    "    Returns\n",
    "    -------\n",
    "    x : (M, M) sparse matrix\n",
    "\n",
    "    Raises\n",
    "    ------\n",
    "    LinAlgError\n",
    "        If `A` is singular or not triangular.\n",
    "    ValueError\n",
    "        If shape of `A` does not match the requirements.\n",
    "\n",
    "    Notes\n",
    "    -----\n",
    "    .. versionadded:: 0.19.0\n",
    "\n",
    "    Examples\n",
    "    --------\n",
    "    >>> import numpy as np\n",
    "    >>> from scipy.sparse import csr_matrix\n",
    "    >>> from scipy.sparse.linalg import spsolve_triangular\n",
    "    >>> A = csr_matrix([[3, 0, 0], [1, -1, 0], [2, 0, 1]], dtype=float)\n",
    "    >>> Ainv = spinv_triangular(A, B)\n",
    "    \"\"\"\n",
    "\n",
    "\n",
    "    # Check the input for correct type and format.\n",
    "    if not (issparse(A) and A.format == \"csr\"):\n",
    "        warn('CSR matrix format is required. Converting to CSR matrix.',\n",
    "             SparseEfficiencyWarning, stacklevel=2)\n",
    "        A = csr_matrix(A)\n",
    "    else:\n",
    "        A = A.copy()\n",
    "    \n",
    "    n = A.shape[0]\n",
    "    if n != A.shape[1]:\n",
    "        raise ValueError(\n",
    "            f'A must be a square matrix but its shape is {A.shape}.')\n",
    "\n",
    "    # sum duplicates for non-canonical format [???]\n",
    "    A.sum_duplicates()\n",
    "\n",
    "    # Init x as (a copy of) A.\n",
    "    x = lil_matrix(sp.sparse.eye(n))\n",
    "\n",
    "    row_indices = range(n)\n",
    "\n",
    "    # Fill x iteratively.\n",
    "    for i in tqdm(row_indices):\n",
    "\n",
    "        # Get indices for i-th row.\n",
    "        indptr_start = A.indptr[i]\n",
    "        indptr_stop = A.indptr[i + 1]\n",
    "\n",
    "        A_diagonal_index_row_i = indptr_stop - 1\n",
    "        A_off_diagonal_indices_row_i = slice(indptr_start, indptr_stop - 1)\n",
    "       \n",
    "        # Incorporate off-diagonal entries.\n",
    "        A_column_indices_in_row_i = A.indices[A_off_diagonal_indices_row_i]\n",
    "        A_values_in_row_i = A.data[A_off_diagonal_indices_row_i]\n",
    "        x[i] -= x[A_column_indices_in_row_i].T @ A_values_in_row_i\n",
    "\n",
    "        # Compute i-th entry of x.\n",
    "        x[i] /= A.data[A_diagonal_index_row_i]\n",
    "\n",
    "    return csr_matrix(x)"
   ]
  },
  {
   "cell_type": "code",
   "execution_count": 5,
   "id": "0dfbf801",
   "metadata": {},
   "outputs": [
    {
     "name": "stderr",
     "output_type": "stream",
     "text": [
      "100%|██████████████████████████████████████████████████████| 3/3 [00:00<00:00, 485.90it/s]\n"
     ]
    }
   ],
   "source": [
    "from scipy.sparse import eye\n",
    "A = csr_matrix([[3, 0, 0], [1, -1, 0], [2, 0, 1]], dtype=float)\n",
    "Ainv = spinv_triangular(A)\n",
    "lu = splu(A)\n",
    "Ainv2 = spsolve(A, eye(3))"
   ]
  },
  {
   "cell_type": "code",
   "execution_count": 7,
   "id": "18e26463",
   "metadata": {
    "scrolled": true
   },
   "outputs": [
    {
     "name": "stdout",
     "output_type": "stream",
     "text": [
      "  (0, 0)\t0.3333333333333333\n",
      "  (1, 0)\t0.3333333333333333\n",
      "  (1, 1)\t-1.0\n",
      "  (2, 0)\t-0.6666666666666666\n",
      "  (2, 2)\t1.0\n",
      "[[ 0.33333333  0.          0.        ]\n",
      " [ 0.33333333 -1.         -0.        ]\n",
      " [-0.66666667  0.          1.        ]]\n"
     ]
    }
   ],
   "source": [
    "print(Ainv)\n",
    "print(Ainv2)"
   ]
  },
  {
   "cell_type": "code",
   "execution_count": 11,
   "id": "8d08d837-32cd-4d42-96bc-0e75a5d96130",
   "metadata": {},
   "outputs": [
    {
     "name": "stdout",
     "output_type": "stream",
     "text": [
      "  (0, 0)\t0.3333333333333333\n",
      "  (1, 0)\t0.3333333333333333\n",
      "  (2, 0)\t-0.6666666666666666\n",
      "  (1, 1)\t-1.0\n",
      "  (2, 2)\t1.0\n"
     ]
    }
   ],
   "source": [
    "Ainv2 = lu.solve_sparse(eye(3))\n",
    "print(Ainv2)"
   ]
  },
  {
   "cell_type": "code",
   "execution_count": 19,
   "id": "c14b32e1-d1f2-4f7d-98bd-95aaa731c91c",
   "metadata": {},
   "outputs": [],
   "source": [
    "A=lil_matrix(Ainv2)"
   ]
  },
  {
   "cell_type": "code",
   "execution_count": 55,
   "id": "3677c33b",
   "metadata": {},
   "outputs": [
    {
     "name": "stdout",
     "output_type": "stream",
     "text": [
      "  (0, 0)\t0.3333333333333333\n",
      "  (1, 0)\t0.3333333333333333\n",
      "  (1, 1)\t-1.0\n",
      "  (2, 0)\t-0.6666666666666666\n",
      "  (2, 2)\t1.0\n"
     ]
    }
   ],
   "source": [
    "from scipy.sparse.linalg import inv\n",
    "print(inv(A))"
   ]
  },
  {
   "cell_type": "code",
   "execution_count": null,
   "id": "6bae1c19",
   "metadata": {},
   "outputs": [],
   "source": []
  },
  {
   "cell_type": "code",
   "execution_count": 27,
   "id": "e44b061f",
   "metadata": {},
   "outputs": [],
   "source": [
    "import numpy as np\n",
    "import scipy as sp\n",
    "from scipy import sparse\n",
    "from scipy.sparse import diags, triu, vstack, hstack, csr_matrix, eye\n",
    "from scipy.sparse.linalg import spsolve_triangular\n",
    "from tqdm import tqdm\n",
    "from scikits.umfpack import splu\n",
    "\n",
    "def process_sparse_matrix(sparse_matrix):\n",
    "    ploidy = sparse_matrix.data.max()\n",
    "    sparse_matrix_csc = sparse_matrix.tocsc()\n",
    "\n",
    "    # Step 1: Adjust allele flips\n",
    "    flip_alleles = []\n",
    "    for i in range(sparse_matrix_csc.shape[1]):\n",
    "        column = sparse_matrix_csc[:, i].toarray()\n",
    "        mean_value = column.mean()\n",
    "        flip_alleles.append(mean_value > ploidy / 2)\n",
    "        if mean_value > ploidy / 2:\n",
    "            modified_column = ploidy - column\n",
    "            sparse_matrix_csc[:, i] = sparse.csc_matrix(modified_column)\n",
    "\n",
    "    # Step 2: Construct Xh\n",
    "    Xh = None\n",
    "    for n in range(1, int(ploidy) + 1):\n",
    "        X_carrier = sparse_matrix_csc >= n\n",
    "        X_carrier = X_carrier.astype(int)\n",
    "        R_carrier = X_carrier.transpose().dot(X_carrier)\n",
    "        \n",
    "        temp = R_carrier.copy()\n",
    "        for i in range(R_carrier.shape[0]):\n",
    "            row_indices = R_carrier.indices[R_carrier.indptr[i]:R_carrier.indptr[i+1]]\n",
    "            row_data = R_carrier.data[R_carrier.indptr[i]:R_carrier.indptr[i+1]]\n",
    "            temp.data[temp.indptr[i]:temp.indptr[i+1]] = (row_data >= R_carrier[i, i])\n",
    "        if n == 1:\n",
    "            Xh = temp\n",
    "        else:\n",
    "            Xh = Xh.multiply(temp)\n",
    "    Xh = Xh.tocsc()\n",
    "    Xh.eliminate_zeros()\n",
    "\n",
    "    # Step 3: Break ties in Xh\n",
    "    ties = Xh.multiply(Xh.transpose())\n",
    "    Xh = Xh - triu(ties, k=1)\n",
    "    Xh.eliminate_zeros()\n",
    "\n",
    "    # Step 4: Reorder Xh\n",
    "    row_counts = np.diff(Xh.indptr)\n",
    "    sorted_indices = np.argsort(-row_counts)\n",
    "    Xh_reordered = Xh[sorted_indices, :][:, sorted_indices]\n",
    "\n",
    "    # Step 5: Solve the triangular system\n",
    "    n = Xh.shape[0]\n",
    "    Xh_reordered = Xh_reordered.astype(int).tocsr()\n",
    "    b = eye(n)\n",
    "    #A = spinv_triangular(Xh_reordered)\n",
    "    lu = splu(Xh_reordered)\n",
    "    A = lu.solve_sparse(csc_matrix(b))\n",
    "\n",
    "    # Undo the reordering\n",
    "    original_order = np.argsort(sorted_indices)\n",
    "    Ahaplo = A[original_order, :][:, original_order]\n",
    "    Asample = sparse_matrix_csc @ Ahaplo\n",
    "    Ahaplo = eye(n) - Ahaplo\n",
    "\n",
    "    # Step 7: Construct Ainit\n",
    "    m, n = Asample.shape\n",
    "    zeros_matrix = csr_matrix((m+n, m))\n",
    "    vertical_stack = vstack([Asample, Ahaplo])\n",
    "    Ainit = hstack([zeros_matrix, vertical_stack])\n",
    "\n",
    "    return Ainit, flip_alleles\n",
    "\n",
    "# You would call this function with your sparse_matrix as follows:\n",
    "# Ainit, flip_alleles = process_sparse_matrix(sparse_matrix)\n"
   ]
  },
  {
   "cell_type": "code",
   "execution_count": 28,
   "id": "2a6b38dd",
   "metadata": {},
   "outputs": [],
   "source": [
    "from scipy.io import mmread\n",
    "X = mmread('/Users/loconnor/Dropbox/linearArg/linearg_shared/genotypes.mtx')"
   ]
  },
  {
   "cell_type": "code",
   "execution_count": null,
   "id": "2ac08bc0",
   "metadata": {},
   "outputs": [],
   "source": [
    "%%time\n",
    "Ainit, flip_alleles = process_sparse_matrix(X)"
   ]
  },
  {
   "cell_type": "code",
   "execution_count": 60,
   "id": "be81b83e",
   "metadata": {},
   "outputs": [],
   "source": [
    "from scipy.io import mmwrite\n",
    "mmwrite('/Users/loconnor/Dropbox/linearArg/data/linearg_python.mtx',Ainit)\n"
   ]
  },
  {
   "cell_type": "code",
   "execution_count": 61,
   "id": "73c40550",
   "metadata": {},
   "outputs": [
    {
     "data": {
      "text/plain": [
       "<5008x51461 sparse matrix of type '<class 'numpy.float64'>'\n",
       "\twith 1419782 stored elements in COOrdinate format>"
      ]
     },
     "execution_count": 61,
     "metadata": {},
     "output_type": "execute_result"
    }
   ],
   "source": [
    "X"
   ]
  },
  {
   "cell_type": "code",
   "execution_count": 62,
   "id": "9c777c9b",
   "metadata": {},
   "outputs": [
    {
     "data": {
      "text/plain": [
       "<56469x56469 sparse matrix of type '<class 'numpy.float64'>'\n",
       "\twith 569507 stored elements in COOrdinate format>"
      ]
     },
     "execution_count": 62,
     "metadata": {},
     "output_type": "execute_result"
    }
   ],
   "source": [
    "Ainit"
   ]
  },
  {
   "cell_type": "code",
   "execution_count": null,
   "id": "d963a261",
   "metadata": {},
   "outputs": [],
   "source": []
  }
 ],
 "metadata": {
  "kernelspec": {
   "display_name": "Python 3 (ipykernel)",
   "language": "python",
   "name": "python3"
  },
  "language_info": {
   "codemirror_mode": {
    "name": "ipython",
    "version": 3
   },
   "file_extension": ".py",
   "mimetype": "text/x-python",
   "name": "python",
   "nbconvert_exporter": "python",
   "pygments_lexer": "ipython3",
   "version": "3.11.8"
  }
 },
 "nbformat": 4,
 "nbformat_minor": 5
}
