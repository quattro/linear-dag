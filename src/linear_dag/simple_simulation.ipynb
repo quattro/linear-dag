{
 "cells": [
  {
   "cell_type": "code",
   "id": "initial_id",
   "metadata": {
    "ExecuteTime": {
     "end_time": "2024-06-21T13:52:10.823035Z",
     "start_time": "2024-06-21T13:52:10.012838Z"
    }
   },
   "source": [
    "import linear_dag as ld\n",
    "import networkx as nx\n",
    "import numpy as np"
   ],
   "outputs": [],
   "execution_count": 1
  },
  {
   "metadata": {},
   "cell_type": "markdown",
   "source": "First, we simulate some genotypes from one several fixed ARGs. For example, \"2-1\" corresponds to a simulation with 4 ancestral haplotypes and 3 mutations. There is a root haplotype with a mutation and two children, each also having a mutation, and those children recombine into the third haplotype, which does not have a mutation of its own.",
   "id": "4d5c098d3f9c9879"
  },
  {
   "cell_type": "code",
   "id": "a1f61d6538733dfc",
   "metadata": {
    "ExecuteTime": {
     "end_time": "2024-06-21T13:52:10.827011Z",
     "start_time": "2024-06-21T13:52:10.823963Z"
    }
   },
   "source": [
    "number_of_samples = 100\n",
    "sim = ld.Simulate.simulate_example(example=\"2-1\", ns=number_of_samples)"
   ],
   "outputs": [],
   "execution_count": 2
  },
  {
   "metadata": {},
   "cell_type": "markdown",
   "source": "`sim` is a linearARG instance itself, and it also holds genotypes.",
   "id": "58e8ad643e144cd8"
  },
  {
   "metadata": {
    "ExecuteTime": {
     "end_time": "2024-06-21T13:52:10.877580Z",
     "start_time": "2024-06-21T13:52:10.875595Z"
    }
   },
   "cell_type": "code",
   "source": "print(sim.shape, sim.A.shape, sim.sample_haplotypes.shape)",
   "id": "395c49274992a5a0",
   "outputs": [
    {
     "name": "stdout",
     "output_type": "stream",
     "text": [
      "(100, 3) (104, 104) (100, 3)\n"
     ]
    }
   ],
   "execution_count": 3
  },
  {
   "metadata": {},
   "cell_type": "markdown",
   "source": "In `sim.A`, the last four rows/columns correspond to ancestral haplotypes.",
   "id": "cff60c1b34604dbb"
  },
  {
   "metadata": {
    "ExecuteTime": {
     "end_time": "2024-06-21T13:52:11.412273Z",
     "start_time": "2024-06-21T13:52:11.409201Z"
    }
   },
   "cell_type": "code",
   "source": "print(sim.A[number_of_samples:,:][:,number_of_samples:].todense())",
   "id": "b320aae0ece6b58a",
   "outputs": [
    {
     "name": "stdout",
     "output_type": "stream",
     "text": [
      "[[ 0.  0.  0.  0.]\n",
      " [ 1.  0.  0.  0.]\n",
      " [ 1.  0.  0.  0.]\n",
      " [-1.  1.  1.  0.]]\n"
     ]
    }
   ],
   "execution_count": 4
  },
  {
   "metadata": {},
   "cell_type": "markdown",
   "source": "This is the same matrix:",
   "id": "165e4243c2745527"
  },
  {
   "metadata": {
    "ExecuteTime": {
     "end_time": "2024-06-21T13:52:11.822845Z",
     "start_time": "2024-06-21T13:52:11.820134Z"
    }
   },
   "cell_type": "code",
   "source": "print(sim.A_ancestral)",
   "id": "7211d45a714d4859",
   "outputs": [
    {
     "name": "stdout",
     "output_type": "stream",
     "text": [
      "[[ 0.  0.  0.  0.]\n",
      " [ 1.  0.  0.  0.]\n",
      " [ 1.  0.  0.  0.]\n",
      " [-1.  1.  1.  0.]]\n"
     ]
    }
   ],
   "execution_count": 5
  },
  {
   "metadata": {},
   "cell_type": "markdown",
   "source": "We can reconstruct the linear ARG from the genotype matrix.",
   "id": "733ecdf7bc12a63f"
  },
  {
   "metadata": {
    "ExecuteTime": {
     "end_time": "2024-06-21T13:52:12.159442Z",
     "start_time": "2024-06-21T13:52:12.154061Z"
    }
   },
   "cell_type": "code",
   "source": "linarg_initial = ld.LinearARG.from_genotypes(sim.sample_haplotypes)",
   "id": "377e35ed1486d3f2",
   "outputs": [],
   "execution_count": 6
  },
  {
   "metadata": {},
   "cell_type": "markdown",
   "source": "However, this has extra edges due to the missing recombination node:",
   "id": "7cfe04dd2791fc7b"
  },
  {
   "metadata": {
    "ExecuteTime": {
     "end_time": "2024-06-21T13:52:12.500130Z",
     "start_time": "2024-06-21T13:52:12.496730Z"
    }
   },
   "cell_type": "code",
   "source": "linarg_initial.nnz, sim.nnz",
   "id": "3ed585e076045059",
   "outputs": [
    {
     "data": {
      "text/plain": [
       "(160, 105)"
      ]
     },
     "execution_count": 7,
     "metadata": {},
     "output_type": "execute_result"
    }
   ],
   "execution_count": 7
  },
  {
   "metadata": {},
   "cell_type": "markdown",
   "source": "linarg_initial has no recombination nodes, so it gives us the reduced graph of the simulated linear ARG:",
   "id": "15660999d3cd31b6"
  },
  {
   "metadata": {
    "ExecuteTime": {
     "end_time": "2024-06-21T13:52:14.012977Z",
     "start_time": "2024-06-21T13:52:14.008878Z"
    }
   },
   "cell_type": "code",
   "source": "print(linarg_initial.A[number_of_samples:,:][:,number_of_samples:].todense())",
   "id": "f24426aeb3d21116",
   "outputs": [
    {
     "name": "stdout",
     "output_type": "stream",
     "text": [
      "[[0 0 0]\n",
      " [1 0 0]\n",
      " [1 0 0]]\n"
     ]
    }
   ],
   "execution_count": 8
  },
  {
   "metadata": {},
   "cell_type": "markdown",
   "source": "We can find the recombination node and improve sparsity as follows:",
   "id": "e62271514aded9c3"
  },
  {
   "metadata": {
    "ExecuteTime": {
     "end_time": "2024-06-21T13:52:15.246577Z",
     "start_time": "2024-06-21T13:52:15.242629Z"
    }
   },
   "cell_type": "code",
   "source": [
    "linarg_recom = linarg_initial.unweight()\n",
    "linarg_recom = linarg_recom.find_recombinations()\n",
    "linarg_recom.nnz"
   ],
   "id": "ac9d2937bc643249",
   "outputs": [
    {
     "name": "stdout",
     "output_type": "stream",
     "text": [
      "All properties hold for the Trios instance.\n"
     ]
    },
    {
     "data": {
      "text/plain": [
       "107"
      ]
     },
     "execution_count": 9,
     "metadata": {},
     "output_type": "execute_result"
    }
   ],
   "execution_count": 9
  },
  {
   "metadata": {},
   "cell_type": "markdown",
   "source": "This isn't exactly the original linear ARG, as it has 2 additional edges. One of the things I'm currently working on is to improve the find_recombinations function such that it doesn't create these. Here's where those extra edges come from:",
   "id": "c05767ce5d7d5d1f"
  },
  {
   "metadata": {
    "ExecuteTime": {
     "end_time": "2024-06-21T13:52:16.451396Z",
     "start_time": "2024-06-21T13:52:16.449031Z"
    }
   },
   "cell_type": "code",
   "source": [
    "print(linarg_recom.A[number_of_samples:,:][:,number_of_samples:].todense())\n",
    "print(linarg_recom.variant_indices - number_of_samples)"
   ],
   "id": "7fd3178b617a7e17",
   "outputs": [
    {
     "name": "stdout",
     "output_type": "stream",
     "text": [
      "[[ 0  0  0  0  0  0]\n",
      " [-1  0  0  0  0  0]\n",
      " [ 1  0  0  0  0  0]\n",
      " [ 1  0  0  0  0  0]\n",
      " [ 0  1  1  0  0  0]\n",
      " [ 0  0  0  1  1  0]]\n",
      "[0 2 3]\n"
     ]
    }
   ],
   "execution_count": 10
  },
  {
   "metadata": {},
   "cell_type": "markdown",
   "source": "Notice that the `-1` edge has been given its own node (node 1), and additionally, the recombination event has been split into two separate events. The first event produces a recombination between nodes 1 and 2 (node 4), and the second produces a recombination between node 4 and node 3. Let's check that the only nodes that have samples as descendants are nodes 0, 2, 3, and 5:",
   "id": "145273e0c842aab8"
  },
  {
   "metadata": {
    "ExecuteTime": {
     "end_time": "2024-06-21T13:52:17.502423Z",
     "start_time": "2024-06-21T13:52:17.499746Z"
    }
   },
   "cell_type": "code",
   "source": [
    "samples = linarg_recom.sample_indices\n",
    "ancestors_with_children = number_of_samples + np.array([0,2,3,5])\n",
    "ancestors_without_children = number_of_samples + np.array([1,4])\n",
    "\n",
    "print(linarg_recom.A[samples, :][:, ancestors_with_children].nnz)\n",
    "print(linarg_recom.A[samples, :][:, ancestors_without_children].nnz)\n"
   ],
   "id": "f1a6ea8f1e1f2ed5",
   "outputs": [
    {
     "name": "stdout",
     "output_type": "stream",
     "text": [
      "100\n",
      "0\n"
     ]
    }
   ],
   "execution_count": 11
  },
  {
   "metadata": {},
   "cell_type": "markdown",
   "source": "To verify that the linear ARGs are equivalent, we can compute allele counts as follows:",
   "id": "5fdf6f3de66f3fc9"
  },
  {
   "metadata": {
    "ExecuteTime": {
     "end_time": "2024-06-21T13:52:19.085532Z",
     "start_time": "2024-06-21T13:52:19.075409Z"
    }
   },
   "cell_type": "code",
   "source": [
    "linarg_triangular = linarg_recom.make_triangular() # re-orders rows + columns s.t. adjacency matrix is triangular\n",
    "sim_triangular = sim.make_triangular()\n",
    "\n",
    "v = np.ones(number_of_samples)\n",
    "allele_count_from_X = v @ sim.sample_haplotypes\n",
    "allele_count_from_linarg = v @ linarg_triangular\n",
    "allele_count_from_sim = v @ sim_triangular\n",
    "\n",
    "print(allele_count_from_X, allele_count_from_linarg, allele_count_from_sim)"
   ],
   "id": "8e8648c4f369b06c",
   "outputs": [
    {
     "name": "stdout",
     "output_type": "stream",
     "text": [
      "[100.  52.  50.] [[100.  52.  50.]] [[100.  52.  50.]]\n"
     ]
    }
   ],
   "execution_count": 12
  }
 ],
 "metadata": {
  "kernelspec": {
   "display_name": "Python 3 (ipykernel)",
   "language": "python",
   "name": "python3"
  },
  "language_info": {
   "codemirror_mode": {
    "name": "ipython",
    "version": 3
   },
   "file_extension": ".py",
   "mimetype": "text/x-python",
   "name": "python",
   "nbconvert_exporter": "python",
   "pygments_lexer": "ipython3",
   "version": "3.12.3"
  }
 },
 "nbformat": 4,
 "nbformat_minor": 5
}
